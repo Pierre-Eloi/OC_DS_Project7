{
 "cells": [
  {
   "cell_type": "markdown",
   "id": "blessed-arnold",
   "metadata": {},
   "source": [
    "# Project 7: Implement a scoring model.\n",
    "\n",
    "*Pierre-Eloi Ragetly*\n",
    "\n",
    "This project is part of the Data Scientist path proposed by OpenClassrooms."
   ]
  },
  {
   "cell_type": "code",
   "execution_count": 1,
   "id": "described-blind",
   "metadata": {
    "ExecuteTime": {
     "end_time": "2021-10-28T18:06:14.524189Z",
     "start_time": "2021-10-28T18:06:13.433656Z"
    }
   },
   "outputs": [],
   "source": [
    "# File system management\n",
    "import os\n",
    "\n",
    "# Get execution time to compare models\n",
    "import time\n",
    "\n",
    "# Import numpy and pandas for data manipulation\n",
    "import numpy as np\n",
    "import pandas as pd\n",
    "\n",
    "# to make this notebook's output stable across runs\n",
    "np.random.seed(42)\n",
    "\n",
    "# Suppress warnings \n",
    "import warnings\n",
    "warnings.filterwarnings('ignore')\n",
    "\n",
    "# To plot pretty figures\n",
    "%matplotlib inline\n",
    "import matplotlib as mpl\n",
    "import matplotlib.pyplot as plt\n",
    "import seaborn as sns\n",
    "plt.style.use('fivethirtyeight')\n",
    "plt.rcParams.update({'axes.edgecolor': 'white',\n",
    "                     'axes.facecolor': 'white',\n",
    "                     'axes.linewidth': 2.0,\n",
    "                     'figure.facecolor': 'white'})\n",
    "\n",
    "# Where to save the figures\n",
    "def save_fig(fig_id, tight_layout=True):\n",
    "    folder_path = os.path.join(\"charts\")\n",
    "    if not os.path.isdir(folder_path):\n",
    "        os.makedirs(folder_path)\n",
    "    path = os.path.join(\"charts\", fig_id + \".png\")\n",
    "    if tight_layout:\n",
    "        plt.tight_layout()\n",
    "    plt.savefig(path, format='png', dpi=300)\n",
    "\n",
    "# Get all functions required to prepare data\n",
    "from functions.preprocessing import *\n",
    "from functions.modeling import *"
   ]
  },
  {
   "cell_type": "markdown",
   "id": "prostate-chair",
   "metadata": {
    "toc": true
   },
   "source": [
    "<h1>Table of Contents<span class=\"tocSkip\"></span></h1>\n",
    "<div class=\"toc\"><ul class=\"toc-item\"><li><span><a href=\"#Prepare-the-data\" data-toc-modified-id=\"Prepare-the-data-1\"><span class=\"toc-item-num\">1&nbsp;&nbsp;</span>Prepare the data</a></span><ul class=\"toc-item\"><li><span><a href=\"#Read-in-data\" data-toc-modified-id=\"Read-in-data-1.1\"><span class=\"toc-item-num\">1.1&nbsp;&nbsp;</span>Read in data</a></span></li><li><span><a href=\"#Transform-data\" data-toc-modified-id=\"Transform-data-1.2\"><span class=\"toc-item-num\">1.2&nbsp;&nbsp;</span>Transform data</a></span></li></ul></li><li><span><a href=\"#Shortlist-Promising-Models\" data-toc-modified-id=\"Shortlist-Promising-Models-2\"><span class=\"toc-item-num\">2&nbsp;&nbsp;</span>Shortlist Promising Models</a></span><ul class=\"toc-item\"><li><span><a href=\"#Select-a-Performance-Measure\" data-toc-modified-id=\"Select-a-Performance-Measure-2.1\"><span class=\"toc-item-num\">2.1&nbsp;&nbsp;</span>Select a Performance Measure</a></span></li><li><span><a href=\"#Establish-a-performance-baseline-with-a-dummy-classifier\" data-toc-modified-id=\"Establish-a-performance-baseline-with-a-dummy-classifier-2.2\"><span class=\"toc-item-num\">2.2&nbsp;&nbsp;</span>Establish a performance baseline with a dummy classifier</a></span></li><li><span><a href=\"#Train-quick-and-dirty-models-and-compare-their-performance\" data-toc-modified-id=\"Train-quick-and-dirty-models-and-compare-their-performance-2.3\"><span class=\"toc-item-num\">2.3&nbsp;&nbsp;</span>Train quick and dirty models and compare their performance</a></span></li></ul></li><li><span><a href=\"#Select-a-final-model\" data-toc-modified-id=\"Select-a-final-model-3\"><span class=\"toc-item-num\">3&nbsp;&nbsp;</span>Select a final model</a></span><ul class=\"toc-item\"><li><span><a href=\"#Data-augmentation-with-SMOTE\" data-toc-modified-id=\"Data-augmentation-with-SMOTE-3.1\"><span class=\"toc-item-num\">3.1&nbsp;&nbsp;</span>Data augmentation with SMOTE</a></span></li><li><span><a href=\"#Use-as-much-data-as-possible-by-merging-all-tables\" data-toc-modified-id=\"Use-as-much-data-as-possible-by-merging-all-tables-3.2\"><span class=\"toc-item-num\">3.2&nbsp;&nbsp;</span>Use as much data as possible by merging all tables</a></span></li><li><span><a href=\"#Fine-Tune-the-hyperparameters-using-cross-validation\" data-toc-modified-id=\"Fine-Tune-the-hyperparameters-using-cross-validation-3.3\"><span class=\"toc-item-num\">3.3&nbsp;&nbsp;</span>Fine-Tune the hyperparameters using cross-validation</a></span></li></ul></li><li><span><a href=\"#Analyse-feature-importance-with-SHAP\" data-toc-modified-id=\"Analyse-feature-importance-with-SHAP-4\"><span class=\"toc-item-num\">4&nbsp;&nbsp;</span>Analyse feature importance with SHAP</a></span></li></ul></div>"
   ]
  },
  {
   "cell_type": "markdown",
   "id": "soviet-designation",
   "metadata": {},
   "source": [
    "## Prepare the data"
   ]
  },
  {
   "cell_type": "markdown",
   "id": "manual-metabolism",
   "metadata": {},
   "source": [
    "### Read in data"
   ]
  },
  {
   "cell_type": "code",
   "execution_count": 2,
   "id": "incredible-imagination",
   "metadata": {
    "ExecuteTime": {
     "end_time": "2021-10-28T18:06:45.476624Z",
     "start_time": "2021-10-28T18:06:14.526173Z"
    }
   },
   "outputs": [
    {
     "name": "stdout",
     "output_type": "stream",
     "text": [
      "1) application_test.csv\n",
      "2) application_train.csv\n",
      "3) bureau.csv\n",
      "4) bureau_balance.csv\n",
      "5) credit_card_balance.csv\n",
      "6) HomeCredit_columns_description.csv\n",
      "7) installments_payments.csv\n",
      "8) POS_CASH_balance.csv\n",
      "9) previous_application.csv\n",
      "10) sample_submission.csv\n"
     ]
    }
   ],
   "source": [
    "list_files = sorted(os.listdir(\"data/\"), key=str.lower)\n",
    "for i, file in enumerate(list_files):\n",
    "    print(\"{}) {}\".format(i+1, file))\n",
    "\n",
    "app_test = pd.read_csv(\"data/\" + list_files[0])\n",
    "app_train = pd.read_csv(\"data/\" + list_files[1])\n",
    "bureau =  pd.read_csv(\"data/\" + list_files[2])\n",
    "b_b = pd.read_csv(\"data/\" + list_files[3])\n",
    "cc_balance = pd.read_csv(\"data/\" + list_files[4])\n",
    "ins_payments = pd.read_csv(\"data/\" + list_files[6])\n",
    "pos_cash = pd.read_csv(\"data/\" + list_files[7])\n",
    "prev_app = pd.read_csv(\"data/\" + list_files[8])"
   ]
  },
  {
   "cell_type": "markdown",
   "id": "quantitative-animation",
   "metadata": {},
   "source": [
    "### Transform data"
   ]
  },
  {
   "cell_type": "code",
   "execution_count": 3,
   "id": "executed-recommendation",
   "metadata": {
    "ExecuteTime": {
     "end_time": "2021-10-28T18:06:45.488707Z",
     "start_time": "2021-10-28T18:06:45.479398Z"
    }
   },
   "outputs": [],
   "source": [
    "from sklearn.impute import SimpleImputer\n",
    "from sklearn.preprocessing import StandardScaler, MaxAbsScaler\n",
    "from sklearn.preprocessing import OneHotEncoder\n",
    "from sklearn.preprocessing import PolynomialFeatures\n",
    "from sklearn.preprocessing import FunctionTransformer\n",
    "from sklearn.pipeline import Pipeline\n",
    "from sklearn.compose import ColumnTransformer"
   ]
  },
  {
   "cell_type": "code",
   "execution_count": 4,
   "id": "visible-crowd",
   "metadata": {
    "ExecuteTime": {
     "end_time": "2021-10-28T18:06:46.800500Z",
     "start_time": "2021-10-28T18:06:45.490595Z"
    }
   },
   "outputs": [],
   "source": [
    "# Drop the target and the ID of input data\n",
    "X = app_train.drop(['SK_ID_CURR', 'TARGET'], axis=1)\n",
    "\n",
    "# Get the categorical attributes\n",
    "cat_att = list(X.select_dtypes('object'))\n",
    "\n",
    "# Get the values to fill missing values\n",
    "values = drop_na_att(X[cat_att]).value_counts().index[0]\n",
    "\n",
    "# Get the numerical attributes\n",
    "num_att = list(X.select_dtypes(['int', 'float']))\n",
    "ord_att = list(X[num_att].loc[:, X[num_att].nunique()<6])\n",
    "sparse_att = [c for c in num_att\n",
    "              if c not in ord_att\n",
    "              and (X[c]==0).sum() > 0.5*len(X)]\n",
    "dense_att = [c for c in num_att\n",
    "             if c not in ord_att\n",
    "             and c not in sparse_att]\n",
    "filtered_dense_att = list(drop_na_att(X[dense_att])) + ['DAYS_EMPLOYED_ANOM']\n",
    "\n",
    "# Create a pipeline with an encoder\n",
    "# drop the first category in each feature with two categories (drop='if_binary')\n",
    "cat_pipeline = Pipeline([\n",
    "               ('filter', FunctionTransformer(drop_na_att)),               \n",
    "               ('imputer', FunctionTransformer(impute_cat_att,\n",
    "                                               kw_args={'values': values})),\n",
    "               ('encoder', OneHotEncoder(drop='if_binary')),\n",
    "               ])\n",
    "\n",
    "# Pipeline to prepare numerical ordinal features\n",
    "ord_pipeline = Pipeline([\n",
    "               ('filter', FunctionTransformer(drop_na_att)),\n",
    "               ('imputer', SimpleImputer(strategy='most_frequent')),\n",
    "               ])\n",
    "\n",
    "# Pipeline to prepare sparse features with at least 6 distinct values\n",
    "sparse_pipeline = Pipeline([\n",
    "                  ('filter', FunctionTransformer(drop_na_att)),\n",
    "                  ('cleaner', FunctionTransformer(fix_sparse_anomalies)),\n",
    "                  ('imputer', SimpleImputer(strategy='most_frequent')),\n",
    "                  ('scaler', MaxAbsScaler())\n",
    "                  ])\n",
    "\n",
    "# Pipeline to prepare dense features with at least 6 distinct values\n",
    "dense_pipeline = Pipeline([\n",
    "                 ('filter', FunctionTransformer(drop_na_att)),\n",
    "                 ('cleaner', FunctionTransformer(fix_dense_anomalies)),\n",
    "                 ('imputer', SimpleImputer()),\n",
    "                 ('poly_adder', FunctionTransformer(add_polynomial_att,\n",
    "                                                    kw_args={'names': filtered_dense_att})),\n",
    "                 ('domain_adder', FunctionTransformer(add_domain_att)),\n",
    "                 ('skew_transformer', FunctionTransformer(tr_skew_att)),\n",
    "                 ('scaler', StandardScaler())\n",
    "                 ])\n",
    "\n",
    "# Pipeline to prepare all data\n",
    "full_pipeline = ColumnTransformer([\n",
    "                ('cat', cat_pipeline, cat_att),\n",
    "                ('ordinal', ord_pipeline, ord_att),\n",
    "                ('sparse', sparse_pipeline, sparse_att),\n",
    "                ('dense', dense_pipeline, dense_att),\n",
    "                ])"
   ]
  },
  {
   "cell_type": "code",
   "execution_count": 5,
   "id": "resistant-vinyl",
   "metadata": {
    "ExecuteTime": {
     "end_time": "2021-10-28T18:06:51.048462Z",
     "start_time": "2021-10-28T18:06:46.802007Z"
    }
   },
   "outputs": [
    {
     "data": {
      "text/html": [
       "<div>\n",
       "<style scoped>\n",
       "    .dataframe tbody tr th:only-of-type {\n",
       "        vertical-align: middle;\n",
       "    }\n",
       "\n",
       "    .dataframe tbody tr th {\n",
       "        vertical-align: top;\n",
       "    }\n",
       "\n",
       "    .dataframe thead th {\n",
       "        text-align: right;\n",
       "    }\n",
       "</style>\n",
       "<table border=\"1\" class=\"dataframe\">\n",
       "  <thead>\n",
       "    <tr style=\"text-align: right;\">\n",
       "      <th></th>\n",
       "      <th>NAME_CONTRACT_TYPE_Revolving loans</th>\n",
       "      <th>CODE_GENDER_F</th>\n",
       "      <th>CODE_GENDER_M</th>\n",
       "      <th>CODE_GENDER_XNA</th>\n",
       "      <th>FLAG_OWN_CAR_Y</th>\n",
       "      <th>FLAG_OWN_REALTY_Y</th>\n",
       "      <th>NAME_TYPE_SUITE_Children</th>\n",
       "      <th>NAME_TYPE_SUITE_Family</th>\n",
       "      <th>NAME_TYPE_SUITE_Group of people</th>\n",
       "      <th>NAME_TYPE_SUITE_Other_A</th>\n",
       "      <th>...</th>\n",
       "      <th>AMT_REQ_CREDIT_BUREAU_YEAR</th>\n",
       "      <th>DAYS_EMPLOYED_ANOM</th>\n",
       "      <th>EXT_SOURCE_2^2</th>\n",
       "      <th>EXT_SOURCE_2 EXT_SOURCE_3</th>\n",
       "      <th>EXT_SOURCE_3^2</th>\n",
       "      <th>DAYS_EMPLOYED_PERC</th>\n",
       "      <th>CREDIT_INCOME_PERC</th>\n",
       "      <th>INCOME_PER_PERSON</th>\n",
       "      <th>ANNUITY_INCOME_PERC</th>\n",
       "      <th>CREDIT_TERM</th>\n",
       "    </tr>\n",
       "  </thead>\n",
       "  <tbody>\n",
       "    <tr>\n",
       "      <th>0</th>\n",
       "      <td>0.0</td>\n",
       "      <td>0.0</td>\n",
       "      <td>1.0</td>\n",
       "      <td>0.0</td>\n",
       "      <td>0.0</td>\n",
       "      <td>1.0</td>\n",
       "      <td>0.0</td>\n",
       "      <td>0.0</td>\n",
       "      <td>0.0</td>\n",
       "      <td>0.0</td>\n",
       "      <td>...</td>\n",
       "      <td>-5.176655e-01</td>\n",
       "      <td>-0.468635</td>\n",
       "      <td>-1.350227</td>\n",
       "      <td>-1.632233</td>\n",
       "      <td>-1.608672</td>\n",
       "      <td>-0.685451</td>\n",
       "      <td>-0.755852</td>\n",
       "      <td>1.548683</td>\n",
       "      <td>-0.629679</td>\n",
       "      <td>0.326909</td>\n",
       "    </tr>\n",
       "    <tr>\n",
       "      <th>1</th>\n",
       "      <td>0.0</td>\n",
       "      <td>1.0</td>\n",
       "      <td>0.0</td>\n",
       "      <td>0.0</td>\n",
       "      <td>0.0</td>\n",
       "      <td>0.0</td>\n",
       "      <td>0.0</td>\n",
       "      <td>1.0</td>\n",
       "      <td>0.0</td>\n",
       "      <td>0.0</td>\n",
       "      <td>...</td>\n",
       "      <td>-1.092866e+00</td>\n",
       "      <td>-0.468635</td>\n",
       "      <td>0.501725</td>\n",
       "      <td>0.369212</td>\n",
       "      <td>-0.180027</td>\n",
       "      <td>-0.652211</td>\n",
       "      <td>0.567970</td>\n",
       "      <td>0.912393</td>\n",
       "      <td>-0.510993</td>\n",
       "      <td>-1.178242</td>\n",
       "    </tr>\n",
       "    <tr>\n",
       "      <th>2</th>\n",
       "      <td>1.0</td>\n",
       "      <td>0.0</td>\n",
       "      <td>1.0</td>\n",
       "      <td>0.0</td>\n",
       "      <td>1.0</td>\n",
       "      <td>1.0</td>\n",
       "      <td>0.0</td>\n",
       "      <td>0.0</td>\n",
       "      <td>0.0</td>\n",
       "      <td>0.0</td>\n",
       "      <td>...</td>\n",
       "      <td>-1.092866e+00</td>\n",
       "      <td>-0.468635</td>\n",
       "      <td>0.046658</td>\n",
       "      <td>0.993350</td>\n",
       "      <td>1.424589</td>\n",
       "      <td>-1.222743</td>\n",
       "      <td>-0.761159</td>\n",
       "      <td>-0.175347</td>\n",
       "      <td>-0.888140</td>\n",
       "      <td>-0.155923</td>\n",
       "    </tr>\n",
       "    <tr>\n",
       "      <th>3</th>\n",
       "      <td>0.0</td>\n",
       "      <td>1.0</td>\n",
       "      <td>0.0</td>\n",
       "      <td>0.0</td>\n",
       "      <td>0.0</td>\n",
       "      <td>1.0</td>\n",
       "      <td>0.0</td>\n",
       "      <td>0.0</td>\n",
       "      <td>0.0</td>\n",
       "      <td>0.0</td>\n",
       "      <td>...</td>\n",
       "      <td>-3.831603e-16</td>\n",
       "      <td>-0.468635</td>\n",
       "      <td>0.710676</td>\n",
       "      <td>0.471723</td>\n",
       "      <td>-0.180027</td>\n",
       "      <td>0.151233</td>\n",
       "      <td>-0.558658</td>\n",
       "      <td>-0.175347</td>\n",
       "      <td>0.463536</td>\n",
       "      <td>1.830833</td>\n",
       "    </tr>\n",
       "    <tr>\n",
       "      <th>4</th>\n",
       "      <td>0.0</td>\n",
       "      <td>0.0</td>\n",
       "      <td>1.0</td>\n",
       "      <td>0.0</td>\n",
       "      <td>0.0</td>\n",
       "      <td>1.0</td>\n",
       "      <td>0.0</td>\n",
       "      <td>0.0</td>\n",
       "      <td>0.0</td>\n",
       "      <td>0.0</td>\n",
       "      <td>...</td>\n",
       "      <td>-1.092866e+00</td>\n",
       "      <td>-0.468635</td>\n",
       "      <td>-1.146322</td>\n",
       "      <td>-0.719692</td>\n",
       "      <td>-0.180027</td>\n",
       "      <td>0.086094</td>\n",
       "      <td>0.359119</td>\n",
       "      <td>0.747053</td>\n",
       "      <td>0.028661</td>\n",
       "      <td>-0.490159</td>\n",
       "    </tr>\n",
       "  </tbody>\n",
       "</table>\n",
       "<p>5 rows × 171 columns</p>\n",
       "</div>"
      ],
      "text/plain": [
       "   NAME_CONTRACT_TYPE_Revolving loans  CODE_GENDER_F  CODE_GENDER_M  \\\n",
       "0                                 0.0            0.0            1.0   \n",
       "1                                 0.0            1.0            0.0   \n",
       "2                                 1.0            0.0            1.0   \n",
       "3                                 0.0            1.0            0.0   \n",
       "4                                 0.0            0.0            1.0   \n",
       "\n",
       "   CODE_GENDER_XNA  FLAG_OWN_CAR_Y  FLAG_OWN_REALTY_Y  \\\n",
       "0              0.0             0.0                1.0   \n",
       "1              0.0             0.0                0.0   \n",
       "2              0.0             1.0                1.0   \n",
       "3              0.0             0.0                1.0   \n",
       "4              0.0             0.0                1.0   \n",
       "\n",
       "   NAME_TYPE_SUITE_Children  NAME_TYPE_SUITE_Family  \\\n",
       "0                       0.0                     0.0   \n",
       "1                       0.0                     1.0   \n",
       "2                       0.0                     0.0   \n",
       "3                       0.0                     0.0   \n",
       "4                       0.0                     0.0   \n",
       "\n",
       "   NAME_TYPE_SUITE_Group of people  NAME_TYPE_SUITE_Other_A  ...  \\\n",
       "0                              0.0                      0.0  ...   \n",
       "1                              0.0                      0.0  ...   \n",
       "2                              0.0                      0.0  ...   \n",
       "3                              0.0                      0.0  ...   \n",
       "4                              0.0                      0.0  ...   \n",
       "\n",
       "   AMT_REQ_CREDIT_BUREAU_YEAR  DAYS_EMPLOYED_ANOM  EXT_SOURCE_2^2  \\\n",
       "0               -5.176655e-01           -0.468635       -1.350227   \n",
       "1               -1.092866e+00           -0.468635        0.501725   \n",
       "2               -1.092866e+00           -0.468635        0.046658   \n",
       "3               -3.831603e-16           -0.468635        0.710676   \n",
       "4               -1.092866e+00           -0.468635       -1.146322   \n",
       "\n",
       "   EXT_SOURCE_2 EXT_SOURCE_3  EXT_SOURCE_3^2  DAYS_EMPLOYED_PERC  \\\n",
       "0                  -1.632233       -1.608672           -0.685451   \n",
       "1                   0.369212       -0.180027           -0.652211   \n",
       "2                   0.993350        1.424589           -1.222743   \n",
       "3                   0.471723       -0.180027            0.151233   \n",
       "4                  -0.719692       -0.180027            0.086094   \n",
       "\n",
       "   CREDIT_INCOME_PERC  INCOME_PER_PERSON  ANNUITY_INCOME_PERC  CREDIT_TERM  \n",
       "0           -0.755852           1.548683            -0.629679     0.326909  \n",
       "1            0.567970           0.912393            -0.510993    -1.178242  \n",
       "2           -0.761159          -0.175347            -0.888140    -0.155923  \n",
       "3           -0.558658          -0.175347             0.463536     1.830833  \n",
       "4            0.359119           0.747053             0.028661    -0.490159  \n",
       "\n",
       "[5 rows x 171 columns]"
      ]
     },
     "execution_count": 5,
     "metadata": {},
     "output_type": "execute_result"
    }
   ],
   "source": [
    "# Prepare data\n",
    "y_train = app_train['TARGET']\n",
    "X_train = full_pipeline.fit_transform(X)\n",
    "\n",
    "# Get the name of onehot encoded features\n",
    "onehot_att = list(drop_na_att(X[cat_att]))\n",
    "encoder = OneHotEncoder(drop='if_binary')\n",
    "encoder.fit(impute_cat_att(X[onehot_att], values=values))\n",
    "onehot_att = list(encoder.get_feature_names(onehot_att))\n",
    "# Get the name of polynomial attributes\n",
    "poly_att = ['EXT_SOURCE_2', 'EXT_SOURCE_3']\n",
    "poly_transformer = PolynomialFeatures(degree=2, include_bias=False)\n",
    "poly_transformer.fit(X[poly_att].fillna(X[poly_att].mean()))\n",
    "n = len(poly_att)\n",
    "poly_att = poly_transformer.get_feature_names(input_features=poly_att)[n:]\n",
    "# Get the name of domain attributes\n",
    "domain_att = ['DAYS_EMPLOYED_PERC', 'CREDIT_INCOME_PERC', 'INCOME_PER_PERSON',\n",
    "              'ANNUITY_INCOME_PERC', 'CREDIT_TERM']\n",
    "# Get the name of all attributes\n",
    "extra_att = ['DAYS_EMPLOYED_ANOM'] + poly_att + domain_att\n",
    "final_att = onehot_att + list(drop_na_att(X[num_att])) + extra_att\n",
    "\n",
    "df_train = pd.DataFrame(X_train, columns=final_att)\n",
    "df_train.head()"
   ]
  },
  {
   "cell_type": "markdown",
   "id": "rubber-international",
   "metadata": {},
   "source": [
    "## Shortlist Promising Models"
   ]
  },
  {
   "cell_type": "markdown",
   "id": "patent-sailing",
   "metadata": {},
   "source": [
    "### Select a Performance Measure"
   ]
  },
  {
   "cell_type": "code",
   "execution_count": 6,
   "id": "extended-basket",
   "metadata": {
    "ExecuteTime": {
     "end_time": "2021-10-28T18:06:51.053766Z",
     "start_time": "2021-10-28T18:06:51.049912Z"
    }
   },
   "outputs": [
    {
     "name": "stdout",
     "output_type": "stream",
     "text": [
      "Percentage of the positive class: 8.1%\n"
     ]
    }
   ],
   "source": [
    "print(f\"Percentage of the positive class: \\\n",
    "{app_train['TARGET'].value_counts()[1]/len(app_train):.1%}\")"
   ]
  },
  {
   "cell_type": "markdown",
   "id": "secure-rating",
   "metadata": {},
   "source": [
    "Though *accuracy* is generally the first performance used for binary classification, it is seldom the best choice when we are dealing with *skewed dataset*, like the one we have.  \n",
    "To prove it, let's take a very dumb classifier that just classifies every instance in the *negative* class (meaning the majority class). We would get an accuracy of $92\\%$, not bad for such dumb classifier! Thus, no matter the model used, the accuracy will be high. It will be difficult to know if our model really learn something, whether it has skill on the dataset.\n",
    "\n",
    "There are much better way to evaluate the performance of a classifier, all depends on the model's objective. Let's remind ourselves the objective: **predict whether a new client will be in default or not.** It will cost much more money for the bank to grant a loan to a person that will be not able to repay it, than the opposite, refuse to approve a loan for someone who could pay it back. Meaning we care more about *False Negative* than *False Positive*, in other words, whe prefer having a high *Recall* than a high *Precision*.\n",
    "\n",
    "The $F_1$ score is often used for imbalanced data and binary classification problems. It is the *harmonic mean* of *Precision* and *Recall*:\n",
    "\n",
    "$\\displaystyle F_1 = 2 \\times \\frac {precision \\times recall}{precision + recall}$\n",
    "\n",
    "The $F_1$ score favors classifiers that have similar *precision* and *recall*. As said above, this is not what we want. Then, we will use another score typically used for such problem: the *AUC* score. AUC standing for \"Area Under the Curve\". Two curves can be used to compute the AUC:\n",
    "- the Precision-Recall (PR) curve\n",
    "- the Receiver Operating Characteristic (ROC) curve\n",
    "\n",
    "The former is prefered when:\n",
    "- the positive class is rare or,\n",
    "- you care more about the false positives than the false negative.\n",
    "\n",
    "Here, we definitely care more about the false negatives than false postives, but the dataset is severely imbalanced with the positive class as the minority one. So we should use the PR curve. However, as we will see in the next section, we will use a technique named SMOTE (Synthetic Minority Oversampling Technique) to oversample the minority class, and as we are more concern by the recall than the precision, **we will compute the ROC AUC.**"
   ]
  },
  {
   "cell_type": "markdown",
   "id": "interracial-diversity",
   "metadata": {},
   "source": [
    "### Establish a performance baseline with a dummy classifier"
   ]
  },
  {
   "cell_type": "markdown",
   "id": "loving-advocacy",
   "metadata": {},
   "source": [
    "A performance baseline provides a minimum score above which a model is considered to have skill on the dataset. It provides a line by which all other algorithms can be compared. A baseline can be established using a naive classifier, such as predicting the most frequent class label for all examples in the dataset.\n",
    "\n",
    "Each metric requires the careful choice of a specific naive classification strategy that achieves the appropriate \"*no skill*\" performance. A no-skill model has a ROC AUC of 0.5 and can be achieved by predicting class labels randomly, while respecting the training set's class distribution (e.g. 8.1% for the positive class).  \n",
    "We will use the \"*stratified*\" strategy of the sklearn class `DummyClassifier`."
   ]
  },
  {
   "cell_type": "code",
   "execution_count": 7,
   "id": "athletic-external",
   "metadata": {
    "ExecuteTime": {
     "end_time": "2021-10-28T18:06:51.952824Z",
     "start_time": "2021-10-28T18:06:51.055361Z"
    }
   },
   "outputs": [
    {
     "name": "stdout",
     "output_type": "stream",
     "text": [
      "ROC AUC for the dummy classifier: 0.50\n"
     ]
    }
   ],
   "source": [
    "from sklearn.dummy import DummyClassifier\n",
    "from sklearn.model_selection import StratifiedKFold\n",
    "from sklearn.model_selection import cross_val_score\n",
    "\n",
    "# Train a dummy classifier\n",
    "dummy_clf = DummyClassifier(strategy='stratified')\n",
    "\n",
    "# Get the ROC AUC\n",
    "cv = StratifiedKFold(5, shuffle=True, random_state=42)\n",
    "dummy_scores = cross_val_score(dummy_clf, X_train, y_train,\n",
    "                               scoring='roc_auc', cv=cv, n_jobs=1)\n",
    "print(f\"ROC AUC for the dummy classifier: {dummy_scores.mean():.2f}\")"
   ]
  },
  {
   "cell_type": "markdown",
   "id": "foreign-barbados",
   "metadata": {},
   "source": [
    "### Train quick and dirty models and compare their performance"
   ]
  },
  {
   "cell_type": "code",
   "execution_count": 8,
   "id": "oriental-sleeve",
   "metadata": {
    "ExecuteTime": {
     "end_time": "2021-10-28T18:36:42.714699Z",
     "start_time": "2021-10-28T18:06:51.956200Z"
    }
   },
   "outputs": [
    {
     "data": {
      "text/html": [
       "<div>\n",
       "<style scoped>\n",
       "    .dataframe tbody tr th:only-of-type {\n",
       "        vertical-align: middle;\n",
       "    }\n",
       "\n",
       "    .dataframe tbody tr th {\n",
       "        vertical-align: top;\n",
       "    }\n",
       "\n",
       "    .dataframe thead th {\n",
       "        text-align: right;\n",
       "    }\n",
       "</style>\n",
       "<table border=\"1\" class=\"dataframe\">\n",
       "  <thead>\n",
       "    <tr style=\"text-align: right;\">\n",
       "      <th></th>\n",
       "      <th>fit time (s)</th>\n",
       "      <th>Accuracy</th>\n",
       "      <th>Precision</th>\n",
       "      <th>Recall</th>\n",
       "      <th>F1 Score</th>\n",
       "      <th>ROC AUC</th>\n",
       "    </tr>\n",
       "  </thead>\n",
       "  <tbody>\n",
       "    <tr>\n",
       "      <th>CatBoost Classifier</th>\n",
       "      <td>127.474766</td>\n",
       "      <td>0.919245</td>\n",
       "      <td>0.497786</td>\n",
       "      <td>0.029003</td>\n",
       "      <td>0.054809</td>\n",
       "      <td>0.761160</td>\n",
       "    </tr>\n",
       "    <tr>\n",
       "      <th>LightGBM Classifier</th>\n",
       "      <td>7.140480</td>\n",
       "      <td>0.919626</td>\n",
       "      <td>0.578002</td>\n",
       "      <td>0.016636</td>\n",
       "      <td>0.032338</td>\n",
       "      <td>0.759213</td>\n",
       "    </tr>\n",
       "    <tr>\n",
       "      <th>XGBoost Classifier</th>\n",
       "      <td>161.469346</td>\n",
       "      <td>0.918966</td>\n",
       "      <td>0.470363</td>\n",
       "      <td>0.030332</td>\n",
       "      <td>0.056981</td>\n",
       "      <td>0.754977</td>\n",
       "    </tr>\n",
       "    <tr>\n",
       "      <th>Gradient Boosting Classifier</th>\n",
       "      <td>346.038095</td>\n",
       "      <td>0.919440</td>\n",
       "      <td>0.585031</td>\n",
       "      <td>0.007613</td>\n",
       "      <td>0.015029</td>\n",
       "      <td>0.752521</td>\n",
       "    </tr>\n",
       "    <tr>\n",
       "      <th>Ridge Classifier</th>\n",
       "      <td>1.567144</td>\n",
       "      <td>0.919294</td>\n",
       "      <td>0.713333</td>\n",
       "      <td>0.000524</td>\n",
       "      <td>0.001046</td>\n",
       "      <td>0.742954</td>\n",
       "    </tr>\n",
       "    <tr>\n",
       "      <th>Logistic Regression</th>\n",
       "      <td>2.300124</td>\n",
       "      <td>0.919057</td>\n",
       "      <td>0.474264</td>\n",
       "      <td>0.016073</td>\n",
       "      <td>0.030691</td>\n",
       "      <td>0.739708</td>\n",
       "    </tr>\n",
       "    <tr>\n",
       "      <th>Random Forest Classifier</th>\n",
       "      <td>97.594283</td>\n",
       "      <td>0.919369</td>\n",
       "      <td>0.584665</td>\n",
       "      <td>0.004592</td>\n",
       "      <td>0.009110</td>\n",
       "      <td>0.720067</td>\n",
       "    </tr>\n",
       "    <tr>\n",
       "      <th>SVM - Linear kernel</th>\n",
       "      <td>2.718032</td>\n",
       "      <td>0.919271</td>\n",
       "      <td>0.000000</td>\n",
       "      <td>0.000000</td>\n",
       "      <td>0.000000</td>\n",
       "      <td>0.636286</td>\n",
       "    </tr>\n",
       "    <tr>\n",
       "      <th>K Neighbors Classifier</th>\n",
       "      <td>0.395353</td>\n",
       "      <td>0.912267</td>\n",
       "      <td>0.250831</td>\n",
       "      <td>0.043666</td>\n",
       "      <td>0.074367</td>\n",
       "      <td>0.603188</td>\n",
       "    </tr>\n",
       "    <tr>\n",
       "      <th>Gaussian Naive Bayes</th>\n",
       "      <td>1.343339</td>\n",
       "      <td>0.134067</td>\n",
       "      <td>0.082808</td>\n",
       "      <td>0.965277</td>\n",
       "      <td>0.152530</td>\n",
       "      <td>0.584042</td>\n",
       "    </tr>\n",
       "    <tr>\n",
       "      <th>Decision Tree Classifier</th>\n",
       "      <td>18.773697</td>\n",
       "      <td>0.853719</td>\n",
       "      <td>0.144395</td>\n",
       "      <td>0.164874</td>\n",
       "      <td>0.153954</td>\n",
       "      <td>0.539543</td>\n",
       "    </tr>\n",
       "  </tbody>\n",
       "</table>\n",
       "</div>"
      ],
      "text/plain": [
       "                              fit time (s)  Accuracy  Precision    Recall  \\\n",
       "CatBoost Classifier             127.474766  0.919245   0.497786  0.029003   \n",
       "LightGBM Classifier               7.140480  0.919626   0.578002  0.016636   \n",
       "XGBoost Classifier              161.469346  0.918966   0.470363  0.030332   \n",
       "Gradient Boosting Classifier    346.038095  0.919440   0.585031  0.007613   \n",
       "Ridge Classifier                  1.567144  0.919294   0.713333  0.000524   \n",
       "Logistic Regression               2.300124  0.919057   0.474264  0.016073   \n",
       "Random Forest Classifier         97.594283  0.919369   0.584665  0.004592   \n",
       "SVM - Linear kernel               2.718032  0.919271   0.000000  0.000000   \n",
       "K Neighbors Classifier            0.395353  0.912267   0.250831  0.043666   \n",
       "Gaussian Naive Bayes              1.343339  0.134067   0.082808  0.965277   \n",
       "Decision Tree Classifier         18.773697  0.853719   0.144395  0.164874   \n",
       "\n",
       "                              F1 Score   ROC AUC  \n",
       "CatBoost Classifier           0.054809  0.761160  \n",
       "LightGBM Classifier           0.032338  0.759213  \n",
       "XGBoost Classifier            0.056981  0.754977  \n",
       "Gradient Boosting Classifier  0.015029  0.752521  \n",
       "Ridge Classifier              0.001046  0.742954  \n",
       "Logistic Regression           0.030691  0.739708  \n",
       "Random Forest Classifier      0.009110  0.720067  \n",
       "SVM - Linear kernel           0.000000  0.636286  \n",
       "K Neighbors Classifier        0.074367  0.603188  \n",
       "Gaussian Naive Bayes          0.152530  0.584042  \n",
       "Decision Tree Classifier      0.153954  0.539543  "
      ]
     },
     "execution_count": 8,
     "metadata": {},
     "output_type": "execute_result"
    }
   ],
   "source": [
    "compare_models(X_train, y_train, sort='ROC AUC')"
   ]
  },
  {
   "cell_type": "markdown",
   "id": "legal-crazy",
   "metadata": {},
   "source": [
    "## Select a final model"
   ]
  },
  {
   "cell_type": "markdown",
   "id": "impossible-springer",
   "metadata": {},
   "source": [
    "### Data augmentation with SMOTE"
   ]
  },
  {
   "cell_type": "code",
   "execution_count": 9,
   "id": "verified-facial",
   "metadata": {
    "ExecuteTime": {
     "end_time": "2021-10-28T18:36:52.720081Z",
     "start_time": "2021-10-28T18:36:42.716808Z"
    }
   },
   "outputs": [],
   "source": [
    "from imblearn.over_sampling import SMOTE\n",
    "\n",
    "X_smote, y_smote = SMOTE(random_state=42).fit_resample(X_train, y_train)"
   ]
  },
  {
   "cell_type": "code",
   "execution_count": 10,
   "id": "united-newton",
   "metadata": {
    "ExecuteTime": {
     "end_time": "2021-10-28T18:36:52.725423Z",
     "start_time": "2021-10-28T18:36:52.721549Z"
    }
   },
   "outputs": [
    {
     "data": {
      "text/plain": [
       "(307511, 171)"
      ]
     },
     "execution_count": 10,
     "metadata": {},
     "output_type": "execute_result"
    }
   ],
   "source": [
    "X_train.shape"
   ]
  },
  {
   "cell_type": "code",
   "execution_count": 11,
   "id": "comparative-hindu",
   "metadata": {
    "ExecuteTime": {
     "end_time": "2021-10-28T18:36:52.730668Z",
     "start_time": "2021-10-28T18:36:52.727315Z"
    }
   },
   "outputs": [
    {
     "data": {
      "text/plain": [
       "(565372, 171)"
      ]
     },
     "execution_count": 11,
     "metadata": {},
     "output_type": "execute_result"
    }
   ],
   "source": [
    "X_smote.shape"
   ]
  },
  {
   "cell_type": "code",
   "execution_count": 12,
   "id": "trying-independence",
   "metadata": {
    "ExecuteTime": {
     "end_time": "2021-10-28T20:08:11.009282Z",
     "start_time": "2021-10-28T18:36:52.732272Z"
    }
   },
   "outputs": [
    {
     "data": {
      "text/html": [
       "<div>\n",
       "<style scoped>\n",
       "    .dataframe tbody tr th:only-of-type {\n",
       "        vertical-align: middle;\n",
       "    }\n",
       "\n",
       "    .dataframe tbody tr th {\n",
       "        vertical-align: top;\n",
       "    }\n",
       "\n",
       "    .dataframe thead th {\n",
       "        text-align: right;\n",
       "    }\n",
       "</style>\n",
       "<table border=\"1\" class=\"dataframe\">\n",
       "  <thead>\n",
       "    <tr style=\"text-align: right;\">\n",
       "      <th></th>\n",
       "      <th>fit time (s)</th>\n",
       "      <th>Accuracy</th>\n",
       "      <th>Precision</th>\n",
       "      <th>Recall</th>\n",
       "      <th>F1 Score</th>\n",
       "      <th>ROC AUC</th>\n",
       "    </tr>\n",
       "  </thead>\n",
       "  <tbody>\n",
       "    <tr>\n",
       "      <th>Random Forest Classifier</th>\n",
       "      <td>199.115947</td>\n",
       "      <td>0.959759</td>\n",
       "      <td>0.997622</td>\n",
       "      <td>0.921715</td>\n",
       "      <td>0.958168</td>\n",
       "      <td>0.989142</td>\n",
       "    </tr>\n",
       "    <tr>\n",
       "      <th>CatBoost Classifier</th>\n",
       "      <td>339.620858</td>\n",
       "      <td>0.955589</td>\n",
       "      <td>0.996864</td>\n",
       "      <td>0.914053</td>\n",
       "      <td>0.953664</td>\n",
       "      <td>0.978888</td>\n",
       "    </tr>\n",
       "    <tr>\n",
       "      <th>LightGBM Classifier</th>\n",
       "      <td>15.272584</td>\n",
       "      <td>0.955141</td>\n",
       "      <td>0.998887</td>\n",
       "      <td>0.911297</td>\n",
       "      <td>0.953084</td>\n",
       "      <td>0.978490</td>\n",
       "    </tr>\n",
       "    <tr>\n",
       "      <th>XGBoost Classifier</th>\n",
       "      <td>377.219052</td>\n",
       "      <td>0.955601</td>\n",
       "      <td>0.996691</td>\n",
       "      <td>0.914237</td>\n",
       "      <td>0.953685</td>\n",
       "      <td>0.978477</td>\n",
       "    </tr>\n",
       "    <tr>\n",
       "      <th>Gradient Boosting Classifier</th>\n",
       "      <td>800.714590</td>\n",
       "      <td>0.946464</td>\n",
       "      <td>0.994623</td>\n",
       "      <td>0.897781</td>\n",
       "      <td>0.943724</td>\n",
       "      <td>0.974197</td>\n",
       "    </tr>\n",
       "    <tr>\n",
       "      <th>K Neighbors Classifier</th>\n",
       "      <td>0.734185</td>\n",
       "      <td>0.764060</td>\n",
       "      <td>0.679446</td>\n",
       "      <td>0.999830</td>\n",
       "      <td>0.809075</td>\n",
       "      <td>0.921741</td>\n",
       "    </tr>\n",
       "    <tr>\n",
       "      <th>Decision Tree Classifier</th>\n",
       "      <td>29.432092</td>\n",
       "      <td>0.913673</td>\n",
       "      <td>0.907090</td>\n",
       "      <td>0.921761</td>\n",
       "      <td>0.914366</td>\n",
       "      <td>0.913673</td>\n",
       "    </tr>\n",
       "    <tr>\n",
       "      <th>Ridge Classifier</th>\n",
       "      <td>2.991032</td>\n",
       "      <td>0.701665</td>\n",
       "      <td>0.698529</td>\n",
       "      <td>0.709565</td>\n",
       "      <td>0.704003</td>\n",
       "      <td>0.769888</td>\n",
       "    </tr>\n",
       "    <tr>\n",
       "      <th>Logistic Regression</th>\n",
       "      <td>4.556285</td>\n",
       "      <td>0.698208</td>\n",
       "      <td>0.690882</td>\n",
       "      <td>0.721818</td>\n",
       "      <td>0.704604</td>\n",
       "      <td>0.767373</td>\n",
       "    </tr>\n",
       "    <tr>\n",
       "      <th>SVM - Linear kernel</th>\n",
       "      <td>5.773478</td>\n",
       "      <td>0.697341</td>\n",
       "      <td>0.687246</td>\n",
       "      <td>0.729428</td>\n",
       "      <td>0.706050</td>\n",
       "      <td>0.767294</td>\n",
       "    </tr>\n",
       "    <tr>\n",
       "      <th>Gaussian Naive Bayes</th>\n",
       "      <td>2.821208</td>\n",
       "      <td>0.540888</td>\n",
       "      <td>0.522627</td>\n",
       "      <td>0.944451</td>\n",
       "      <td>0.672895</td>\n",
       "      <td>0.558053</td>\n",
       "    </tr>\n",
       "  </tbody>\n",
       "</table>\n",
       "</div>"
      ],
      "text/plain": [
       "                              fit time (s)  Accuracy  Precision    Recall  \\\n",
       "Random Forest Classifier        199.115947  0.959759   0.997622  0.921715   \n",
       "CatBoost Classifier             339.620858  0.955589   0.996864  0.914053   \n",
       "LightGBM Classifier              15.272584  0.955141   0.998887  0.911297   \n",
       "XGBoost Classifier              377.219052  0.955601   0.996691  0.914237   \n",
       "Gradient Boosting Classifier    800.714590  0.946464   0.994623  0.897781   \n",
       "K Neighbors Classifier            0.734185  0.764060   0.679446  0.999830   \n",
       "Decision Tree Classifier         29.432092  0.913673   0.907090  0.921761   \n",
       "Ridge Classifier                  2.991032  0.701665   0.698529  0.709565   \n",
       "Logistic Regression               4.556285  0.698208   0.690882  0.721818   \n",
       "SVM - Linear kernel               5.773478  0.697341   0.687246  0.729428   \n",
       "Gaussian Naive Bayes              2.821208  0.540888   0.522627  0.944451   \n",
       "\n",
       "                              F1 Score   ROC AUC  \n",
       "Random Forest Classifier      0.958168  0.989142  \n",
       "CatBoost Classifier           0.953664  0.978888  \n",
       "LightGBM Classifier           0.953084  0.978490  \n",
       "XGBoost Classifier            0.953685  0.978477  \n",
       "Gradient Boosting Classifier  0.943724  0.974197  \n",
       "K Neighbors Classifier        0.809075  0.921741  \n",
       "Decision Tree Classifier      0.914366  0.913673  \n",
       "Ridge Classifier              0.704003  0.769888  \n",
       "Logistic Regression           0.704604  0.767373  \n",
       "SVM - Linear kernel           0.706050  0.767294  \n",
       "Gaussian Naive Bayes          0.672895  0.558053  "
      ]
     },
     "execution_count": 12,
     "metadata": {},
     "output_type": "execute_result"
    }
   ],
   "source": [
    "compare_models(X_smote, y_smote, sort='ROC AUC')"
   ]
  },
  {
   "cell_type": "markdown",
   "id": "loaded-raising",
   "metadata": {},
   "source": [
    "### Use as much data as possible by merging all tables"
   ]
  },
  {
   "cell_type": "markdown",
   "id": "genuine-moore",
   "metadata": {},
   "source": [
    "### Fine-Tune the hyperparameters using cross-validation"
   ]
  },
  {
   "cell_type": "markdown",
   "id": "prospective-summary",
   "metadata": {},
   "source": [
    "## Analyse feature importance with SHAP"
   ]
  },
  {
   "cell_type": "code",
   "execution_count": null,
   "id": "reduced-editor",
   "metadata": {},
   "outputs": [],
   "source": []
  }
 ],
 "metadata": {
  "kernelspec": {
   "display_name": "Python 3",
   "language": "python",
   "name": "python3"
  },
  "language_info": {
   "codemirror_mode": {
    "name": "ipython",
    "version": 3
   },
   "file_extension": ".py",
   "mimetype": "text/x-python",
   "name": "python",
   "nbconvert_exporter": "python",
   "pygments_lexer": "ipython3",
   "version": "3.8.5"
  },
  "toc": {
   "base_numbering": 1,
   "nav_menu": {},
   "number_sections": true,
   "sideBar": true,
   "skip_h1_title": true,
   "title_cell": "Table of Contents",
   "title_sidebar": "Contents",
   "toc_cell": true,
   "toc_position": {
    "height": "calc(100% - 180px)",
    "left": "10px",
    "top": "150px",
    "width": "256px"
   },
   "toc_section_display": true,
   "toc_window_display": true
  }
 },
 "nbformat": 4,
 "nbformat_minor": 5
}
