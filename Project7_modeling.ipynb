{
 "cells": [
  {
   "cell_type": "markdown",
   "id": "blessed-arnold",
   "metadata": {},
   "source": [
    "# Project 7: Implement a scoring model.\n",
    "\n",
    "*Pierre-Eloi Ragetly*\n",
    "\n",
    "This project is part of the Data Scientist path proposed by OpenClassrooms."
   ]
  },
  {
   "cell_type": "code",
   "execution_count": 1,
   "id": "described-blind",
   "metadata": {
    "ExecuteTime": {
     "end_time": "2021-12-09T06:39:42.290519Z",
     "start_time": "2021-12-09T06:39:39.916280Z"
    }
   },
   "outputs": [],
   "source": [
    "# File system management\n",
    "import os\n",
    "\n",
    "# Get execution time to compare models\n",
    "import time\n",
    "\n",
    "# Import numpy and pandas for data manipulation\n",
    "import numpy as np\n",
    "import pandas as pd\n",
    "\n",
    "# to make this notebook's output stable across runs\n",
    "np.random.seed(42)\n",
    "\n",
    "# Suppress warnings \n",
    "import warnings\n",
    "warnings.filterwarnings('ignore')\n",
    "\n",
    "# To plot pretty figures\n",
    "%matplotlib inline\n",
    "import matplotlib as mpl\n",
    "import matplotlib.pyplot as plt\n",
    "import seaborn as sns\n",
    "plt.style.use('fivethirtyeight')\n",
    "plt.rcParams.update({'axes.edgecolor': 'white',\n",
    "                     'axes.facecolor': 'white',\n",
    "                     'axes.linewidth': 2.0,\n",
    "                     'figure.facecolor': 'white'})\n",
    "\n",
    "# Where to save the figures\n",
    "def save_fig(fig_id, tight_layout=True):\n",
    "    folder_path = os.path.join(\"charts\")\n",
    "    if not os.path.isdir(folder_path):\n",
    "        os.makedirs(folder_path)\n",
    "    path = os.path.join(\"charts\", fig_id + \".png\")\n",
    "    if tight_layout:\n",
    "        plt.tight_layout()\n",
    "    plt.savefig(path, format='png', dpi=300)\n",
    "\n",
    "# Get all functions required to prepare data\n",
    "from functions.preprocessing import *\n",
    "from functions.modeling import *"
   ]
  },
  {
   "cell_type": "markdown",
   "id": "prostate-chair",
   "metadata": {
    "toc": true
   },
   "source": [
    "<h1>Table of Contents<span class=\"tocSkip\"></span></h1>\n",
    "<div class=\"toc\"><ul class=\"toc-item\"><li><span><a href=\"#Prepare-the-data\" data-toc-modified-id=\"Prepare-the-data-1\"><span class=\"toc-item-num\">1&nbsp;&nbsp;</span>Prepare the data</a></span><ul class=\"toc-item\"><li><span><a href=\"#Read-in-data\" data-toc-modified-id=\"Read-in-data-1.1\"><span class=\"toc-item-num\">1.1&nbsp;&nbsp;</span>Read in data</a></span></li><li><span><a href=\"#Transform-data\" data-toc-modified-id=\"Transform-data-1.2\"><span class=\"toc-item-num\">1.2&nbsp;&nbsp;</span>Transform data</a></span></li></ul></li><li><span><a href=\"#Shortlist-Promising-Models\" data-toc-modified-id=\"Shortlist-Promising-Models-2\"><span class=\"toc-item-num\">2&nbsp;&nbsp;</span>Shortlist Promising Models</a></span><ul class=\"toc-item\"><li><span><a href=\"#Select-a-Performance-Measure\" data-toc-modified-id=\"Select-a-Performance-Measure-2.1\"><span class=\"toc-item-num\">2.1&nbsp;&nbsp;</span>Select a Performance Measure</a></span></li><li><span><a href=\"#Establish-a-performance-baseline-with-a-dummy-classifier\" data-toc-modified-id=\"Establish-a-performance-baseline-with-a-dummy-classifier-2.2\"><span class=\"toc-item-num\">2.2&nbsp;&nbsp;</span>Establish a performance baseline with a dummy classifier</a></span></li><li><span><a href=\"#Train-quick-and-dirty-models-and-compare-their-performance\" data-toc-modified-id=\"Train-quick-and-dirty-models-and-compare-their-performance-2.3\"><span class=\"toc-item-num\">2.3&nbsp;&nbsp;</span>Train quick and dirty models and compare their performance</a></span></li><li><span><a href=\"#Data-augmentation-with-SMOTE\" data-toc-modified-id=\"Data-augmentation-with-SMOTE-2.4\"><span class=\"toc-item-num\">2.4&nbsp;&nbsp;</span>Data augmentation with SMOTE</a></span></li><li><span><a href=\"#Feature-Selection\" data-toc-modified-id=\"Feature-Selection-2.5\"><span class=\"toc-item-num\">2.5&nbsp;&nbsp;</span>Feature Selection</a></span></li></ul></li><li><span><a href=\"#Fine-Tune-the-hyperparameters\" data-toc-modified-id=\"Fine-Tune-the-hyperparameters-3\"><span class=\"toc-item-num\">3&nbsp;&nbsp;</span>Fine-Tune the hyperparameters</a></span><ul class=\"toc-item\"><li><span><a href=\"#Random-Forest\" data-toc-modified-id=\"Random-Forest-3.1\"><span class=\"toc-item-num\">3.1&nbsp;&nbsp;</span>Random Forest</a></span></li></ul></li><li><span><a href=\"#Analyse-feature-importance-with-SHAP\" data-toc-modified-id=\"Analyse-feature-importance-with-SHAP-4\"><span class=\"toc-item-num\">4&nbsp;&nbsp;</span>Analyse feature importance with SHAP</a></span></li></ul></div>"
   ]
  },
  {
   "cell_type": "markdown",
   "id": "soviet-designation",
   "metadata": {},
   "source": [
    "## Prepare the data"
   ]
  },
  {
   "cell_type": "markdown",
   "id": "manual-metabolism",
   "metadata": {},
   "source": [
    "### Read in data"
   ]
  },
  {
   "cell_type": "code",
   "execution_count": 2,
   "id": "incredible-imagination",
   "metadata": {
    "ExecuteTime": {
     "end_time": "2021-12-09T06:40:11.592726Z",
     "start_time": "2021-12-09T06:39:42.292056Z"
    }
   },
   "outputs": [
    {
     "name": "stdout",
     "output_type": "stream",
     "text": [
      "1) application_test.csv\n",
      "2) application_train.csv\n",
      "3) bureau.csv\n",
      "4) bureau_balance.csv\n",
      "5) credit_card_balance.csv\n",
      "6) HomeCredit_columns_description.csv\n",
      "7) installments_payments.csv\n",
      "8) POS_CASH_balance.csv\n",
      "9) previous_application.csv\n",
      "10) sample_submission.csv\n"
     ]
    }
   ],
   "source": [
    "list_files = sorted(os.listdir(\"data/\"), key=str.lower)\n",
    "for i, file in enumerate(list_files):\n",
    "    print(\"{}) {}\".format(i+1, file))\n",
    "\n",
    "app_test = pd.read_csv(\"data/\" + list_files[0])\n",
    "app_train = pd.read_csv(\"data/\" + list_files[1])\n",
    "bureau =  pd.read_csv(\"data/\" + list_files[2])\n",
    "b_b = pd.read_csv(\"data/\" + list_files[3])\n",
    "cc_balance = pd.read_csv(\"data/\" + list_files[4])\n",
    "ins_payments = pd.read_csv(\"data/\" + list_files[6])\n",
    "pos_cash = pd.read_csv(\"data/\" + list_files[7])\n",
    "prev_app = pd.read_csv(\"data/\" + list_files[8])"
   ]
  },
  {
   "cell_type": "markdown",
   "id": "quantitative-animation",
   "metadata": {},
   "source": [
    "### Transform data"
   ]
  },
  {
   "cell_type": "code",
   "execution_count": 3,
   "id": "executed-recommendation",
   "metadata": {
    "ExecuteTime": {
     "end_time": "2021-12-09T06:40:11.603656Z",
     "start_time": "2021-12-09T06:40:11.594898Z"
    }
   },
   "outputs": [],
   "source": [
    "from sklearn.impute import SimpleImputer\n",
    "from sklearn.preprocessing import StandardScaler, MaxAbsScaler\n",
    "from sklearn.preprocessing import OneHotEncoder\n",
    "from sklearn.preprocessing import PolynomialFeatures\n",
    "from sklearn.preprocessing import FunctionTransformer\n",
    "from sklearn.pipeline import Pipeline\n",
    "from sklearn.compose import ColumnTransformer"
   ]
  },
  {
   "cell_type": "code",
   "execution_count": 4,
   "id": "visible-crowd",
   "metadata": {
    "ExecuteTime": {
     "end_time": "2021-12-09T06:40:12.909557Z",
     "start_time": "2021-12-09T06:40:11.605636Z"
    }
   },
   "outputs": [],
   "source": [
    "# Drop the target and the ID of input data\n",
    "X = app_train.drop(['SK_ID_CURR', 'TARGET'], axis=1)\n",
    "\n",
    "# Get the categorical attributes\n",
    "cat_att = list(X.select_dtypes('object'))\n",
    "\n",
    "# Get the values to fill missing values\n",
    "values = drop_na_att(X[cat_att]).value_counts().index[0]\n",
    "\n",
    "# Get the numerical attributes\n",
    "num_att = list(X.select_dtypes(['int', 'float']))\n",
    "ord_att = list(X[num_att].loc[:, X[num_att].nunique()<6])\n",
    "sparse_att = [c for c in num_att\n",
    "              if c not in ord_att\n",
    "              and (X[c]==0).sum() > 0.5*len(X)]\n",
    "dense_att = [c for c in num_att\n",
    "             if c not in ord_att\n",
    "             and c not in sparse_att]\n",
    "filtered_dense_att = list(drop_na_att(X[dense_att])) + ['DAYS_EMPLOYED_ANOM']\n",
    "\n",
    "# Create a pipeline with an encoder\n",
    "# drop the first category in each feature with two categories (drop='if_binary')\n",
    "cat_pipeline = Pipeline([\n",
    "               ('filter', FunctionTransformer(drop_na_att)),               \n",
    "               ('imputer', FunctionTransformer(impute_cat_att,\n",
    "                                               kw_args={'values': values})),\n",
    "               ('encoder', OneHotEncoder(drop='if_binary')),\n",
    "               ])\n",
    "\n",
    "# Pipeline to prepare numerical ordinal features\n",
    "ord_pipeline = Pipeline([\n",
    "               ('filter', FunctionTransformer(drop_na_att)),\n",
    "               ('imputer', SimpleImputer(strategy='most_frequent')),\n",
    "               ])\n",
    "\n",
    "# Pipeline to prepare sparse features with at least 6 distinct values\n",
    "sparse_pipeline = Pipeline([\n",
    "                  ('filter', FunctionTransformer(drop_na_att)),\n",
    "                  ('cleaner', FunctionTransformer(fix_sparse_anomalies)),\n",
    "                  ('imputer', SimpleImputer(strategy='most_frequent')),\n",
    "                  ('scaler', MaxAbsScaler())\n",
    "                  ])\n",
    "\n",
    "# Pipeline to prepare dense features with at least 6 distinct values\n",
    "dense_pipeline = Pipeline([\n",
    "                 ('filter', FunctionTransformer(drop_na_att)),\n",
    "                 ('cleaner', FunctionTransformer(fix_dense_anomalies)),\n",
    "                 ('imputer', SimpleImputer()),\n",
    "                 ('poly_adder', FunctionTransformer(add_polynomial_att,\n",
    "                                                    kw_args={'names': filtered_dense_att})),\n",
    "                 ('domain_adder', FunctionTransformer(add_domain_att)),\n",
    "                 ('skew_transformer', FunctionTransformer(tr_skew_att)),\n",
    "                 ('scaler', StandardScaler())\n",
    "                 ])\n",
    "\n",
    "# Pipeline to prepare all data\n",
    "full_pipeline = ColumnTransformer([\n",
    "                ('cat', cat_pipeline, cat_att),\n",
    "                ('ordinal', ord_pipeline, ord_att),\n",
    "                ('sparse', sparse_pipeline, sparse_att),\n",
    "                ('dense', dense_pipeline, dense_att),\n",
    "                ])"
   ]
  },
  {
   "cell_type": "code",
   "execution_count": null,
   "id": "resistant-vinyl",
   "metadata": {
    "ExecuteTime": {
     "end_time": "2021-12-09T10:34:48.267004Z",
     "start_time": "2021-12-09T09:22:28.808Z"
    }
   },
   "outputs": [],
   "source": [
    "# Prepare data\n",
    "y_train = app_train['TARGET']\n",
    "X_train = full_pipeline.fit_transform(X)\n",
    "\n",
    "# Get the name of onehot encoded features\n",
    "onehot_att = list(drop_na_att(X[cat_att]))\n",
    "encoder = OneHotEncoder(drop='if_binary')\n",
    "encoder.fit(impute_cat_att(X[onehot_att], values=values))\n",
    "onehot_att = list(encoder.get_feature_names(onehot_att))\n",
    "# Get the name of polynomial attributes\n",
    "poly_att = ['EXT_SOURCE_2', 'EXT_SOURCE_3']\n",
    "poly_transformer = PolynomialFeatures(degree=2, include_bias=False)\n",
    "poly_transformer.fit(X[poly_att].fillna(X[poly_att].mean()))\n",
    "n = len(poly_att)\n",
    "poly_att = poly_transformer.get_feature_names(input_features=poly_att)[n:]\n",
    "# Get the name of domain attributes\n",
    "domain_att = ['DAYS_EMPLOYED_PERC', 'CREDIT_INCOME_PERC', 'INCOME_PER_PERSON',\n",
    "              'ANNUITY_INCOME_PERC', 'CREDIT_TERM']\n",
    "# Get the name of all attributes\n",
    "extra_att = ['DAYS_EMPLOYED_ANOM'] + poly_att + domain_att\n",
    "att = onehot_att + list(drop_na_att(X[num_att])) + extra_att\n",
    "\n",
    "df_train = pd.DataFrame(X_train, columns=att)\n",
    "df_train.head()"
   ]
  },
  {
   "cell_type": "markdown",
   "id": "rubber-international",
   "metadata": {},
   "source": [
    "## Shortlist Promising Models"
   ]
  },
  {
   "cell_type": "markdown",
   "id": "patent-sailing",
   "metadata": {},
   "source": [
    "### Select a Performance Measure"
   ]
  },
  {
   "cell_type": "code",
   "execution_count": 6,
   "id": "extended-basket",
   "metadata": {
    "ExecuteTime": {
     "end_time": "2021-12-09T06:40:17.045815Z",
     "start_time": "2021-12-09T06:40:17.040598Z"
    }
   },
   "outputs": [
    {
     "name": "stdout",
     "output_type": "stream",
     "text": [
      "Percentage of the positive class: 8.1%\n"
     ]
    }
   ],
   "source": [
    "print(f\"Percentage of the positive class: \\\n",
    "{app_train['TARGET'].value_counts()[1]/len(app_train):.1%}\")"
   ]
  },
  {
   "cell_type": "markdown",
   "id": "secure-rating",
   "metadata": {},
   "source": [
    "Though *accuracy* is generally the first performance used for binary classification, it is seldom the best choice when we are dealing with *skewed dataset*, like the one we have.  \n",
    "To prove it, let's take a very dumb classifier that just classifies every instance in the *negative* class (meaning the majority class). We would get an accuracy of $92\\%$, not bad for such dumb classifier! Thus, no matter the model used, the accuracy will be high. It will be difficult to know if our model really learn something, whether it has skill on the dataset.\n",
    "\n",
    "There are much better way to evaluate the performance of a classifier, all depends on the model's objective. Let's remind ourselves the objective: **predict whether a new client will be in default or not.** It will cost much more money for the bank to grant a loan to a person that will be not able to repay it, than the opposite, refuse to approve a loan for someone who could pay it back. Meaning we care more about *False Negative* than *False Positive*, in other words, whe prefer having a high *Recall* than a high *Precision*.\n",
    "\n",
    "The $F_1$ score is often used for imbalanced data and binary classification problems. It is the *harmonic mean* of *Precision* and *Recall*:\n",
    "\n",
    "$\\displaystyle F_1 = 2 \\times \\frac {precision \\times recall}{precision + recall}$\n",
    "\n",
    "The $F_1$ score favors classifiers that have similar *precision* and *recall*. As said above, this is not what we want. Then, we will use another score typically used for such problem: the *AUC* score. AUC standing for \"Area Under the Curve\". Two curves can be used to compute the AUC:\n",
    "- the Precision-Recall (PR) curve\n",
    "- the Receiver Operating Characteristic (ROC) curve\n",
    "\n",
    "The former is prefered when:\n",
    "- the positive class is rare or,\n",
    "- you care more about the false positives than the false negative.\n",
    "\n",
    "Here, we definitely care more about the false negatives than false postives, but the dataset is severely imbalanced with the positive class as the minority one. So we should use the PR curve. However, as we will see in the next section, we will use a technique named SMOTE (Synthetic Minority Oversampling Technique) to oversample the minority class, and as we are more concern by the recall than the precision, **we will compute the ROC AUC.**"
   ]
  },
  {
   "cell_type": "markdown",
   "id": "interracial-diversity",
   "metadata": {},
   "source": [
    "### Establish a performance baseline with a dummy classifier"
   ]
  },
  {
   "cell_type": "markdown",
   "id": "loving-advocacy",
   "metadata": {},
   "source": [
    "A performance baseline provides a minimum score above which a model is considered to have skill on the dataset. It provides a line by which all other algorithms can be compared. A baseline can be established using a naive classifier, such as predicting the most frequent class label for all examples in the dataset.\n",
    "\n",
    "Each metric requires the careful choice of a specific naive classification strategy that achieves the appropriate \"*no skill*\" performance. A no-skill model has a ROC AUC of 0.5 and can be achieved by predicting class labels randomly, while respecting the training set's class distribution (e.g. 8.1% for the positive class).  \n",
    "We will use the \"*stratified*\" strategy of the sklearn class `DummyClassifier`."
   ]
  },
  {
   "cell_type": "code",
   "execution_count": 7,
   "id": "athletic-external",
   "metadata": {
    "ExecuteTime": {
     "end_time": "2021-12-09T06:40:17.925555Z",
     "start_time": "2021-12-09T06:40:17.047352Z"
    }
   },
   "outputs": [
    {
     "name": "stdout",
     "output_type": "stream",
     "text": [
      "ROC AUC for the dummy classifier: 0.50\n"
     ]
    }
   ],
   "source": [
    "from sklearn.dummy import DummyClassifier\n",
    "from sklearn.model_selection import StratifiedKFold\n",
    "from sklearn.model_selection import cross_val_score\n",
    "\n",
    "# Train a dummy classifier\n",
    "dummy_clf = DummyClassifier(strategy='stratified')\n",
    "\n",
    "# Get the ROC AUC\n",
    "cv = StratifiedKFold(5, shuffle=True, random_state=42)\n",
    "dummy_scores = cross_val_score(dummy_clf, X_train, y_train,\n",
    "                               scoring='roc_auc', cv=cv, n_jobs=1)\n",
    "print(f\"ROC AUC for the dummy classifier: {dummy_scores.mean():.2f}\")"
   ]
  },
  {
   "cell_type": "markdown",
   "id": "foreign-barbados",
   "metadata": {},
   "source": [
    "### Train quick and dirty models and compare their performance"
   ]
  },
  {
   "cell_type": "code",
   "execution_count": 8,
   "id": "oriental-sleeve",
   "metadata": {
    "ExecuteTime": {
     "end_time": "2021-12-09T06:47:21.970025Z",
     "start_time": "2021-12-09T06:40:17.929382Z"
    }
   },
   "outputs": [
    {
     "data": {
      "text/html": [
       "<div>\n",
       "<style scoped>\n",
       "    .dataframe tbody tr th:only-of-type {\n",
       "        vertical-align: middle;\n",
       "    }\n",
       "\n",
       "    .dataframe tbody tr th {\n",
       "        vertical-align: top;\n",
       "    }\n",
       "\n",
       "    .dataframe thead th {\n",
       "        text-align: right;\n",
       "    }\n",
       "</style>\n",
       "<table border=\"1\" class=\"dataframe\">\n",
       "  <thead>\n",
       "    <tr style=\"text-align: right;\">\n",
       "      <th></th>\n",
       "      <th>fit time (s)</th>\n",
       "      <th>score time (s)</th>\n",
       "      <th>Accuracy</th>\n",
       "      <th>Precision</th>\n",
       "      <th>Recall</th>\n",
       "      <th>F1 Score</th>\n",
       "      <th>ROC AUC</th>\n",
       "    </tr>\n",
       "  </thead>\n",
       "  <tbody>\n",
       "    <tr>\n",
       "      <th>CatBoost Classifier</th>\n",
       "      <td>134.731101</td>\n",
       "      <td>4.572803</td>\n",
       "      <td>0.919245</td>\n",
       "      <td>0.497786</td>\n",
       "      <td>0.029003</td>\n",
       "      <td>0.054809</td>\n",
       "      <td>0.761160</td>\n",
       "    </tr>\n",
       "    <tr>\n",
       "      <th>LightGBM Classifier</th>\n",
       "      <td>6.850413</td>\n",
       "      <td>0.382846</td>\n",
       "      <td>0.919626</td>\n",
       "      <td>0.578002</td>\n",
       "      <td>0.016636</td>\n",
       "      <td>0.032338</td>\n",
       "      <td>0.759213</td>\n",
       "    </tr>\n",
       "    <tr>\n",
       "      <th>XGBoost Classifier</th>\n",
       "      <td>152.231814</td>\n",
       "      <td>0.247712</td>\n",
       "      <td>0.918966</td>\n",
       "      <td>0.470363</td>\n",
       "      <td>0.030332</td>\n",
       "      <td>0.056981</td>\n",
       "      <td>0.754977</td>\n",
       "    </tr>\n",
       "    <tr>\n",
       "      <th>Logistic Regression</th>\n",
       "      <td>2.410356</td>\n",
       "      <td>0.110872</td>\n",
       "      <td>0.919057</td>\n",
       "      <td>0.474264</td>\n",
       "      <td>0.016073</td>\n",
       "      <td>0.030691</td>\n",
       "      <td>0.739708</td>\n",
       "    </tr>\n",
       "    <tr>\n",
       "      <th>Random Forest Classifier</th>\n",
       "      <td>86.334194</td>\n",
       "      <td>3.007383</td>\n",
       "      <td>0.919369</td>\n",
       "      <td>0.584665</td>\n",
       "      <td>0.004592</td>\n",
       "      <td>0.009110</td>\n",
       "      <td>0.720067</td>\n",
       "    </tr>\n",
       "    <tr>\n",
       "      <th>SVM - Linear kernel</th>\n",
       "      <td>2.771063</td>\n",
       "      <td>0.086531</td>\n",
       "      <td>0.919271</td>\n",
       "      <td>0.000000</td>\n",
       "      <td>0.000000</td>\n",
       "      <td>0.000000</td>\n",
       "      <td>0.636286</td>\n",
       "    </tr>\n",
       "    <tr>\n",
       "      <th>Gaussian Naive Bayes</th>\n",
       "      <td>2.401777</td>\n",
       "      <td>0.580523</td>\n",
       "      <td>0.134067</td>\n",
       "      <td>0.082808</td>\n",
       "      <td>0.965277</td>\n",
       "      <td>0.152530</td>\n",
       "      <td>0.584042</td>\n",
       "    </tr>\n",
       "    <tr>\n",
       "      <th>Decision Tree Classifier</th>\n",
       "      <td>19.685387</td>\n",
       "      <td>0.120616</td>\n",
       "      <td>0.853719</td>\n",
       "      <td>0.144395</td>\n",
       "      <td>0.164874</td>\n",
       "      <td>0.153954</td>\n",
       "      <td>0.539543</td>\n",
       "    </tr>\n",
       "  </tbody>\n",
       "</table>\n",
       "</div>"
      ],
      "text/plain": [
       "                          fit time (s)  score time (s)  Accuracy  Precision  \\\n",
       "CatBoost Classifier         134.731101        4.572803  0.919245   0.497786   \n",
       "LightGBM Classifier           6.850413        0.382846  0.919626   0.578002   \n",
       "XGBoost Classifier          152.231814        0.247712  0.918966   0.470363   \n",
       "Logistic Regression           2.410356        0.110872  0.919057   0.474264   \n",
       "Random Forest Classifier     86.334194        3.007383  0.919369   0.584665   \n",
       "SVM - Linear kernel           2.771063        0.086531  0.919271   0.000000   \n",
       "Gaussian Naive Bayes          2.401777        0.580523  0.134067   0.082808   \n",
       "Decision Tree Classifier     19.685387        0.120616  0.853719   0.144395   \n",
       "\n",
       "                            Recall  F1 Score   ROC AUC  \n",
       "CatBoost Classifier       0.029003  0.054809  0.761160  \n",
       "LightGBM Classifier       0.016636  0.032338  0.759213  \n",
       "XGBoost Classifier        0.030332  0.056981  0.754977  \n",
       "Logistic Regression       0.016073  0.030691  0.739708  \n",
       "Random Forest Classifier  0.004592  0.009110  0.720067  \n",
       "SVM - Linear kernel       0.000000  0.000000  0.636286  \n",
       "Gaussian Naive Bayes      0.965277  0.152530  0.584042  \n",
       "Decision Tree Classifier  0.164874  0.153954  0.539543  "
      ]
     },
     "execution_count": 8,
     "metadata": {},
     "output_type": "execute_result"
    }
   ],
   "source": [
    "compare_models(X_train, y_train, sort='ROC AUC')"
   ]
  },
  {
   "cell_type": "markdown",
   "id": "impossible-springer",
   "metadata": {},
   "source": [
    "### Data augmentation with SMOTE"
   ]
  },
  {
   "cell_type": "code",
   "execution_count": 9,
   "id": "verified-facial",
   "metadata": {
    "ExecuteTime": {
     "end_time": "2021-12-09T06:47:32.141952Z",
     "start_time": "2021-12-09T06:47:21.972313Z"
    }
   },
   "outputs": [],
   "source": [
    "from imblearn.over_sampling import SMOTE\n",
    "\n",
    "X_smote, y_smote = SMOTE(random_state=42).fit_resample(X_train, y_train)"
   ]
  },
  {
   "cell_type": "code",
   "execution_count": 10,
   "id": "united-newton",
   "metadata": {
    "ExecuteTime": {
     "end_time": "2021-12-09T06:47:32.147126Z",
     "start_time": "2021-12-09T06:47:32.143646Z"
    }
   },
   "outputs": [
    {
     "data": {
      "text/plain": [
       "(307511, 171)"
      ]
     },
     "execution_count": 10,
     "metadata": {},
     "output_type": "execute_result"
    }
   ],
   "source": [
    "X_train.shape"
   ]
  },
  {
   "cell_type": "code",
   "execution_count": 11,
   "id": "comparative-hindu",
   "metadata": {
    "ExecuteTime": {
     "end_time": "2021-12-09T06:47:32.153807Z",
     "start_time": "2021-12-09T06:47:32.148485Z"
    }
   },
   "outputs": [
    {
     "data": {
      "text/plain": [
       "(565372, 171)"
      ]
     },
     "execution_count": 11,
     "metadata": {},
     "output_type": "execute_result"
    }
   ],
   "source": [
    "X_smote.shape"
   ]
  },
  {
   "cell_type": "code",
   "execution_count": 12,
   "id": "trying-independence",
   "metadata": {
    "ExecuteTime": {
     "end_time": "2021-12-09T07:04:09.684349Z",
     "start_time": "2021-12-09T06:47:32.155066Z"
    }
   },
   "outputs": [
    {
     "data": {
      "text/html": [
       "<div>\n",
       "<style scoped>\n",
       "    .dataframe tbody tr th:only-of-type {\n",
       "        vertical-align: middle;\n",
       "    }\n",
       "\n",
       "    .dataframe tbody tr th {\n",
       "        vertical-align: top;\n",
       "    }\n",
       "\n",
       "    .dataframe thead th {\n",
       "        text-align: right;\n",
       "    }\n",
       "</style>\n",
       "<table border=\"1\" class=\"dataframe\">\n",
       "  <thead>\n",
       "    <tr style=\"text-align: right;\">\n",
       "      <th></th>\n",
       "      <th>fit time (s)</th>\n",
       "      <th>score time (s)</th>\n",
       "      <th>Accuracy</th>\n",
       "      <th>Precision</th>\n",
       "      <th>Recall</th>\n",
       "      <th>F1 Score</th>\n",
       "      <th>ROC AUC</th>\n",
       "    </tr>\n",
       "  </thead>\n",
       "  <tbody>\n",
       "    <tr>\n",
       "      <th>Random Forest Classifier</th>\n",
       "      <td>185.308581</td>\n",
       "      <td>6.335062</td>\n",
       "      <td>0.959759</td>\n",
       "      <td>0.997622</td>\n",
       "      <td>0.921715</td>\n",
       "      <td>0.958168</td>\n",
       "      <td>0.989142</td>\n",
       "    </tr>\n",
       "    <tr>\n",
       "      <th>CatBoost Classifier</th>\n",
       "      <td>343.661709</td>\n",
       "      <td>8.590412</td>\n",
       "      <td>0.955589</td>\n",
       "      <td>0.996864</td>\n",
       "      <td>0.914053</td>\n",
       "      <td>0.953664</td>\n",
       "      <td>0.978888</td>\n",
       "    </tr>\n",
       "    <tr>\n",
       "      <th>LightGBM Classifier</th>\n",
       "      <td>16.203331</td>\n",
       "      <td>1.027614</td>\n",
       "      <td>0.955141</td>\n",
       "      <td>0.998887</td>\n",
       "      <td>0.911297</td>\n",
       "      <td>0.953084</td>\n",
       "      <td>0.978490</td>\n",
       "    </tr>\n",
       "    <tr>\n",
       "      <th>XGBoost Classifier</th>\n",
       "      <td>380.108366</td>\n",
       "      <td>0.648995</td>\n",
       "      <td>0.955601</td>\n",
       "      <td>0.996691</td>\n",
       "      <td>0.914237</td>\n",
       "      <td>0.953685</td>\n",
       "      <td>0.978477</td>\n",
       "    </tr>\n",
       "    <tr>\n",
       "      <th>Decision Tree Classifier</th>\n",
       "      <td>28.824127</td>\n",
       "      <td>0.213693</td>\n",
       "      <td>0.913673</td>\n",
       "      <td>0.907090</td>\n",
       "      <td>0.921761</td>\n",
       "      <td>0.914366</td>\n",
       "      <td>0.913673</td>\n",
       "    </tr>\n",
       "    <tr>\n",
       "      <th>Logistic Regression</th>\n",
       "      <td>4.554305</td>\n",
       "      <td>0.162354</td>\n",
       "      <td>0.698208</td>\n",
       "      <td>0.690882</td>\n",
       "      <td>0.721818</td>\n",
       "      <td>0.704604</td>\n",
       "      <td>0.767373</td>\n",
       "    </tr>\n",
       "    <tr>\n",
       "      <th>SVM - Linear kernel</th>\n",
       "      <td>5.801312</td>\n",
       "      <td>0.182063</td>\n",
       "      <td>0.697341</td>\n",
       "      <td>0.687246</td>\n",
       "      <td>0.729428</td>\n",
       "      <td>0.706050</td>\n",
       "      <td>0.767294</td>\n",
       "    </tr>\n",
       "    <tr>\n",
       "      <th>Gaussian Naive Bayes</th>\n",
       "      <td>3.881380</td>\n",
       "      <td>1.208971</td>\n",
       "      <td>0.540888</td>\n",
       "      <td>0.522627</td>\n",
       "      <td>0.944451</td>\n",
       "      <td>0.672895</td>\n",
       "      <td>0.558053</td>\n",
       "    </tr>\n",
       "  </tbody>\n",
       "</table>\n",
       "</div>"
      ],
      "text/plain": [
       "                          fit time (s)  score time (s)  Accuracy  Precision  \\\n",
       "Random Forest Classifier    185.308581        6.335062  0.959759   0.997622   \n",
       "CatBoost Classifier         343.661709        8.590412  0.955589   0.996864   \n",
       "LightGBM Classifier          16.203331        1.027614  0.955141   0.998887   \n",
       "XGBoost Classifier          380.108366        0.648995  0.955601   0.996691   \n",
       "Decision Tree Classifier     28.824127        0.213693  0.913673   0.907090   \n",
       "Logistic Regression           4.554305        0.162354  0.698208   0.690882   \n",
       "SVM - Linear kernel           5.801312        0.182063  0.697341   0.687246   \n",
       "Gaussian Naive Bayes          3.881380        1.208971  0.540888   0.522627   \n",
       "\n",
       "                            Recall  F1 Score   ROC AUC  \n",
       "Random Forest Classifier  0.921715  0.958168  0.989142  \n",
       "CatBoost Classifier       0.914053  0.953664  0.978888  \n",
       "LightGBM Classifier       0.911297  0.953084  0.978490  \n",
       "XGBoost Classifier        0.914237  0.953685  0.978477  \n",
       "Decision Tree Classifier  0.921761  0.914366  0.913673  \n",
       "Logistic Regression       0.721818  0.704604  0.767373  \n",
       "SVM - Linear kernel       0.729428  0.706050  0.767294  \n",
       "Gaussian Naive Bayes      0.944451  0.672895  0.558053  "
      ]
     },
     "execution_count": 12,
     "metadata": {},
     "output_type": "execute_result"
    }
   ],
   "source": [
    "compare_models(X_smote, y_smote, sort='ROC AUC')"
   ]
  },
  {
   "cell_type": "markdown",
   "id": "boolean-dylan",
   "metadata": {},
   "source": [
    "We will continue with:\n",
    "- Random Forest\n",
    "- CatBoost\n",
    "- Light GBM\n",
    "- XGBoost"
   ]
  },
  {
   "cell_type": "markdown",
   "id": "available-candle",
   "metadata": {},
   "source": [
    "### Feature Selection"
   ]
  },
  {
   "cell_type": "markdown",
   "id": "introductory-monte",
   "metadata": {},
   "source": [
    "blabla"
   ]
  },
  {
   "cell_type": "code",
   "execution_count": 69,
   "id": "consistent-comment",
   "metadata": {
    "ExecuteTime": {
     "end_time": "2021-12-09T18:38:17.653841Z",
     "start_time": "2021-12-09T18:21:31.726751Z"
    }
   },
   "outputs": [
    {
     "name": "stdout",
     "output_type": "stream",
     "text": [
      "171 features: 96.00%\n"
     ]
    },
    {
     "data": {
      "image/png": "[encoded data removed]",
      "text/plain": [
       "<Figure size 432x288 with 1 Axes>"
      ]
     },
     "metadata": {},
     "output_type": "display_data"
    }
   ],
   "source": [
    "from sklearn.ensemble import RandomForestClassifier\n",
    "from sklearn.feature_selection import SelectFromModel\n",
    "\n",
    "forest = RandomForestClassifier(bootstrap=True,\n",
    "                                oob_score=True,\n",
    "                                n_jobs=-1,\n",
    "                                random_state=42)\n",
    "# Select the top 100 features\n",
    "sfm = SelectFromModel(forest, threshold=-np.inf, max_features=100)\n",
    "X_sfm = sfm.fit_transform(X_smote, y_smote)\n",
    "# Test different numbers of features from 50 to 100\n",
    "print(f\"{X_smote.shape[1]} features: {sfm.estimator_.oob_score_:.2%}\")\n",
    "sfm_scores = []\n",
    "for i in range(95, 0, -5):\n",
    "    sfm = SelectFromModel(forest, threshold=-np.inf, max_features=i)\n",
    "    X_sfm = sfm.fit_transform(X_sfm, y_smote)\n",
    "    sfm_scores.append(sfm.estimator_.oob_score_)\n",
    "# Plot the results\n",
    "plt.plot(np.arange(10, 105, 5), sfm_scores[::-1])\n",
    "plt.xlabel(\"N features\")\n",
    "plt.ylabel(\"accuracy\")\n",
    "plt.show()"
   ]
  },
  {
   "cell_type": "markdown",
   "id": "juvenile-footage",
   "metadata": {},
   "source": [
    "blabla"
   ]
  },
  {
   "cell_type": "code",
   "execution_count": 73,
   "id": "precious-mixture",
   "metadata": {
    "ExecuteTime": {
     "end_time": "2021-12-09T20:32:37.799564Z",
     "start_time": "2021-12-09T20:04:45.443442Z"
    }
   },
   "outputs": [
    {
     "name": "stdout",
     "output_type": "stream",
     "text": [
      "Fitting estimator with 171 features.\n",
      "Fitting estimator with 166 features.\n",
      "Fitting estimator with 161 features.\n",
      "Fitting estimator with 156 features.\n",
      "Fitting estimator with 151 features.\n",
      "Fitting estimator with 146 features.\n",
      "Fitting estimator with 141 features.\n",
      "Fitting estimator with 136 features.\n",
      "Fitting estimator with 131 features.\n",
      "Fitting estimator with 126 features.\n",
      "Fitting estimator with 121 features.\n",
      "Fitting estimator with 116 features.\n",
      "Fitting estimator with 111 features.\n",
      "Fitting estimator with 106 features.\n",
      "Fitting estimator with 101 features.\n",
      "Fitting estimator with 96 features.\n",
      "Fitting estimator with 91 features.\n",
      "Fitting estimator with 86 features.\n",
      "Fitting estimator with 81 features.\n",
      "Fitting estimator with 76 features.\n",
      "Fitting estimator with 71 features.\n",
      "Fitting estimator with 66 features.\n",
      "Fitting estimator with 61 features.\n",
      "Fitting estimator with 56 features.\n",
      "Fitting estimator with 51 features.\n",
      "Fitting estimator with 46 features.\n",
      "Fitting estimator with 41 features.\n",
      "40 features: 95.95%\n"
     ]
    }
   ],
   "source": [
    "from sklearn.feature_selection import RFE\n",
    "\n",
    "rfe = RFE(forest, n_features_to_select=40, step=5, verbose=1)\n",
    "X_40 = rfe.fit_transform(X_smote, y_smote)\n",
    "mask_40 = rfe.support_\n",
    "forest.fit(X_40, y_smote)\n",
    "print(f\"{X_40.shape[1]} features: {forest.oob_score_:.2%}\")\n"
   ]
  },
  {
   "cell_type": "markdown",
   "id": "cooperative-colorado",
   "metadata": {},
   "source": [
    "## Fine-Tune the hyperparameters"
   ]
  },
  {
   "cell_type": "markdown",
   "id": "beneficial-divide",
   "metadata": {},
   "source": [
    "### Random Forest"
   ]
  },
  {
   "cell_type": "code",
   "execution_count": 94,
   "id": "severe-photographer",
   "metadata": {
    "ExecuteTime": {
     "end_time": "2021-12-10T09:01:27.317245Z",
     "start_time": "2021-12-10T08:37:11.857847Z"
    }
   },
   "outputs": [
    {
     "name": "stdout",
     "output_type": "stream",
     "text": [
      "n_iterations: 3\n",
      "n_required_iterations: 3\n",
      "n_possible_iterations: 3\n",
      "min_resources_: 62819\n",
      "max_resources_: 565372\n",
      "aggressive_elimination: False\n",
      "factor: 3\n",
      "----------\n",
      "iter: 0\n",
      "n_candidates: 18\n",
      "n_resources: 62819\n",
      "Fitting 5 folds for each of 18 candidates, totalling 90 fits\n",
      "----------\n",
      "iter: 1\n",
      "n_candidates: 6\n",
      "n_resources: 188457\n",
      "Fitting 5 folds for each of 6 candidates, totalling 30 fits\n",
      "----------\n",
      "iter: 2\n",
      "n_candidates: 2\n",
      "n_resources: 565371\n",
      "Fitting 5 folds for each of 2 candidates, totalling 10 fits\n",
      "OrderedDict([('criterion', 'gini'), ('max_features', 8)])\n"
     ]
    }
   ],
   "source": [
    "from sklearn.model_selection import StratifiedKFold\n",
    "from sklearn.ensemble import RandomForestClassifier\n",
    "from sklearn.experimental import enable_halving_search_cv\n",
    "from sklearn.model_selection import HalvingGridSearchCV\n",
    "\n",
    "cv = StratifiedKFold(5, shuffle=True, random_state=42)\n",
    "forest = RandomForestClassifier(random_state=42,\n",
    "                                bootstrap=True,\n",
    "                                n_jobs=-1)\n",
    "param_grid = {'criterion': ['gini', 'entropy'],\n",
    "              'max_features': np.arange(4, 13)}\n",
    "\n",
    "grid_search = HalvingGridSearchCV(forest, param_grid, cv=cv,\n",
    "                                  n_jobs=-1, verbose=1)\n",
    "grid_search.fit(X_40, y_smote)\n",
    "print(bay_search.best_params_)"
   ]
  },
  {
   "cell_type": "code",
   "execution_count": 92,
   "id": "ceramic-community",
   "metadata": {
    "ExecuteTime": {
     "end_time": "2021-12-10T08:16:22.529787Z",
     "start_time": "2021-12-10T08:16:22.526124Z"
    }
   },
   "outputs": [
    {
     "data": {
      "text/plain": [
       "0.9881469531601805"
      ]
     },
     "execution_count": 92,
     "metadata": {},
     "output_type": "execute_result"
    }
   ],
   "source": [
    "grid_search.best_score_"
   ]
  },
  {
   "cell_type": "code",
   "execution_count": 82,
   "id": "optional-disability",
   "metadata": {
    "ExecuteTime": {
     "end_time": "2021-12-10T00:06:08.490661Z",
     "start_time": "2021-12-09T22:57:55.204477Z"
    }
   },
   "outputs": [
    {
     "name": "stdout",
     "output_type": "stream",
     "text": [
      "Fitting 5 folds for each of 1 candidates, totalling 5 fits\n",
      "Fitting 5 folds for each of 1 candidates, totalling 5 fits\n",
      "Fitting 5 folds for each of 1 candidates, totalling 5 fits\n",
      "Fitting 5 folds for each of 1 candidates, totalling 5 fits\n",
      "Fitting 5 folds for each of 1 candidates, totalling 5 fits\n",
      "Fitting 5 folds for each of 1 candidates, totalling 5 fits\n",
      "Fitting 5 folds for each of 1 candidates, totalling 5 fits\n",
      "Fitting 5 folds for each of 1 candidates, totalling 5 fits\n",
      "Fitting 5 folds for each of 1 candidates, totalling 5 fits\n",
      "Fitting 5 folds for each of 1 candidates, totalling 5 fits\n",
      "OrderedDict([('criterion', 'gini'), ('max_features', 8)])\n"
     ]
    }
   ],
   "source": [
    "from sklearn.ensemble import RandomForestClassifier\n",
    "from skopt import BayesSearchCV\n",
    "from skopt.space import Categorical, Integer\n",
    "\n",
    "forest = RandomForestClassifier(random_state=42,\n",
    "                                bootstrap=True,\n",
    "                                n_jobs=-1)\n",
    "params = {'criterion': Categorical(['gini', 'entropy']),\n",
    "          'max_features': Integer(5, 20, prior='uniform')}\n",
    "cv = StratifiedKFold(5, shuffle=True, random_state=42)\n",
    "\n",
    "bay_search = BayesSearchCV(forest, params, n_iter=10, n_jobs=2)\n",
    "bay_search.fit(X_40, y_smote)\n",
    "print(bay_search.best_params_)"
   ]
  },
  {
   "cell_type": "code",
   "execution_count": 80,
   "id": "union-wallace",
   "metadata": {
    "ExecuteTime": {
     "end_time": "2021-12-09T22:52:54.096165Z",
     "start_time": "2021-12-09T22:52:54.092857Z"
    }
   },
   "outputs": [
    {
     "data": {
      "text/plain": [
       "5.321928094887363"
      ]
     },
     "execution_count": 80,
     "metadata": {},
     "output_type": "execute_result"
    }
   ],
   "source": [
    "np.log2(40)"
   ]
  },
  {
   "cell_type": "code",
   "execution_count": 81,
   "id": "restricted-sapphire",
   "metadata": {
    "ExecuteTime": {
     "end_time": "2021-12-09T22:53:14.361085Z",
     "start_time": "2021-12-09T22:53:14.357960Z"
    }
   },
   "outputs": [
    {
     "data": {
      "text/plain": [
       "6.324555320336759"
      ]
     },
     "execution_count": 81,
     "metadata": {},
     "output_type": "execute_result"
    }
   ],
   "source": [
    "np.sqrt(40)"
   ]
  },
  {
   "cell_type": "code",
   "execution_count": 83,
   "id": "antique-basis",
   "metadata": {
    "ExecuteTime": {
     "end_time": "2021-12-10T07:12:27.226024Z",
     "start_time": "2021-12-10T07:11:24.068180Z"
    }
   },
   "outputs": [
    {
     "name": "stdout",
     "output_type": "stream",
     "text": [
      "OrderedDict([('criterion', 'gini'), ('max_features', 8)])\n",
      "95.91%\n"
     ]
    }
   ],
   "source": [
    "forest = RandomForestClassifier(criterion='gini',\n",
    "                                max_features=8,\n",
    "                                bootstrap=True,\n",
    "                                oob_score=True,\n",
    "                                n_jobs=-1,\n",
    "                                random_state=42)\n",
    "forest.fit(X_40, y_smote)\n",
    "print(bay_search.best_params_)\n",
    "print(f\"{forest.oob_score_:.2%}\")"
   ]
  },
  {
   "cell_type": "code",
   "execution_count": 84,
   "id": "massive-scoop",
   "metadata": {
    "ExecuteTime": {
     "end_time": "2021-12-10T07:14:29.276806Z",
     "start_time": "2021-12-10T07:13:34.896218Z"
    }
   },
   "outputs": [
    {
     "name": "stdout",
     "output_type": "stream",
     "text": [
      "OrderedDict([('criterion', 'gini'), ('max_features', 8)])\n",
      "95.95%\n"
     ]
    }
   ],
   "source": [
    "forest = RandomForestClassifier(bootstrap=True,\n",
    "                                oob_score=True,\n",
    "                                n_jobs=-1,\n",
    "                                random_state=42)\n",
    "forest.fit(X_40, y_smote)\n",
    "print(bay_search.best_params_)\n",
    "print(f\"{forest.oob_score_:.2%}\")"
   ]
  },
  {
   "cell_type": "code",
   "execution_count": 87,
   "id": "noticed-might",
   "metadata": {
    "ExecuteTime": {
     "end_time": "2021-12-10T07:17:12.282686Z",
     "start_time": "2021-12-10T07:16:14.390178Z"
    }
   },
   "outputs": [
    {
     "name": "stdout",
     "output_type": "stream",
     "text": [
      "OrderedDict([('criterion', 'gini'), ('max_features', 8)])\n",
      "95.95%\n"
     ]
    }
   ],
   "source": [
    "forest = RandomForestClassifier(criterion='gini',\n",
    "                                bootstrap=True,\n",
    "                                oob_score=True,\n",
    "                                n_jobs=-1,\n",
    "                                random_state=42)\n",
    "forest.fit(X_40, y_smote)\n",
    "print(bay_search.best_params_)\n",
    "print(f\"{forest.oob_score_:.2%}\")"
   ]
  },
  {
   "cell_type": "code",
   "execution_count": 88,
   "id": "greenhouse-indonesia",
   "metadata": {
    "ExecuteTime": {
     "end_time": "2021-12-10T07:18:06.039998Z",
     "start_time": "2021-12-10T07:17:12.284536Z"
    }
   },
   "outputs": [
    {
     "name": "stdout",
     "output_type": "stream",
     "text": [
      "OrderedDict([('criterion', 'gini'), ('max_features', 8)])\n",
      "95.95%\n"
     ]
    }
   ],
   "source": [
    "forest = RandomForestClassifier(criterion='gini',\n",
    "                                max_features=6,\n",
    "                                bootstrap=True,\n",
    "                                oob_score=True,\n",
    "                                n_jobs=-1,\n",
    "                                random_state=42)\n",
    "forest.fit(X_40, y_smote)\n",
    "print(bay_search.best_params_)\n",
    "print(f\"{forest.oob_score_:.2%}\")"
   ]
  },
  {
   "cell_type": "code",
   "execution_count": 89,
   "id": "experienced-carol",
   "metadata": {
    "ExecuteTime": {
     "end_time": "2021-12-10T07:18:06.044959Z",
     "start_time": "2021-12-10T07:18:06.042824Z"
    }
   },
   "outputs": [],
   "source": [
    "forest.max_depth"
   ]
  },
  {
   "cell_type": "code",
   "execution_count": null,
   "id": "hidden-debate",
   "metadata": {},
   "outputs": [],
   "source": [
    "from sklearn.ensemble import RandomForestClassifier\n",
    "from skopt import BayesSearchCV\n",
    "from skopt.space import Categorical, Integer\n",
    "\n",
    "forest = RandomForestClassifier(random_state=42,\n",
    "                                bootstrap=True,\n",
    "                                n_jobs=-1)\n",
    "params = {'criterion': Categorical(['gini', 'entropy']),\n",
    "          'max_features': Integer(5, 20, prior='uniform')}\n",
    "cv = StratifiedKFold(5, shuffle=True, random_state=42)\n",
    "\n",
    "bay_search = BayesSearchCV(forest, params, n_iter=10,\n",
    "                           n_jobs=2, cv=cv,\n",
    "                           verbose=1, random_state=42)\n",
    "bay_search.fit(X_40, y_smote)\n",
    "print(bay_search.best_params_)"
   ]
  },
  {
   "cell_type": "markdown",
   "id": "prospective-summary",
   "metadata": {},
   "source": [
    "## Analyse feature importance with SHAP"
   ]
  },
  {
   "cell_type": "code",
   "execution_count": 31,
   "id": "reduced-editor",
   "metadata": {
    "ExecuteTime": {
     "end_time": "2021-11-13T07:35:52.730647Z",
     "start_time": "2021-11-13T07:35:52.727360Z"
    }
   },
   "outputs": [
    {
     "data": {
      "text/plain": [
       "10.0"
      ]
     },
     "execution_count": 31,
     "metadata": {},
     "output_type": "execute_result"
    }
   ],
   "source": [
    "round(np.log2(X_smote.shape[0])/2, 0)"
   ]
  }
 ],
 "metadata": {
  "kernelspec": {
   "display_name": "Python 3",
   "language": "python",
   "name": "python3"
  },
  "language_info": {
   "codemirror_mode": {
    "name": "ipython",
    "version": 3
   },
   "file_extension": ".py",
   "mimetype": "text/x-python",
   "name": "python",
   "nbconvert_exporter": "python",
   "pygments_lexer": "ipython3",
   "version": "3.8.5"
  },
  "toc": {
   "base_numbering": 1,
   "nav_menu": {},
   "number_sections": true,
   "sideBar": true,
   "skip_h1_title": true,
   "title_cell": "Table of Contents",
   "title_sidebar": "Contents",
   "toc_cell": true,
   "toc_position": {
    "height": "calc(100% - 180px)",
    "left": "10px",
    "top": "150px",
    "width": "256px"
   },
   "toc_section_display": true,
   "toc_window_display": false
  }
 },
 "nbformat": 4,
 "nbformat_minor": 5
}
