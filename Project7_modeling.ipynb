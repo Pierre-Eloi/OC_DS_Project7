{
 "cells": [
  {
   "cell_type": "markdown",
   "id": "blessed-arnold",
   "metadata": {},
   "source": [
    "# Project 7: Implement a scoring model.\n",
    "\n",
    "*Pierre-Eloi Ragetly*\n",
    "\n",
    "This project is part of the Data Scientist path proposed by OpenClassrooms."
   ]
  },
  {
   "cell_type": "code",
   "execution_count": 1,
   "id": "described-blind",
   "metadata": {
    "ExecuteTime": {
     "end_time": "2022-02-09T10:13:25.043918Z",
     "start_time": "2022-02-09T10:13:22.880911Z"
    }
   },
   "outputs": [],
   "source": [
    "# File system management\n",
    "import os\n",
    "\n",
    "# Get execution time to compare models\n",
    "import time\n",
    "\n",
    "# Import numpy and pandas for data manipulation\n",
    "import numpy as np\n",
    "import pandas as pd\n",
    "\n",
    "# to make this notebook's output stable across runs\n",
    "np.random.seed(42)\n",
    "\n",
    "# Suppress warnings \n",
    "import warnings\n",
    "warnings.filterwarnings('ignore')\n",
    "\n",
    "# To plot pretty figures\n",
    "%matplotlib inline\n",
    "import matplotlib as mpl\n",
    "import matplotlib.pyplot as plt\n",
    "import seaborn as sns\n",
    "plt.style.use('fivethirtyeight')\n",
    "plt.rcParams.update({'axes.edgecolor': 'white',\n",
    "                     'axes.facecolor': 'white',\n",
    "                     'axes.linewidth': 2.0,\n",
    "                     'figure.facecolor': 'white'})\n",
    "\n",
    "# Where to save the figures\n",
    "def save_fig(fig_id, tight_layout=True):\n",
    "    folder_path = os.path.join(\"charts\")\n",
    "    if not os.path.isdir(folder_path):\n",
    "        os.makedirs(folder_path)\n",
    "    path = os.path.join(\"charts\", fig_id + \".png\")\n",
    "    if tight_layout:\n",
    "        plt.tight_layout()\n",
    "    plt.savefig(path, format='png', dpi=300)"
   ]
  },
  {
   "cell_type": "markdown",
   "id": "prostate-chair",
   "metadata": {
    "toc": true
   },
   "source": [
    "<h1>Table of Contents<span class=\"tocSkip\"></span></h1>\n",
    "<div class=\"toc\"><ul class=\"toc-item\"><li><span><a href=\"#Prepare-the-data\" data-toc-modified-id=\"Prepare-the-data-1\"><span class=\"toc-item-num\">1&nbsp;&nbsp;</span>Prepare the data</a></span><ul class=\"toc-item\"><li><span><a href=\"#Read-in-data\" data-toc-modified-id=\"Read-in-data-1.1\"><span class=\"toc-item-num\">1.1&nbsp;&nbsp;</span>Read in data</a></span></li><li><span><a href=\"#Transform-data\" data-toc-modified-id=\"Transform-data-1.2\"><span class=\"toc-item-num\">1.2&nbsp;&nbsp;</span>Transform data</a></span></li></ul></li><li><span><a href=\"#Shortlist-Promising-Models\" data-toc-modified-id=\"Shortlist-Promising-Models-2\"><span class=\"toc-item-num\">2&nbsp;&nbsp;</span>Shortlist Promising Models</a></span><ul class=\"toc-item\"><li><span><a href=\"#Select-a-Performance-Measure\" data-toc-modified-id=\"Select-a-Performance-Measure-2.1\"><span class=\"toc-item-num\">2.1&nbsp;&nbsp;</span>Select a Performance Measure</a></span></li><li><span><a href=\"#Establish-a-performance-baseline\" data-toc-modified-id=\"Establish-a-performance-baseline-2.2\"><span class=\"toc-item-num\">2.2&nbsp;&nbsp;</span>Establish a performance baseline</a></span></li><li><span><a href=\"#Train-quick-and-dirty-models-and-compare-their-performance\" data-toc-modified-id=\"Train-quick-and-dirty-models-and-compare-their-performance-2.3\"><span class=\"toc-item-num\">2.3&nbsp;&nbsp;</span>Train quick and dirty models and compare their performance</a></span></li><li><span><a href=\"#Data-augmentation-with-SMOTE\" data-toc-modified-id=\"Data-augmentation-with-SMOTE-2.4\"><span class=\"toc-item-num\">2.4&nbsp;&nbsp;</span>Data augmentation with SMOTE</a></span></li><li><span><a href=\"#Problem-of-overfitting\" data-toc-modified-id=\"Problem-of-overfitting-2.5\"><span class=\"toc-item-num\">2.5&nbsp;&nbsp;</span>Problem of overfitting</a></span></li></ul></li><li><span><a href=\"#Improve-Data-Preprocessing\" data-toc-modified-id=\"Improve-Data-Preprocessing-3\"><span class=\"toc-item-num\">3&nbsp;&nbsp;</span>Improve Data Preprocessing</a></span><ul class=\"toc-item\"><li><span><a href=\"#Improve-the-preparation-pipeline\" data-toc-modified-id=\"Improve-the-preparation-pipeline-3.1\"><span class=\"toc-item-num\">3.1&nbsp;&nbsp;</span>Improve the preparation pipeline</a></span></li><li><span><a href=\"#Feature-Selection\" data-toc-modified-id=\"Feature-Selection-3.2\"><span class=\"toc-item-num\">3.2&nbsp;&nbsp;</span>Feature Selection</a></span></li></ul></li><li><span><a href=\"#Fine-Tune-the-hyperparameters\" data-toc-modified-id=\"Fine-Tune-the-hyperparameters-4\"><span class=\"toc-item-num\">4&nbsp;&nbsp;</span>Fine-Tune the hyperparameters</a></span><ul class=\"toc-item\"><li><span><a href=\"#Logitic-Regression\" data-toc-modified-id=\"Logitic-Regression-4.1\"><span class=\"toc-item-num\">4.1&nbsp;&nbsp;</span>Logitic Regression</a></span></li><li><span><a href=\"#Linear-SVM\" data-toc-modified-id=\"Linear-SVM-4.2\"><span class=\"toc-item-num\">4.2&nbsp;&nbsp;</span>Linear SVM</a></span></li><li><span><a href=\"#Random-Forest\" data-toc-modified-id=\"Random-Forest-4.3\"><span class=\"toc-item-num\">4.3&nbsp;&nbsp;</span>Random Forest</a></span></li><li><span><a href=\"#Stacking-Classifier\" data-toc-modified-id=\"Stacking-Classifier-4.4\"><span class=\"toc-item-num\">4.4&nbsp;&nbsp;</span>Stacking Classifier</a></span></li><li><span><a href=\"#Compare-Results\" data-toc-modified-id=\"Compare-Results-4.5\"><span class=\"toc-item-num\">4.5&nbsp;&nbsp;</span>Compare Results</a></span></li><li><span><a href=\"#Final-model\" data-toc-modified-id=\"Final-model-4.6\"><span class=\"toc-item-num\">4.6&nbsp;&nbsp;</span>Final model</a></span></li></ul></li><li><span><a href=\"#Analyse-feature-importance-with-SHAP\" data-toc-modified-id=\"Analyse-feature-importance-with-SHAP-5\"><span class=\"toc-item-num\">5&nbsp;&nbsp;</span>Analyse feature importance with SHAP</a></span></li><li><span><a href=\"#Appendix,-XGBoost-fine-tuning\" data-toc-modified-id=\"Appendix,-XGBoost-fine-tuning-6\"><span class=\"toc-item-num\">6&nbsp;&nbsp;</span>Appendix, XGBoost fine-tuning</a></span></li></ul></div>"
   ]
  },
  {
   "cell_type": "markdown",
   "id": "soviet-designation",
   "metadata": {},
   "source": [
    "## Prepare the data"
   ]
  },
  {
   "cell_type": "markdown",
   "id": "manual-metabolism",
   "metadata": {},
   "source": [
    "### Read in data"
   ]
  },
  {
   "cell_type": "code",
   "execution_count": 2,
   "id": "incredible-imagination",
   "metadata": {
    "ExecuteTime": {
     "end_time": "2022-02-09T10:13:27.465544Z",
     "start_time": "2022-02-09T10:13:25.045668Z"
    }
   },
   "outputs": [
    {
     "name": "stdout",
     "output_type": "stream",
     "text": [
      "1) application_test.csv\n",
      "2) application_train.csv\n",
      "3) bureau.csv\n",
      "4) bureau_balance.csv\n",
      "5) credit_card_balance.csv\n",
      "6) HomeCredit_columns_description.csv\n",
      "7) installments_payments.csv\n",
      "8) POS_CASH_balance.csv\n",
      "9) previous_application.csv\n",
      "10) sample_submission.csv\n"
     ]
    }
   ],
   "source": [
    "list_files = sorted(os.listdir(\"data/\"), key=str.lower)\n",
    "for i, file in enumerate(list_files):\n",
    "    print(\"{}) {}\".format(i+1, file))\n",
    "\n",
    "#app_test = pd.read_csv(\"data/\" + list_files[0])\n",
    "app_train = pd.read_csv(\"data/\" + list_files[1])\n",
    "#bureau =  pd.read_csv(\"data/\" + list_files[2])\n",
    "#b_b = pd.read_csv(\"data/\" + list_files[3])\n",
    "#cc_balance = pd.read_csv(\"data/\" + list_files[4])\n",
    "#ins_payments = pd.read_csv(\"data/\" + list_files[6])\n",
    "#pos_cash = pd.read_csv(\"data/\" + list_files[7])\n",
    "#prev_app = pd.read_csv(\"data/\" + list_files[8])"
   ]
  },
  {
   "cell_type": "markdown",
   "id": "quantitative-animation",
   "metadata": {},
   "source": [
    "### Transform data"
   ]
  },
  {
   "cell_type": "markdown",
   "id": "promotional-guatemala",
   "metadata": {},
   "source": [
    "We will drop the *SK_ID_CURR* features for the modeling. Being an ID, it is unique for each client, and so does not bring any information."
   ]
  },
  {
   "cell_type": "markdown",
   "id": "banned-yugoslavia",
   "metadata": {},
   "source": [
    "- *SK_ID_CURR*\n",
    "- *EXT_SOURCE_1*\n",
    "- *EXT_SOURCE_2*\n",
    "- *EXT_SOURCE_3*\n",
    "\n",
    "The first one is an id, meaning it is unique for each client, and so does not bring any information.\n",
    "For the three \"EXT_SOURCE\", it is totally different. The correlation study made previously suggests these features could be the major contributors of the final model. However, not knowing how these scores have been calculated, it would be impossible to us to explain a model based on them."
   ]
  },
  {
   "cell_type": "code",
   "execution_count": 3,
   "id": "visible-crowd",
   "metadata": {
    "ExecuteTime": {
     "end_time": "2022-02-09T10:13:28.487062Z",
     "start_time": "2022-02-09T10:13:27.467603Z"
    }
   },
   "outputs": [],
   "source": [
    "from sklearn.pipeline import Pipeline\n",
    "from sklearn.impute import SimpleImputer\n",
    "from sklearn.preprocessing import OneHotEncoder\n",
    "from sklearn.preprocessing import StandardScaler, MaxAbsScaler\n",
    "from sklearn.compose import ColumnTransformer\n",
    "from functions.preprocessing import NaAttFilter\n",
    "from functions.preprocessing import SparseCleaner, DenseCleaner\n",
    "from functions.preprocessing import DomainAdder\n",
    "from functions.preprocessing import SkewCleaner\n",
    "\n",
    "# Drop the target and the ID of input data\n",
    "# as well as sourc \n",
    "X = app_train.drop(['SK_ID_CURR',\n",
    "                    #'EXT_SOURCE_1', 'EXT_SOURCE_2', 'EXT_SOURCE_3',\n",
    "                    'TARGET'], axis=1)\n",
    "\n",
    "# Get the categorical attributes\n",
    "cat_att = X.select_dtypes('object').columns\n",
    "# Get the numerical attributes\n",
    "num_att = X.select_dtypes(['number']).columns\n",
    "ord_att = X[num_att].loc[:, X[num_att].nunique()<6].columns\n",
    "sparse_att = np.array([c for c in num_att\n",
    "                       if c not in ord_att\n",
    "                       and (X[c]==0).sum() > 0.5*len(X)])\n",
    "dense_att = np.array([c for c in num_att\n",
    "                      if c not in ord_att\n",
    "                      and c not in sparse_att])\n",
    "\n",
    "# Create a pipeline for all data preparation\n",
    "cat_pipeline = Pipeline([\n",
    "               ('filter', NaAttFilter()),               \n",
    "               ('imputer', SimpleImputer(strategy='most_frequent')),\n",
    "               ('encoder', OneHotEncoder(drop='if_binary')),\n",
    "               ])\n",
    "ord_pipeline = Pipeline([\n",
    "               ('filter', NaAttFilter()),\n",
    "               ('imputer', SimpleImputer(strategy='most_frequent'))\n",
    "               ])\n",
    "\n",
    "sparse_pipeline = Pipeline([\n",
    "                  ('filter', NaAttFilter()),\n",
    "                  ('cleaner', SparseCleaner()),\n",
    "                  ('imputer', SimpleImputer(strategy='most_frequent')),\n",
    "                  ('scaler', MaxAbsScaler())\n",
    "                  ])\n",
    "\n",
    "dense_pipeline = Pipeline([\n",
    "                 ('filter', NaAttFilter()),\n",
    "                 ('cleaner', DenseCleaner()),\n",
    "                 ('domain_adder', DomainAdder()),\n",
    "                 ('skew_transformer', SkewCleaner()),\n",
    "                 ('imputer', SimpleImputer()),\n",
    "                 ('scaler', StandardScaler())\n",
    "                 ])\n",
    "\n",
    "prep_pipeline = ColumnTransformer([\n",
    "                ('cat', cat_pipeline, cat_att),\n",
    "                ('ord', ord_pipeline, ord_att),\n",
    "                ('sparse', sparse_pipeline, sparse_att),\n",
    "                ('dense', dense_pipeline, dense_att),\n",
    "                ])"
   ]
  },
  {
   "cell_type": "code",
   "execution_count": 4,
   "id": "resistant-vinyl",
   "metadata": {
    "ExecuteTime": {
     "end_time": "2022-02-09T10:13:34.091859Z",
     "start_time": "2022-02-09T10:13:28.489835Z"
    }
   },
   "outputs": [
    {
     "name": "stdout",
     "output_type": "stream",
     "text": [
      "(307511, 168)\n"
     ]
    },
    {
     "data": {
      "text/html": [
       "<div>\n",
       "<style scoped>\n",
       "    .dataframe tbody tr th:only-of-type {\n",
       "        vertical-align: middle;\n",
       "    }\n",
       "\n",
       "    .dataframe tbody tr th {\n",
       "        vertical-align: top;\n",
       "    }\n",
       "\n",
       "    .dataframe thead th {\n",
       "        text-align: right;\n",
       "    }\n",
       "</style>\n",
       "<table border=\"1\" class=\"dataframe\">\n",
       "  <thead>\n",
       "    <tr style=\"text-align: right;\">\n",
       "      <th></th>\n",
       "      <th>NAME_CONTRACT_TYPE_Revolving loans</th>\n",
       "      <th>CODE_GENDER_F</th>\n",
       "      <th>CODE_GENDER_M</th>\n",
       "      <th>CODE_GENDER_XNA</th>\n",
       "      <th>FLAG_OWN_CAR_Y</th>\n",
       "      <th>FLAG_OWN_REALTY_Y</th>\n",
       "      <th>NAME_TYPE_SUITE_Children</th>\n",
       "      <th>NAME_TYPE_SUITE_Family</th>\n",
       "      <th>NAME_TYPE_SUITE_Group of people</th>\n",
       "      <th>NAME_TYPE_SUITE_Other_A</th>\n",
       "      <th>...</th>\n",
       "      <th>EXT_SOURCE_2</th>\n",
       "      <th>EXT_SOURCE_3</th>\n",
       "      <th>DAYS_LAST_PHONE_CHANGE</th>\n",
       "      <th>AMT_REQ_CREDIT_BUREAU_YEAR</th>\n",
       "      <th>DAYS_EMPLOYED_ANOM</th>\n",
       "      <th>DAYS_EMPLOYED_PERC_log</th>\n",
       "      <th>CREDIT_INCOME_PERC_log</th>\n",
       "      <th>INCOME_PER_PERSON_log</th>\n",
       "      <th>ANNUITY_INCOME_PERC_log</th>\n",
       "      <th>CREDIT_TERM_log</th>\n",
       "    </tr>\n",
       "  </thead>\n",
       "  <tbody>\n",
       "    <tr>\n",
       "      <th>0</th>\n",
       "      <td>0.0</td>\n",
       "      <td>0.0</td>\n",
       "      <td>1.0</td>\n",
       "      <td>0.0</td>\n",
       "      <td>0.0</td>\n",
       "      <td>1.0</td>\n",
       "      <td>0.0</td>\n",
       "      <td>0.0</td>\n",
       "      <td>0.0</td>\n",
       "      <td>0.0</td>\n",
       "      <td>...</td>\n",
       "      <td>-1.317463</td>\n",
       "      <td>-2.129249</td>\n",
       "      <td>-0.206991</td>\n",
       "      <td>-5.176655e-01</td>\n",
       "      <td>-0.468635</td>\n",
       "      <td>-0.756408</td>\n",
       "      <td>-0.755852</td>\n",
       "      <td>1.548695</td>\n",
       "      <td>-0.629692</td>\n",
       "      <td>0.326956</td>\n",
       "    </tr>\n",
       "    <tr>\n",
       "      <th>1</th>\n",
       "      <td>0.0</td>\n",
       "      <td>1.0</td>\n",
       "      <td>0.0</td>\n",
       "      <td>0.0</td>\n",
       "      <td>0.0</td>\n",
       "      <td>0.0</td>\n",
       "      <td>0.0</td>\n",
       "      <td>1.0</td>\n",
       "      <td>0.0</td>\n",
       "      <td>0.0</td>\n",
       "      <td>...</td>\n",
       "      <td>0.565106</td>\n",
       "      <td>0.000000</td>\n",
       "      <td>0.163108</td>\n",
       "      <td>-1.092866e+00</td>\n",
       "      <td>-0.468635</td>\n",
       "      <td>-0.722818</td>\n",
       "      <td>0.567970</td>\n",
       "      <td>0.912402</td>\n",
       "      <td>-0.511005</td>\n",
       "      <td>-1.178302</td>\n",
       "    </tr>\n",
       "    <tr>\n",
       "      <th>2</th>\n",
       "      <td>1.0</td>\n",
       "      <td>0.0</td>\n",
       "      <td>1.0</td>\n",
       "      <td>0.0</td>\n",
       "      <td>1.0</td>\n",
       "      <td>1.0</td>\n",
       "      <td>0.0</td>\n",
       "      <td>0.0</td>\n",
       "      <td>0.0</td>\n",
       "      <td>0.0</td>\n",
       "      <td>...</td>\n",
       "      <td>0.217545</td>\n",
       "      <td>1.253633</td>\n",
       "      <td>0.178831</td>\n",
       "      <td>-1.092866e+00</td>\n",
       "      <td>-0.468635</td>\n",
       "      <td>-1.299361</td>\n",
       "      <td>-0.761159</td>\n",
       "      <td>-0.175343</td>\n",
       "      <td>-0.888155</td>\n",
       "      <td>-0.155911</td>\n",
       "    </tr>\n",
       "    <tr>\n",
       "      <th>3</th>\n",
       "      <td>0.0</td>\n",
       "      <td>1.0</td>\n",
       "      <td>0.0</td>\n",
       "      <td>0.0</td>\n",
       "      <td>0.0</td>\n",
       "      <td>1.0</td>\n",
       "      <td>0.0</td>\n",
       "      <td>0.0</td>\n",
       "      <td>0.0</td>\n",
       "      <td>0.0</td>\n",
       "      <td>...</td>\n",
       "      <td>0.712841</td>\n",
       "      <td>0.000000</td>\n",
       "      <td>0.418307</td>\n",
       "      <td>-3.831603e-16</td>\n",
       "      <td>-0.468635</td>\n",
       "      <td>0.089090</td>\n",
       "      <td>-0.558658</td>\n",
       "      <td>-0.175343</td>\n",
       "      <td>0.463534</td>\n",
       "      <td>1.830987</td>\n",
       "    </tr>\n",
       "    <tr>\n",
       "      <th>4</th>\n",
       "      <td>0.0</td>\n",
       "      <td>0.0</td>\n",
       "      <td>1.0</td>\n",
       "      <td>0.0</td>\n",
       "      <td>0.0</td>\n",
       "      <td>1.0</td>\n",
       "      <td>0.0</td>\n",
       "      <td>0.0</td>\n",
       "      <td>0.0</td>\n",
       "      <td>0.0</td>\n",
       "      <td>...</td>\n",
       "      <td>-1.004190</td>\n",
       "      <td>0.000000</td>\n",
       "      <td>-0.173126</td>\n",
       "      <td>-1.092866e+00</td>\n",
       "      <td>-0.468635</td>\n",
       "      <td>0.023265</td>\n",
       "      <td>0.359119</td>\n",
       "      <td>0.747061</td>\n",
       "      <td>0.028655</td>\n",
       "      <td>-0.490170</td>\n",
       "    </tr>\n",
       "  </tbody>\n",
       "</table>\n",
       "<p>5 rows × 168 columns</p>\n",
       "</div>"
      ],
      "text/plain": [
       "   NAME_CONTRACT_TYPE_Revolving loans  CODE_GENDER_F  CODE_GENDER_M  \\\n",
       "0                                 0.0            0.0            1.0   \n",
       "1                                 0.0            1.0            0.0   \n",
       "2                                 1.0            0.0            1.0   \n",
       "3                                 0.0            1.0            0.0   \n",
       "4                                 0.0            0.0            1.0   \n",
       "\n",
       "   CODE_GENDER_XNA  FLAG_OWN_CAR_Y  FLAG_OWN_REALTY_Y  \\\n",
       "0              0.0             0.0                1.0   \n",
       "1              0.0             0.0                0.0   \n",
       "2              0.0             1.0                1.0   \n",
       "3              0.0             0.0                1.0   \n",
       "4              0.0             0.0                1.0   \n",
       "\n",
       "   NAME_TYPE_SUITE_Children  NAME_TYPE_SUITE_Family  \\\n",
       "0                       0.0                     0.0   \n",
       "1                       0.0                     1.0   \n",
       "2                       0.0                     0.0   \n",
       "3                       0.0                     0.0   \n",
       "4                       0.0                     0.0   \n",
       "\n",
       "   NAME_TYPE_SUITE_Group of people  NAME_TYPE_SUITE_Other_A  ...  \\\n",
       "0                              0.0                      0.0  ...   \n",
       "1                              0.0                      0.0  ...   \n",
       "2                              0.0                      0.0  ...   \n",
       "3                              0.0                      0.0  ...   \n",
       "4                              0.0                      0.0  ...   \n",
       "\n",
       "   EXT_SOURCE_2  EXT_SOURCE_3  DAYS_LAST_PHONE_CHANGE  \\\n",
       "0     -1.317463     -2.129249               -0.206991   \n",
       "1      0.565106      0.000000                0.163108   \n",
       "2      0.217545      1.253633                0.178831   \n",
       "3      0.712841      0.000000                0.418307   \n",
       "4     -1.004190      0.000000               -0.173126   \n",
       "\n",
       "   AMT_REQ_CREDIT_BUREAU_YEAR  DAYS_EMPLOYED_ANOM  DAYS_EMPLOYED_PERC_log  \\\n",
       "0               -5.176655e-01           -0.468635               -0.756408   \n",
       "1               -1.092866e+00           -0.468635               -0.722818   \n",
       "2               -1.092866e+00           -0.468635               -1.299361   \n",
       "3               -3.831603e-16           -0.468635                0.089090   \n",
       "4               -1.092866e+00           -0.468635                0.023265   \n",
       "\n",
       "   CREDIT_INCOME_PERC_log  INCOME_PER_PERSON_log  ANNUITY_INCOME_PERC_log  \\\n",
       "0               -0.755852               1.548695                -0.629692   \n",
       "1                0.567970               0.912402                -0.511005   \n",
       "2               -0.761159              -0.175343                -0.888155   \n",
       "3               -0.558658              -0.175343                 0.463534   \n",
       "4                0.359119               0.747061                 0.028655   \n",
       "\n",
       "   CREDIT_TERM_log  \n",
       "0         0.326956  \n",
       "1        -1.178302  \n",
       "2        -0.155911  \n",
       "3         1.830987  \n",
       "4        -0.490170  \n",
       "\n",
       "[5 rows x 168 columns]"
      ]
     },
     "execution_count": 4,
     "metadata": {},
     "output_type": "execute_result"
    }
   ],
   "source": [
    "# Prepare data\n",
    "y = app_train['TARGET']\n",
    "X_pr = prep_pipeline.fit_transform(X)\n",
    "print(X_pr.shape)\n",
    "# Get the name of the transformed categorical features\n",
    "cat_pipeline.fit(X[cat_att]) # required to get attributes, ColumnTransformer bug?\n",
    "cat_mask = prep_pipeline.get_params()['cat__filter'].mask_\n",
    "encoder = prep_pipeline.get_params()['cat__encoder']\n",
    "cat_att_tr = encoder.get_feature_names_out(cat_att[~cat_mask])\n",
    "# Get the name of the transformed ordinal features\n",
    "ord_pipeline.fit(X[ord_att])\n",
    "ord_mask = prep_pipeline.get_params()['ord__filter'].mask_\n",
    "ord_att_tr = ord_att[~ord_mask]\n",
    "# Get the name of the transformed sparse features\n",
    "sparse_pipeline.fit(X[sparse_att])\n",
    "sparse_mask = prep_pipeline.get_params()['sparse__filter'].mask_\n",
    "sparse_att_tr = sparse_att[~sparse_mask]\n",
    "# Get the name of the transformed dense features\n",
    "dense_pipeline.fit(X[dense_att])\n",
    "dense_mask = prep_pipeline.get_params()['dense__filter'].mask_\n",
    "dense_att_tr = dense_att[~dense_mask]\n",
    "domain_att = ['DAYS_EMPLOYED_PERC',\n",
    "              'CREDIT_INCOME_PERC',\n",
    "              'INCOME_PER_PERSON',\n",
    "              'ANNUITY_INCOME_PERC',\n",
    "              'CREDIT_TERM']\n",
    "extra_att = np.concatenate((['DAYS_EMPLOYED_ANOM'], domain_att), axis=None)\n",
    "transformer = prep_pipeline.get_params()['dense__skew_transformer']\n",
    "dense_att_tr = (pd.Series(dense_att_tr)\n",
    "                  .append(pd.Series(extra_att))\n",
    "                  .replace(transformer.get_feature_names()))\n",
    "# Concatenate all attributes\n",
    "final_att = np.concatenate((cat_att_tr, ord_att_tr, sparse_att_tr, dense_att_tr),\n",
    "                           axis=None)\n",
    "# Create a DataFrame with all data prepared\n",
    "df = pd.DataFrame(X_pr, columns=final_att)\n",
    "df.head()"
   ]
  },
  {
   "cell_type": "markdown",
   "id": "rubber-international",
   "metadata": {},
   "source": [
    "## Shortlist Promising Models"
   ]
  },
  {
   "cell_type": "markdown",
   "id": "patent-sailing",
   "metadata": {},
   "source": [
    "### Select a Performance Measure"
   ]
  },
  {
   "cell_type": "code",
   "execution_count": 5,
   "id": "extended-basket",
   "metadata": {
    "ExecuteTime": {
     "end_time": "2022-02-09T10:13:34.098576Z",
     "start_time": "2022-02-09T10:13:34.093279Z"
    }
   },
   "outputs": [
    {
     "name": "stdout",
     "output_type": "stream",
     "text": [
      "Percentage of the positive class: 8.1%\n"
     ]
    }
   ],
   "source": [
    "print(f\"Percentage of the positive class: \\\n",
    "{y.value_counts()[1]/len(y):.1%}\")"
   ]
  },
  {
   "cell_type": "markdown",
   "id": "secure-rating",
   "metadata": {},
   "source": [
    "Though *accuracy* is generally the first performance used for binary classification, it is seldom the best choice when we are dealing with *skewed dataset*, like the one we have.  \n",
    "To prove it, let's take a very dumb classifier that just classifies every instance in the *negative* class (meaning the majority class). We would get an accuracy of $92\\%$, not bad for such dumb classifier! Thus, no matter the model used, the accuracy will be high. It will be difficult to know if our model really learn something, whether it has skill on the dataset.\n",
    "\n",
    "There are much better way to evaluate the performance of a classifier, all depends on the model's objective. Let's remind ourselves the objective: **predict whether a new client will be in default or not.** It will cost much more money for the bank to grant a loan to a person that will not be able to repay it, than the opposite, refuse to approve a loan for someone who could pay it back. Meaning we care more about *False Negative* than *False Positive*, in other words, whe prefer having a high *Recall* than a high *Precision*.\n",
    "\n",
    "The $F_1$ score is often used for imbalanced data and binary classification problems. It is the *harmonic mean* of *Precision* and *Recall*:\n",
    "\n",
    "$\\displaystyle F_1 = 2 \\times \\frac {precision \\times recall}{precision + recall}$\n",
    "\n",
    "The $F_1$ score favors classifiers that have similar *precision* and *recall*. As said above, this is not what we want. Then, we will use another score typically used for such problem: the *AUC* score. AUC standing for \"Area Under the Curve\". Its major advantage is to compare the results for different threshold, and so to select a thresholf with a good precision/recall trade_off. Given the objective, set the threshold at 0.5, as it is the case for most of machine learning algorithms, may not be the best solution. Two curves can be used to compute the AUC:\n",
    "- the Precision-Recall (PR) curve\n",
    "- the Receiver Operating Characteristic (ROC) curve\n",
    "\n",
    "The former is prefered when:\n",
    "- the positive class is rare or,\n",
    "- you care more about the false positives than the false negative.\n",
    "\n",
    "Here, we definitely care more about the false negatives than false postives. We will evaluate models using the **ROC AUC**, this can be optimisitc for severely imbalanced datasets but will still show a relative change with better performing models."
   ]
  },
  {
   "cell_type": "markdown",
   "id": "interracial-diversity",
   "metadata": {},
   "source": [
    "### Establish a performance baseline"
   ]
  },
  {
   "cell_type": "markdown",
   "id": "loving-advocacy",
   "metadata": {},
   "source": [
    "A performance baseline provides a minimum score above which a model is considered to have skill on the dataset. It provides a line by which all other algorithms can be compared.\n",
    "\n",
    "A baseline can be established using a naive classifier, such as predicting the most frequent class label for all examples in the dataset. Each metric requires the careful choice of a specific naive classification strategy, that achieves the appropriate \"*no skill*\" performance. For AUC metrics, such as PR AUC or ROC AUC, it can be achieved by predicting class labels randomly but in proportion to their base rate (e.g. 8.1% for the positive class), like the \"*stratified*\" strategy of the sklearn class `DummyClassifier`.\n",
    "\n",
    "We know that for such model, the ROC AUC is always 0.5. Thus, using a Dummy Classifier as a baseline is not relevant with the ROC AUC metric. Let's use a **Logistic Regression** instead."
   ]
  },
  {
   "cell_type": "code",
   "execution_count": 6,
   "id": "athletic-external",
   "metadata": {
    "ExecuteTime": {
     "end_time": "2022-02-09T10:13:49.135066Z",
     "start_time": "2022-02-09T10:13:34.100267Z"
    },
    "scrolled": true
   },
   "outputs": [
    {
     "name": "stdout",
     "output_type": "stream",
     "text": [
      "ROC AUC for the baseline: 0.746\n"
     ]
    }
   ],
   "source": [
    "from sklearn.model_selection import StratifiedKFold\n",
    "from sklearn.model_selection import cross_val_score\n",
    "from sklearn.linear_model import LogisticRegression\n",
    "\n",
    "# Train a dummy classifier\n",
    "baseline_clf = LogisticRegression()\n",
    "\n",
    "# Get the PR AUC score with cross validation\n",
    "cv = StratifiedKFold(5, shuffle=True, random_state=42)\n",
    "baseline_scores = cross_val_score(baseline_clf, X_pr, y,\n",
    "                                  scoring='roc_auc', cv=cv, n_jobs=-1)\n",
    "print(f\"ROC AUC for the baseline: {baseline_scores.mean():.3f}\")"
   ]
  },
  {
   "cell_type": "markdown",
   "id": "foreign-barbados",
   "metadata": {},
   "source": [
    "### Train quick and dirty models and compare their performance"
   ]
  },
  {
   "cell_type": "code",
   "execution_count": 7,
   "id": "express-clearing",
   "metadata": {
    "ExecuteTime": {
     "end_time": "2022-02-09T10:38:21.720066Z",
     "start_time": "2022-02-09T10:13:49.136857Z"
    }
   },
   "outputs": [
    {
     "data": {
      "text/html": [
       "<div>\n",
       "<style scoped>\n",
       "    .dataframe tbody tr th:only-of-type {\n",
       "        vertical-align: middle;\n",
       "    }\n",
       "\n",
       "    .dataframe tbody tr th {\n",
       "        vertical-align: top;\n",
       "    }\n",
       "\n",
       "    .dataframe thead th {\n",
       "        text-align: right;\n",
       "    }\n",
       "</style>\n",
       "<table border=\"1\" class=\"dataframe\">\n",
       "  <thead>\n",
       "    <tr style=\"text-align: right;\">\n",
       "      <th></th>\n",
       "      <th>fit time (s)</th>\n",
       "      <th>score time (s)</th>\n",
       "      <th>Accuracy</th>\n",
       "      <th>Precision</th>\n",
       "      <th>Recall</th>\n",
       "      <th>F1 Score</th>\n",
       "      <th>ROC AUC</th>\n",
       "    </tr>\n",
       "  </thead>\n",
       "  <tbody>\n",
       "    <tr>\n",
       "      <th>XGBoost Classifier</th>\n",
       "      <td>159.840263</td>\n",
       "      <td>0.247542</td>\n",
       "      <td>0.919053</td>\n",
       "      <td>0.480878</td>\n",
       "      <td>0.033434</td>\n",
       "      <td>0.062519</td>\n",
       "      <td>0.755382</td>\n",
       "    </tr>\n",
       "    <tr>\n",
       "      <th>Logistic Regression</th>\n",
       "      <td>13.223204</td>\n",
       "      <td>0.096409</td>\n",
       "      <td>0.919235</td>\n",
       "      <td>0.497224</td>\n",
       "      <td>0.013414</td>\n",
       "      <td>0.026107</td>\n",
       "      <td>0.745745</td>\n",
       "    </tr>\n",
       "    <tr>\n",
       "      <th>Random Forest Classifier</th>\n",
       "      <td>91.532042</td>\n",
       "      <td>2.675805</td>\n",
       "      <td>0.919326</td>\n",
       "      <td>0.746429</td>\n",
       "      <td>0.001047</td>\n",
       "      <td>0.002092</td>\n",
       "      <td>0.716262</td>\n",
       "    </tr>\n",
       "    <tr>\n",
       "      <th>SVM - Linear kernel</th>\n",
       "      <td>2.705321</td>\n",
       "      <td>0.086596</td>\n",
       "      <td>0.919271</td>\n",
       "      <td>0.000000</td>\n",
       "      <td>0.000000</td>\n",
       "      <td>0.000000</td>\n",
       "      <td>0.640682</td>\n",
       "    </tr>\n",
       "    <tr>\n",
       "      <th>KNN Classifier</th>\n",
       "      <td>0.399184</td>\n",
       "      <td>1188.568046</td>\n",
       "      <td>0.913437</td>\n",
       "      <td>0.250346</td>\n",
       "      <td>0.036133</td>\n",
       "      <td>0.063141</td>\n",
       "      <td>0.596392</td>\n",
       "    </tr>\n",
       "  </tbody>\n",
       "</table>\n",
       "</div>"
      ],
      "text/plain": [
       "                          fit time (s)  score time (s)  Accuracy  Precision  \\\n",
       "XGBoost Classifier          159.840263        0.247542  0.919053   0.480878   \n",
       "Logistic Regression          13.223204        0.096409  0.919235   0.497224   \n",
       "Random Forest Classifier     91.532042        2.675805  0.919326   0.746429   \n",
       "SVM - Linear kernel           2.705321        0.086596  0.919271   0.000000   \n",
       "KNN Classifier                0.399184     1188.568046  0.913437   0.250346   \n",
       "\n",
       "                            Recall  F1 Score   ROC AUC  \n",
       "XGBoost Classifier        0.033434  0.062519  0.755382  \n",
       "Logistic Regression       0.013414  0.026107  0.745745  \n",
       "Random Forest Classifier  0.001047  0.002092  0.716262  \n",
       "SVM - Linear kernel       0.000000  0.000000  0.640682  \n",
       "KNN Classifier            0.036133  0.063141  0.596392  "
      ]
     },
     "execution_count": 7,
     "metadata": {},
     "output_type": "execute_result"
    }
   ],
   "source": [
    "from functions.modeling import compare_models\n",
    "\n",
    "compare_models(X_pr, y, sort='ROC AUC')"
   ]
  },
  {
   "cell_type": "markdown",
   "id": "superior-connecticut",
   "metadata": {},
   "source": [
    "Results are pretty disappointing, models seem to simply predict the negative class for all clients. It is likely because the dataset is imbalanced. Let's try to add an oversampling step (SMOTE) in our model."
   ]
  },
  {
   "cell_type": "markdown",
   "id": "impossible-springer",
   "metadata": {},
   "source": [
    "### Data augmentation with SMOTE"
   ]
  },
  {
   "cell_type": "code",
   "execution_count": 8,
   "id": "verified-facial",
   "metadata": {
    "ExecuteTime": {
     "end_time": "2022-02-09T10:38:21.858199Z",
     "start_time": "2022-02-09T10:38:21.728039Z"
    }
   },
   "outputs": [],
   "source": [
    "from sklearn.linear_model import SGDClassifier\n",
    "from sklearn.neighbors import KNeighborsClassifier\n",
    "from sklearn.ensemble import RandomForestClassifier\n",
    "from xgboost import XGBClassifier\n",
    "from imblearn.over_sampling import SMOTE\n",
    "import imblearn.pipeline as imbpipe\n",
    "\n",
    "log_reg = LogisticRegression()\n",
    "svm = SGDClassifier(loss='hinge', random_state=42)\n",
    "knn = KNeighborsClassifier()\n",
    "forest = RandomForestClassifier(random_state=42, bootstrap=True, n_jobs=-1)\n",
    "xgb = XGBClassifier(n_estimators=100, random_state=42, eval_metric='logloss')\n",
    "\n",
    "models = {}\n",
    "models['Logistic Regression'] = imbpipe.Pipeline([\n",
    "                                ('over', SMOTE(random_state=42)),\n",
    "                                ('model', log_reg)\n",
    "                                ])\n",
    "models['SVM - Linear kernel'] = imbpipe.Pipeline([\n",
    "                                ('over', SMOTE(random_state=42)),\n",
    "                                ('model', svm)\n",
    "                                ])\n",
    "models['KNN Classifier'] = imbpipe.Pipeline([\n",
    "                           ('over', SMOTE(random_state=42)),\n",
    "                           ('model', knn)\n",
    "                           ])\n",
    "models['Random Forest Classifier'] = imbpipe.Pipeline([\n",
    "                                     ('over', SMOTE(random_state=42)),\n",
    "                                     ('model', forest)\n",
    "                                     ])\n",
    "models['XGBoost Classifier'] = imbpipe.Pipeline([\n",
    "                               ('over', SMOTE(random_state=42)),\n",
    "                               ('model', xgb)\n",
    "                               ])"
   ]
  },
  {
   "cell_type": "code",
   "execution_count": 9,
   "id": "remarkable-viewer",
   "metadata": {
    "ExecuteTime": {
     "end_time": "2022-02-09T11:23:11.074026Z",
     "start_time": "2022-02-09T10:38:21.861413Z"
    }
   },
   "outputs": [
    {
     "data": {
      "text/html": [
       "<div>\n",
       "<style scoped>\n",
       "    .dataframe tbody tr th:only-of-type {\n",
       "        vertical-align: middle;\n",
       "    }\n",
       "\n",
       "    .dataframe tbody tr th {\n",
       "        vertical-align: top;\n",
       "    }\n",
       "\n",
       "    .dataframe thead th {\n",
       "        text-align: right;\n",
       "    }\n",
       "</style>\n",
       "<table border=\"1\" class=\"dataframe\">\n",
       "  <thead>\n",
       "    <tr style=\"text-align: right;\">\n",
       "      <th></th>\n",
       "      <th>fit time (s)</th>\n",
       "      <th>score time (s)</th>\n",
       "      <th>Accuracy</th>\n",
       "      <th>Precision</th>\n",
       "      <th>Recall</th>\n",
       "      <th>F1 Score</th>\n",
       "      <th>ROC AUC</th>\n",
       "    </tr>\n",
       "  </thead>\n",
       "  <tbody>\n",
       "    <tr>\n",
       "      <th>XGBoost Classifier</th>\n",
       "      <td>422.724191</td>\n",
       "      <td>0.400136</td>\n",
       "      <td>0.918907</td>\n",
       "      <td>0.467944</td>\n",
       "      <td>0.033797</td>\n",
       "      <td>0.063029</td>\n",
       "      <td>0.750565</td>\n",
       "    </tr>\n",
       "    <tr>\n",
       "      <th>Logistic Regression</th>\n",
       "      <td>38.837552</td>\n",
       "      <td>0.125365</td>\n",
       "      <td>0.695881</td>\n",
       "      <td>0.159705</td>\n",
       "      <td>0.649345</td>\n",
       "      <td>0.256358</td>\n",
       "      <td>0.736431</td>\n",
       "    </tr>\n",
       "    <tr>\n",
       "      <th>SVM - Linear kernel</th>\n",
       "      <td>21.568454</td>\n",
       "      <td>0.110824</td>\n",
       "      <td>0.662100</td>\n",
       "      <td>0.150070</td>\n",
       "      <td>0.682014</td>\n",
       "      <td>0.245937</td>\n",
       "      <td>0.732614</td>\n",
       "    </tr>\n",
       "    <tr>\n",
       "      <th>Random Forest Classifier</th>\n",
       "      <td>187.805610</td>\n",
       "      <td>2.338242</td>\n",
       "      <td>0.919167</td>\n",
       "      <td>0.408106</td>\n",
       "      <td>0.003303</td>\n",
       "      <td>0.006551</td>\n",
       "      <td>0.712464</td>\n",
       "    </tr>\n",
       "    <tr>\n",
       "      <th>KNN Classifier</th>\n",
       "      <td>15.593114</td>\n",
       "      <td>1987.576687</td>\n",
       "      <td>0.562656</td>\n",
       "      <td>0.113118</td>\n",
       "      <td>0.645801</td>\n",
       "      <td>0.192514</td>\n",
       "      <td>0.629288</td>\n",
       "    </tr>\n",
       "  </tbody>\n",
       "</table>\n",
       "</div>"
      ],
      "text/plain": [
       "                          fit time (s)  score time (s)  Accuracy  Precision  \\\n",
       "XGBoost Classifier          422.724191        0.400136  0.918907   0.467944   \n",
       "Logistic Regression          38.837552        0.125365  0.695881   0.159705   \n",
       "SVM - Linear kernel          21.568454        0.110824  0.662100   0.150070   \n",
       "Random Forest Classifier    187.805610        2.338242  0.919167   0.408106   \n",
       "KNN Classifier               15.593114     1987.576687  0.562656   0.113118   \n",
       "\n",
       "                            Recall  F1 Score   ROC AUC  \n",
       "XGBoost Classifier        0.033797  0.063029  0.750565  \n",
       "Logistic Regression       0.649345  0.256358  0.736431  \n",
       "SVM - Linear kernel       0.682014  0.245937  0.732614  \n",
       "Random Forest Classifier  0.003303  0.006551  0.712464  \n",
       "KNN Classifier            0.645801  0.192514  0.629288  "
      ]
     },
     "execution_count": 9,
     "metadata": {},
     "output_type": "execute_result"
    }
   ],
   "source": [
    "compare_models(X_pr, y, models=models,\n",
    "               sort='ROC AUC')"
   ]
  },
  {
   "cell_type": "markdown",
   "id": "developed-consideration",
   "metadata": {},
   "source": [
    "Surprisingly, results are nearly the same. However, we can notice that for linear models (svm, logistic regression), the recall increased a lot, meaning they learnt something.\n",
    "\n",
    "In the SMOTE paper, it is mentionned that SMOTE performs better when combined with undersampling of the majority class. Let's add, after the oversampling, a random undersampling step in our pipeline.\n",
    "To test different sampling strategies, we will use an SVM model for two reasons:\n",
    "1. It is the fastest to train\n",
    "2. It was the model for which adding SMOTE was the most helpful"
   ]
  },
  {
   "cell_type": "code",
   "execution_count": 10,
   "id": "determined-serial",
   "metadata": {
    "ExecuteTime": {
     "end_time": "2022-02-09T11:32:37.797106Z",
     "start_time": "2022-02-09T11:23:11.077683Z"
    }
   },
   "outputs": [
    {
     "name": "stdout",
     "output_type": "stream",
     "text": [
      "{'over__sampling_strategy': 0.3, 'under__sampling_strategy': 0.6}\n"
     ]
    }
   ],
   "source": [
    "from sklearn.model_selection import GridSearchCV\n",
    "from imblearn.under_sampling import RandomUnderSampler\n",
    "\n",
    "# Include an undersampling step into the pipeline\n",
    "smote_pipeline = imbpipe.Pipeline([\n",
    "                 ('over', SMOTE(random_state=42)),  \n",
    "                 ('under', RandomUnderSampler(random_state=42)),\n",
    "                 ('model', SGDClassifier(loss='hinge', random_state=42))\n",
    "                 ])\n",
    "\n",
    "# Fine-tune the sampling strategy of both\n",
    "# under and over-sampling\n",
    "param_grid = [{'over__sampling_strategy': [.1],\n",
    "               'under__sampling_strategy': [.1, .2]\n",
    "             },\n",
    "             {'over__sampling_strategy': [.2],\n",
    "              'under__sampling_strategy': [.2, .3, .4]\n",
    "             },\n",
    "             {'over__sampling_strategy': [.3],\n",
    "              'under__sampling_strategy': [.3, .4, .5, .6]\n",
    "             },\n",
    "             {'over__sampling_strategy': [.4],\n",
    "              'under__sampling_strategy': np.linspace(.4, .8, 5)\n",
    "             },\n",
    "             {'over__sampling_strategy': [.5],\n",
    "              'under__sampling_strategy': np.linspace(.5, .9, 5)\n",
    "             },\n",
    "             {'over__sampling_strategy': [.6],\n",
    "              'under__sampling_strategy': np.linspace(.6, 1, 5)\n",
    "             },\n",
    "             {'over__sampling_strategy': [.7],\n",
    "              'under__sampling_strategy': np.linspace(.7, 1, 4)\n",
    "             },\n",
    "             {'over__sampling_strategy': [.8],\n",
    "              'under__sampling_strategy': [.8, 1, 3]\n",
    "             },\n",
    "             {'over__sampling_strategy': [.9],\n",
    "              'under__sampling_strategy': [.9, 1, 2]\n",
    "             },\n",
    "             {'over__sampling_strategy': [1],\n",
    "              'under__sampling_strategy': [1]\n",
    "             },]\n",
    "              \n",
    "grid_search = GridSearchCV(smote_pipeline, param_grid,\n",
    "                           scoring='roc_auc', cv=cv, n_jobs=-1)\n",
    "grid_search.fit(X_pr, y)\n",
    "print(grid_search.best_params_)"
   ]
  },
  {
   "cell_type": "code",
   "execution_count": 11,
   "id": "straight-doubt",
   "metadata": {
    "ExecuteTime": {
     "end_time": "2022-02-09T11:32:37.805689Z",
     "start_time": "2022-02-09T11:32:37.799783Z"
    }
   },
   "outputs": [],
   "source": [
    "over_strategy = grid_search.best_params_['over__sampling_strategy']\n",
    "under_strategy = grid_search.best_params_['under__sampling_strategy']\n",
    "oversampling = SMOTE(random_state=42,\n",
    "                     sampling_strategy=over_strategy)\n",
    "undersampling = RandomUnderSampler(random_state=42,\n",
    "                                   sampling_strategy=under_strategy)"
   ]
  },
  {
   "cell_type": "markdown",
   "id": "satisfactory-database",
   "metadata": {},
   "source": [
    "### Problem of overfitting"
   ]
  },
  {
   "cell_type": "markdown",
   "id": "union-watch",
   "metadata": {},
   "source": [
    "As the ensemble learning methods &ndash; Random Forest and XGBoost &ndash; are based on Decision Trees, the poor performance observed might be due to overfitting. Let's see if it is the case."
   ]
  },
  {
   "cell_type": "code",
   "execution_count": 12,
   "id": "grateful-trust",
   "metadata": {
    "ExecuteTime": {
     "end_time": "2022-02-09T11:36:33.236195Z",
     "start_time": "2022-02-09T11:32:37.808222Z"
    }
   },
   "outputs": [
    {
     "data": {
      "text/html": [
       "<div>\n",
       "<style scoped>\n",
       "    .dataframe tbody tr th:only-of-type {\n",
       "        vertical-align: middle;\n",
       "    }\n",
       "\n",
       "    .dataframe tbody tr th {\n",
       "        vertical-align: top;\n",
       "    }\n",
       "\n",
       "    .dataframe thead th {\n",
       "        text-align: right;\n",
       "    }\n",
       "</style>\n",
       "<table border=\"1\" class=\"dataframe\">\n",
       "  <thead>\n",
       "    <tr style=\"text-align: right;\">\n",
       "      <th></th>\n",
       "      <th>fit time (s)</th>\n",
       "      <th>score time (s)</th>\n",
       "      <th>Recall</th>\n",
       "      <th>Recall_train</th>\n",
       "      <th>ROC AUC</th>\n",
       "      <th>ROC_AUC_train</th>\n",
       "    </tr>\n",
       "  </thead>\n",
       "  <tbody>\n",
       "    <tr>\n",
       "      <th>Random Forest Classifier</th>\n",
       "      <td>67.204241</td>\n",
       "      <td>3.659025</td>\n",
       "      <td>0.041289</td>\n",
       "      <td>0.999990</td>\n",
       "      <td>0.723631</td>\n",
       "      <td>0.999980</td>\n",
       "    </tr>\n",
       "    <tr>\n",
       "      <th>XGBoost Classifier</th>\n",
       "      <td>145.642051</td>\n",
       "      <td>0.304250</td>\n",
       "      <td>0.125076</td>\n",
       "      <td>0.187633</td>\n",
       "      <td>0.752377</td>\n",
       "      <td>0.828087</td>\n",
       "    </tr>\n",
       "  </tbody>\n",
       "</table>\n",
       "</div>"
      ],
      "text/plain": [
       "                          fit time (s)  score time (s)    Recall  \\\n",
       "Random Forest Classifier     67.204241        3.659025  0.041289   \n",
       "XGBoost Classifier          145.642051        0.304250  0.125076   \n",
       "\n",
       "                          Recall_train   ROC AUC  ROC_AUC_train  \n",
       "Random Forest Classifier      0.999990  0.723631       0.999980  \n",
       "XGBoost Classifier            0.187633  0.752377       0.828087  "
      ]
     },
     "execution_count": 12,
     "metadata": {},
     "output_type": "execute_result"
    }
   ],
   "source": [
    "from sklearn.metrics import recall_score\n",
    "from sklearn.model_selection import cross_validate\n",
    "\n",
    "columns = ['fit time (s)', 'score time (s)', 'Recall', 'Recall_train',\n",
    "           'ROC AUC', 'ROC_AUC_train']\n",
    "# get models\n",
    "ens_models = {}\n",
    "ens_models['Random Forest Classifier'] = imbpipe.Pipeline([\n",
    "                                         ('over', oversampling),  \n",
    "                                         ('under', undersampling),\n",
    "                                         ('model', forest)\n",
    "                                         ])\n",
    "ens_models['XGBoost Classifier'] = imbpipe.Pipeline([\n",
    "                                   ('over', oversampling),  \n",
    "                                   ('under', undersampling),\n",
    "                                   ('model', xgb)\n",
    "                                   ])\n",
    "# get scores for each model\n",
    "scores = []\n",
    "for m in ens_models:\n",
    "    m_scores = cross_validate(ens_models[m], X_pr, y, scoring=['recall', 'roc_auc'],\n",
    "                              cv=cv, n_jobs=-1, return_train_score=True)\n",
    "    m_scores = [m_scores[key].mean() for key in m_scores]\n",
    "    scores.append(m_scores)\n",
    "# Return a DataFrame with all scores\n",
    "pd.DataFrame(scores, columns=columns, index=ens_models.keys())"
   ]
  },
  {
   "cell_type": "markdown",
   "id": "bearing-negative",
   "metadata": {},
   "source": [
    "For XGBoost, even on the training set, the results remain poor especially the recall. However, the Random Forest results are almost perfect on the training set. The latter clearly overfit data, we should be able to increase its result by regularized it, such as decreasing `max_depth` or `max_features`.\n",
    "\n",
    "We will continue with the following models:\n",
    "- Logistic Regression\n",
    "- Linear SVM\n",
    "- Random Forest\n",
    "\n",
    "XGboost has been dropped due to its poor performance and KNN because of the high time required to make predictions."
   ]
  },
  {
   "cell_type": "code",
   "execution_count": 13,
   "id": "italian-telescope",
   "metadata": {
    "ExecuteTime": {
     "end_time": "2022-02-09T11:36:33.244349Z",
     "start_time": "2022-02-09T11:36:33.238752Z"
    }
   },
   "outputs": [],
   "source": [
    "models = {}\n",
    "models['Logistic Regression'] = imbpipe.Pipeline([\n",
    "                                ('over', oversampling),  \n",
    "                                ('under', undersampling),\n",
    "                                ('model', log_reg)\n",
    "                                ])\n",
    "models['SVM - Linear kernel'] = imbpipe.Pipeline([\n",
    "                                ('over', oversampling),  \n",
    "                                ('under', undersampling),\n",
    "                                ('model', svm)\n",
    "                                ])\n",
    "models['Random Forest Classifier'] = imbpipe.Pipeline([\n",
    "                                     ('over', oversampling),  \n",
    "                                     ('under', undersampling),\n",
    "                                     ('model', forest)\n",
    "                                     ])"
   ]
  },
  {
   "cell_type": "code",
   "execution_count": 14,
   "id": "suspected-implementation",
   "metadata": {
    "ExecuteTime": {
     "end_time": "2022-02-09T11:38:25.377197Z",
     "start_time": "2022-02-09T11:36:33.247011Z"
    }
   },
   "outputs": [
    {
     "data": {
      "text/html": [
       "<div>\n",
       "<style scoped>\n",
       "    .dataframe tbody tr th:only-of-type {\n",
       "        vertical-align: middle;\n",
       "    }\n",
       "\n",
       "    .dataframe tbody tr th {\n",
       "        vertical-align: top;\n",
       "    }\n",
       "\n",
       "    .dataframe thead th {\n",
       "        text-align: right;\n",
       "    }\n",
       "</style>\n",
       "<table border=\"1\" class=\"dataframe\">\n",
       "  <thead>\n",
       "    <tr style=\"text-align: right;\">\n",
       "      <th></th>\n",
       "      <th>fit time (s)</th>\n",
       "      <th>score time (s)</th>\n",
       "      <th>Accuracy</th>\n",
       "      <th>Precision</th>\n",
       "      <th>Recall</th>\n",
       "      <th>F1 Score</th>\n",
       "      <th>ROC AUC</th>\n",
       "    </tr>\n",
       "  </thead>\n",
       "  <tbody>\n",
       "    <tr>\n",
       "      <th>Logistic Regression</th>\n",
       "      <td>23.805616</td>\n",
       "      <td>0.105562</td>\n",
       "      <td>0.810690</td>\n",
       "      <td>0.206031</td>\n",
       "      <td>0.471299</td>\n",
       "      <td>0.286716</td>\n",
       "      <td>0.740199</td>\n",
       "    </tr>\n",
       "    <tr>\n",
       "      <th>SVM - Linear kernel</th>\n",
       "      <td>16.860116</td>\n",
       "      <td>0.086168</td>\n",
       "      <td>0.792128</td>\n",
       "      <td>0.196226</td>\n",
       "      <td>0.498530</td>\n",
       "      <td>0.279995</td>\n",
       "      <td>0.737596</td>\n",
       "    </tr>\n",
       "    <tr>\n",
       "      <th>Random Forest Classifier</th>\n",
       "      <td>65.850073</td>\n",
       "      <td>3.617750</td>\n",
       "      <td>0.917375</td>\n",
       "      <td>0.390031</td>\n",
       "      <td>0.041289</td>\n",
       "      <td>0.074663</td>\n",
       "      <td>0.723631</td>\n",
       "    </tr>\n",
       "  </tbody>\n",
       "</table>\n",
       "</div>"
      ],
      "text/plain": [
       "                          fit time (s)  score time (s)  Accuracy  Precision  \\\n",
       "Logistic Regression          23.805616        0.105562  0.810690   0.206031   \n",
       "SVM - Linear kernel          16.860116        0.086168  0.792128   0.196226   \n",
       "Random Forest Classifier     65.850073        3.617750  0.917375   0.390031   \n",
       "\n",
       "                            Recall  F1 Score   ROC AUC  \n",
       "Logistic Regression       0.471299  0.286716  0.740199  \n",
       "SVM - Linear kernel       0.498530  0.279995  0.737596  \n",
       "Random Forest Classifier  0.041289  0.074663  0.723631  "
      ]
     },
     "execution_count": 14,
     "metadata": {},
     "output_type": "execute_result"
    }
   ],
   "source": [
    "compare_models(X_pr, y, models=models,\n",
    "               sort='ROC AUC')"
   ]
  },
  {
   "cell_type": "markdown",
   "id": "lovely-briefing",
   "metadata": {},
   "source": [
    "## Improve Data Preprocessing"
   ]
  },
  {
   "cell_type": "markdown",
   "id": "local-military",
   "metadata": {},
   "source": [
    "### Improve the preparation pipeline"
   ]
  },
  {
   "cell_type": "markdown",
   "id": "early-egyptian",
   "metadata": {},
   "source": [
    "Let's start by testing the relevance of each step of the preparation pipeline. We will keep the SVM model, for the same reasons that previously listed."
   ]
  },
  {
   "cell_type": "code",
   "execution_count": null,
   "id": "hungarian-gateway",
   "metadata": {},
   "outputs": [],
   "source": []
  },
  {
   "cell_type": "code",
   "execution_count": 15,
   "id": "least-accent",
   "metadata": {
    "ExecuteTime": {
     "end_time": "2022-02-09T12:17:00.074387Z",
     "start_time": "2022-02-09T11:38:25.379475Z"
    },
    "scrolled": false
   },
   "outputs": [
    {
     "name": "stdout",
     "output_type": "stream",
     "text": [
      "Fitting 5 folds for each of 120 candidates, totalling 600 fits\n",
      "{'cleaning__cat__filter__na_threshold': 0.4, 'cleaning__dense__domain_adder__add_domain': True, 'cleaning__dense__filter__na_threshold': 0.4, 'cleaning__dense__imputer__strategy': 'mean', 'cleaning__dense__skew_transformer__log': False, 'cleaning__dense__skew_transformer__threshold': 1.6, 'cleaning__ord__filter__na_threshold': 0.4, 'cleaning__sparse__filter__na_threshold': 0.4}\n",
      "0.739376146282685\n"
     ]
    }
   ],
   "source": [
    "pipeline = imbpipe.Pipeline([\n",
    "             ('cleaning', prep_pipeline),\n",
    "             ('over', oversampling),\n",
    "             ('under', undersampling),\n",
    "             ('model', SGDClassifier(loss='hinge', random_state=42))\n",
    "             ])\n",
    "\n",
    "cv = StratifiedKFold(5, shuffle=True, random_state=42)\n",
    "\n",
    "# get the best threshold to filter features\n",
    "param_grid = [{'cleaning__cat__filter__na_threshold': [0.3],\n",
    "               'cleaning__ord__filter__na_threshold': [0.3],\n",
    "               'cleaning__sparse__filter__na_threshold': [0.3],\n",
    "               'cleaning__dense__filter__na_threshold': [0.3],\n",
    "               'cleaning__dense__domain_adder__add_domain': [True, False],\n",
    "               'cleaning__dense__skew_transformer__log': [True, False],\n",
    "               'cleaning__dense__skew_transformer__threshold': [.7, 1, 1.3, 1.6, 1.9],\n",
    "               'cleaning__dense__imputer__strategy': ['mean', 'median']\n",
    "              },\n",
    "              {'cleaning__cat__filter__na_threshold': [0.4],\n",
    "               'cleaning__ord__filter__na_threshold': [0.4],\n",
    "               'cleaning__sparse__filter__na_threshold': [0.4],\n",
    "               'cleaning__dense__filter__na_threshold': [0.4],\n",
    "               'cleaning__dense__domain_adder__add_domain': [True, False],\n",
    "               'cleaning__dense__skew_transformer__log': [True, False],\n",
    "               'cleaning__dense__skew_transformer__threshold': [.7, 1, 1.3, 1.6, 1.9],\n",
    "               'cleaning__dense__imputer__strategy': ['mean', 'median']\n",
    "              },\n",
    "              {'cleaning__cat__filter__na_threshold': [0.5],\n",
    "               'cleaning__ord__filter__na_threshold': [0.5],\n",
    "               'cleaning__sparse__filter__na_threshold': [0.5],\n",
    "               'cleaning__dense__filter__na_threshold': [0.5],\n",
    "               'cleaning__dense__domain_adder__add_domain': [True, False],\n",
    "               'cleaning__dense__skew_transformer__log': [True, False],\n",
    "               'cleaning__dense__skew_transformer__threshold': [.7, 1, 1.3, 1.6, 1.9],\n",
    "               'cleaning__dense__imputer__strategy': ['mean', 'median']\n",
    "              }]            \n",
    "\n",
    "grid_search = GridSearchCV(pipeline, param_grid,\n",
    "                           cv=cv, scoring='roc_auc',\n",
    "                           n_jobs=-1, verbose=1)\n",
    "grid_search.fit(X, y)\n",
    "print(grid_search.best_params_)\n",
    "print(grid_search.best_score_)"
   ]
  },
  {
   "cell_type": "code",
   "execution_count": 16,
   "id": "minor-doctrine",
   "metadata": {
    "ExecuteTime": {
     "end_time": "2022-02-09T12:17:03.668467Z",
     "start_time": "2022-02-09T12:17:00.076019Z"
    }
   },
   "outputs": [
    {
     "data": {
      "text/plain": [
       "(307511, 186)"
      ]
     },
     "execution_count": 16,
     "metadata": {},
     "output_type": "execute_result"
    }
   ],
   "source": [
    "na_threshold = grid_search.best_params_['cleaning__cat__filter__na_threshold']\n",
    "add_domain = grid_search.best_params_['cleaning__dense__domain_adder__add_domain']\n",
    "log = grid_search.best_params_['cleaning__dense__skew_transformer__log']\n",
    "threshold = grid_search.best_params_['cleaning__dense__skew_transformer__threshold']\n",
    "strategy = grid_search.best_params_['cleaning__dense__imputer__strategy']\n",
    "\n",
    "cat_pipeline = Pipeline([\n",
    "               ('filter', NaAttFilter(na_threshold=na_threshold)),               \n",
    "               ('imputer', SimpleImputer(strategy='most_frequent')),\n",
    "               ('encoder', OneHotEncoder(drop='if_binary')),\n",
    "               ])\n",
    "ord_pipeline = Pipeline([\n",
    "               ('filter', NaAttFilter(na_threshold=na_threshold)),\n",
    "               ('imputer', SimpleImputer(strategy='most_frequent'))\n",
    "               ])\n",
    "\n",
    "sparse_pipeline = Pipeline([\n",
    "                  ('filter', NaAttFilter(na_threshold=na_threshold)),\n",
    "                  ('cleaner', SparseCleaner()),\n",
    "                  ('imputer', SimpleImputer(strategy='most_frequent')),\n",
    "                  ('scaler', MaxAbsScaler())\n",
    "                  ])\n",
    "\n",
    "dense_pipeline = Pipeline([\n",
    "                 ('filter', NaAttFilter(na_threshold=na_threshold)),\n",
    "                 ('cleaner', DenseCleaner()),\n",
    "                 ('domain_adder', DomainAdder(add_domain=add_domain)),\n",
    "                 ('skew_transformer', SkewCleaner(log=log,\n",
    "                                                  threshold=threshold)),\n",
    "                 ('imputer', SimpleImputer(strategy=strategy)),\n",
    "                 ('scaler', StandardScaler())\n",
    "                 ])\n",
    "\n",
    "prep_pipeline = ColumnTransformer([\n",
    "                ('cat', cat_pipeline, cat_att),\n",
    "                ('ord', ord_pipeline, ord_att),\n",
    "                ('sparse', sparse_pipeline, sparse_att),\n",
    "                ('dense', dense_pipeline, dense_att),\n",
    "                ])\n",
    "\n",
    "X_pr = prep_pipeline.fit_transform(X)\n",
    "X_pr.shape"
   ]
  },
  {
   "cell_type": "code",
   "execution_count": 17,
   "id": "judicial-silly",
   "metadata": {
    "ExecuteTime": {
     "end_time": "2022-02-09T12:19:06.378678Z",
     "start_time": "2022-02-09T12:17:03.670336Z"
    }
   },
   "outputs": [
    {
     "data": {
      "text/html": [
       "<div>\n",
       "<style scoped>\n",
       "    .dataframe tbody tr th:only-of-type {\n",
       "        vertical-align: middle;\n",
       "    }\n",
       "\n",
       "    .dataframe tbody tr th {\n",
       "        vertical-align: top;\n",
       "    }\n",
       "\n",
       "    .dataframe thead th {\n",
       "        text-align: right;\n",
       "    }\n",
       "</style>\n",
       "<table border=\"1\" class=\"dataframe\">\n",
       "  <thead>\n",
       "    <tr style=\"text-align: right;\">\n",
       "      <th></th>\n",
       "      <th>fit time (s)</th>\n",
       "      <th>score time (s)</th>\n",
       "      <th>Accuracy</th>\n",
       "      <th>Precision</th>\n",
       "      <th>Recall</th>\n",
       "      <th>F1 Score</th>\n",
       "      <th>ROC AUC</th>\n",
       "    </tr>\n",
       "  </thead>\n",
       "  <tbody>\n",
       "    <tr>\n",
       "      <th>Logistic Regression</th>\n",
       "      <td>27.973725</td>\n",
       "      <td>0.195392</td>\n",
       "      <td>0.808761</td>\n",
       "      <td>0.204005</td>\n",
       "      <td>0.471702</td>\n",
       "      <td>0.284824</td>\n",
       "      <td>0.739660</td>\n",
       "    </tr>\n",
       "    <tr>\n",
       "      <th>SVM - Linear kernel</th>\n",
       "      <td>20.222358</td>\n",
       "      <td>0.171051</td>\n",
       "      <td>0.796346</td>\n",
       "      <td>0.197539</td>\n",
       "      <td>0.493696</td>\n",
       "      <td>0.281503</td>\n",
       "      <td>0.738623</td>\n",
       "    </tr>\n",
       "    <tr>\n",
       "      <th>Random Forest Classifier</th>\n",
       "      <td>68.062674</td>\n",
       "      <td>4.188402</td>\n",
       "      <td>0.917118</td>\n",
       "      <td>0.372014</td>\n",
       "      <td>0.038429</td>\n",
       "      <td>0.069644</td>\n",
       "      <td>0.724076</td>\n",
       "    </tr>\n",
       "  </tbody>\n",
       "</table>\n",
       "</div>"
      ],
      "text/plain": [
       "                          fit time (s)  score time (s)  Accuracy  Precision  \\\n",
       "Logistic Regression          27.973725        0.195392  0.808761   0.204005   \n",
       "SVM - Linear kernel          20.222358        0.171051  0.796346   0.197539   \n",
       "Random Forest Classifier     68.062674        4.188402  0.917118   0.372014   \n",
       "\n",
       "                            Recall  F1 Score   ROC AUC  \n",
       "Logistic Regression       0.471702  0.284824  0.739660  \n",
       "SVM - Linear kernel       0.493696  0.281503  0.738623  \n",
       "Random Forest Classifier  0.038429  0.069644  0.724076  "
      ]
     },
     "execution_count": 17,
     "metadata": {},
     "output_type": "execute_result"
    }
   ],
   "source": [
    "compare_models(X_pr, y, models=models,\n",
    "               sort='ROC AUC')"
   ]
  },
  {
   "cell_type": "markdown",
   "id": "behind-calvin",
   "metadata": {},
   "source": [
    "### Feature Selection"
   ]
  },
  {
   "cell_type": "markdown",
   "id": "worth-element",
   "metadata": {},
   "source": [
    "Our objective is not to get the best model, but a good one with results easy to explain. Our dataset has **189** features, it is too much to hope understanding the models results clearly, we must reduce them. In most cases, reducing the number of features leads to poorer results.  \n",
    "Let's find a good features number to keep. By good we mean a number which massively decrease the features with a minimum impact on the results.  \n",
    "As the logistic regression gives the best resuts for the time being, the features will be selected using the `coef_` attibute of the latter."
   ]
  },
  {
   "cell_type": "code",
   "execution_count": 18,
   "id": "false-europe",
   "metadata": {
    "ExecuteTime": {
     "end_time": "2022-02-09T12:20:56.743881Z",
     "start_time": "2022-02-09T12:19:06.380964Z"
    }
   },
   "outputs": [
    {
     "name": "stdout",
     "output_type": "stream",
     "text": [
      "ROC AUC score with 186 features: 0.763\n"
     ]
    },
    {
     "data": {
      "image/png": "[encoded data removed]",
      "text/plain": [
       "<Figure size 432x288 with 1 Axes>"
      ]
     },
     "metadata": {},
     "output_type": "display_data"
    }
   ],
   "source": [
    "from sklearn.feature_selection import SelectFromModel\n",
    "\n",
    "# imblearn pipeline does not recover the model attributes,\n",
    "# The sampling steps must be performed before\n",
    "sampling_pipeline = imbpipe.Pipeline([\n",
    "                    ('over', oversampling),\n",
    "                    ('under', undersampling)\n",
    "                    ])\n",
    "X_sampled, y_sampled = sampling_pipeline.fit_resample(X_pr, y)\n",
    "# Create the feature selector\n",
    "estimator = SGDClassifier(loss='hinge', random_state=42, average=True)\n",
    "selector = SelectFromModel(estimator, threshold=-np.inf)\n",
    "# Score with all features\n",
    "score = cross_val_score(estimator, X_sampled, y_sampled,\n",
    "                        scoring='roc_auc', cv=cv, n_jobs=-1)\n",
    "print(f\"ROC AUC score with {X_sampled.shape[1]} features: {score.mean():.3}\")\n",
    "# Select the top 160 features\n",
    "sfm_scores = []\n",
    "selector.max_features=160\n",
    "X_sfm = selector.fit_transform(X_sampled, y_sampled)\n",
    "score = cross_val_score(estimator, X_sfm, y_sampled,\n",
    "                        scoring='roc_auc', cv=cv, n_jobs=-1)\n",
    "sfm_scores.append(score.mean())\n",
    "# Test different numbers of features from 10 to 150\n",
    "for i in range(150, 100, -10):\n",
    "    selector.max_features = i\n",
    "    X_sfm = selector.fit_transform(X_sfm, y_sampled)\n",
    "    score = cross_val_score(estimator, X_sfm, y_sampled,\n",
    "                            scoring='roc_auc', cv=cv, n_jobs=-1)\n",
    "    sfm_scores.append(score.mean())\n",
    "for i in range(100, 0, -5):\n",
    "    selector.max_features = i\n",
    "    X_sfm = selector.fit_transform(X_sfm, y_sampled)\n",
    "    score = cross_val_score(estimator, X_sfm, y_sampled,\n",
    "                            scoring='roc_auc', cv=cv, n_jobs=-1)\n",
    "    sfm_scores.append(score.mean())\n",
    "# Plot the results\n",
    "plt.plot(np.r_[np.arange(5, 105, 5), np.arange(110, 170, 10)],\n",
    "         sfm_scores[::-1])\n",
    "plt.xlabel(\"N features\")\n",
    "plt.ylabel(\"ROC AUC\") \n",
    "plt.show()"
   ]
  },
  {
   "cell_type": "markdown",
   "id": "appropriate-convergence",
   "metadata": {},
   "source": [
    "The ROC AUC decreases slowly as we keep decreasing the number of features down to 30, but then it drops quickly.\n",
    "Let's continue with 80 features."
   ]
  },
  {
   "cell_type": "code",
   "execution_count": 19,
   "id": "located-powell",
   "metadata": {
    "ExecuteTime": {
     "end_time": "2022-02-09T12:20:56.749002Z",
     "start_time": "2022-02-09T12:20:56.745903Z"
    }
   },
   "outputs": [],
   "source": [
    "from sklearn.base import BaseEstimator, TransformerMixin\n",
    "\n",
    "class TopFeatureSelector(BaseEstimator, TransformerMixin):\n",
    "    def __init__(self, feature_mask):\n",
    "        self.feature_mask = feature_mask\n",
    "    def fit(self, X, y=None):\n",
    "        return self\n",
    "    def transform(self, X):\n",
    "        return X[:, feature_mask]"
   ]
  },
  {
   "cell_type": "code",
   "execution_count": 20,
   "id": "breeding-membrane",
   "metadata": {
    "ExecuteTime": {
     "end_time": "2022-02-09T12:22:05.598151Z",
     "start_time": "2022-02-09T12:20:56.750560Z"
    }
   },
   "outputs": [
    {
     "name": "stdout",
     "output_type": "stream",
     "text": [
      "(307511, 80)\n"
     ]
    }
   ],
   "source": [
    "from sklearn.feature_selection import RFE\n",
    "\n",
    "estimator = SGDClassifier(loss='hinge', random_state=42, average=True)\n",
    "selector = RFE(estimator, n_features_to_select=80, step=5)\n",
    "selector.fit(X_sampled, y_sampled)\n",
    "feature_mask = selector.support_\n",
    "\n",
    "pipeline = imbpipe.Pipeline([\n",
    "           ('cleaning', prep_pipeline),\n",
    "           ('feature_selection', TopFeatureSelector(feature_mask=feature_mask))\n",
    "           ])\n",
    "\n",
    "X_pr = pipeline.fit_transform(X)\n",
    "print(X_pr.shape)"
   ]
  },
  {
   "cell_type": "code",
   "execution_count": 21,
   "id": "statewide-economy",
   "metadata": {
    "ExecuteTime": {
     "end_time": "2022-02-09T12:23:35.643591Z",
     "start_time": "2022-02-09T12:22:05.600040Z"
    }
   },
   "outputs": [
    {
     "data": {
      "text/html": [
       "<div>\n",
       "<style scoped>\n",
       "    .dataframe tbody tr th:only-of-type {\n",
       "        vertical-align: middle;\n",
       "    }\n",
       "\n",
       "    .dataframe tbody tr th {\n",
       "        vertical-align: top;\n",
       "    }\n",
       "\n",
       "    .dataframe thead th {\n",
       "        text-align: right;\n",
       "    }\n",
       "</style>\n",
       "<table border=\"1\" class=\"dataframe\">\n",
       "  <thead>\n",
       "    <tr style=\"text-align: right;\">\n",
       "      <th></th>\n",
       "      <th>fit time (s)</th>\n",
       "      <th>score time (s)</th>\n",
       "      <th>Accuracy</th>\n",
       "      <th>Precision</th>\n",
       "      <th>Recall</th>\n",
       "      <th>F1 Score</th>\n",
       "      <th>ROC AUC</th>\n",
       "    </tr>\n",
       "  </thead>\n",
       "  <tbody>\n",
       "    <tr>\n",
       "      <th>Logistic Regression</th>\n",
       "      <td>18.006608</td>\n",
       "      <td>0.107943</td>\n",
       "      <td>0.811190</td>\n",
       "      <td>0.203453</td>\n",
       "      <td>0.459174</td>\n",
       "      <td>0.281963</td>\n",
       "      <td>0.736077</td>\n",
       "    </tr>\n",
       "    <tr>\n",
       "      <th>SVM - Linear kernel</th>\n",
       "      <td>14.673849</td>\n",
       "      <td>0.072235</td>\n",
       "      <td>0.794602</td>\n",
       "      <td>0.194993</td>\n",
       "      <td>0.491440</td>\n",
       "      <td>0.278882</td>\n",
       "      <td>0.735217</td>\n",
       "    </tr>\n",
       "    <tr>\n",
       "      <th>Random Forest Classifier</th>\n",
       "      <td>51.855310</td>\n",
       "      <td>3.829263</td>\n",
       "      <td>0.906241</td>\n",
       "      <td>0.293756</td>\n",
       "      <td>0.114763</td>\n",
       "      <td>0.165022</td>\n",
       "      <td>0.722368</td>\n",
       "    </tr>\n",
       "  </tbody>\n",
       "</table>\n",
       "</div>"
      ],
      "text/plain": [
       "                          fit time (s)  score time (s)  Accuracy  Precision  \\\n",
       "Logistic Regression          18.006608        0.107943  0.811190   0.203453   \n",
       "SVM - Linear kernel          14.673849        0.072235  0.794602   0.194993   \n",
       "Random Forest Classifier     51.855310        3.829263  0.906241   0.293756   \n",
       "\n",
       "                            Recall  F1 Score   ROC AUC  \n",
       "Logistic Regression       0.459174  0.281963  0.736077  \n",
       "SVM - Linear kernel       0.491440  0.278882  0.735217  \n",
       "Random Forest Classifier  0.114763  0.165022  0.722368  "
      ]
     },
     "execution_count": 21,
     "metadata": {},
     "output_type": "execute_result"
    }
   ],
   "source": [
    "compare_models(X_pr, y, models=models,\n",
    "               sort='ROC AUC')"
   ]
  },
  {
   "cell_type": "markdown",
   "id": "cooperative-colorado",
   "metadata": {},
   "source": [
    "## Fine-Tune the hyperparameters"
   ]
  },
  {
   "cell_type": "markdown",
   "id": "activated-chuck",
   "metadata": {},
   "source": [
    "### Logitic Regression"
   ]
  },
  {
   "cell_type": "code",
   "execution_count": 22,
   "id": "social-justice",
   "metadata": {
    "ExecuteTime": {
     "end_time": "2022-02-09T12:28:12.626115Z",
     "start_time": "2022-02-09T12:23:35.646495Z"
    }
   },
   "outputs": [
    {
     "name": "stdout",
     "output_type": "stream",
     "text": [
      "{'model__C': 0.01}\n",
      "{'model__C': 0.015000000000000003}\n"
     ]
    }
   ],
   "source": [
    "# First Grid search\n",
    "param_grid = [{'model__C': np.logspace(-3, 1, 5)}]\n",
    "grid_search = GridSearchCV(models['Logistic Regression'], param_grid,\n",
    "                           scoring='roc_auc', cv=cv, n_jobs=-1)\n",
    "grid_search.fit(X_pr, y)\n",
    "print(grid_search.best_params_)\n",
    "# Second grid search\n",
    "c = grid_search.best_params_['model__C']\n",
    "param_grid = [{'model__C': np.linspace(c*0.5, c*5, 10)}]\n",
    "grid_search = GridSearchCV(models['Logistic Regression'], param_grid,\n",
    "                           scoring='roc_auc', cv=cv, n_jobs=-1)\n",
    "grid_search.fit(X_pr, y)\n",
    "print(grid_search.best_params_)\n",
    "log_reg.C = grid_search.best_params_['model__C']"
   ]
  },
  {
   "cell_type": "markdown",
   "id": "together-fabric",
   "metadata": {},
   "source": [
    "### Linear SVM"
   ]
  },
  {
   "cell_type": "code",
   "execution_count": 23,
   "id": "aware-prime",
   "metadata": {
    "ExecuteTime": {
     "end_time": "2022-02-09T12:31:51.367204Z",
     "start_time": "2022-02-09T12:28:12.637727Z"
    }
   },
   "outputs": [
    {
     "name": "stdout",
     "output_type": "stream",
     "text": [
      "{'model__alpha': 0.001}\n",
      "{'model__alpha': 0.002}\n"
     ]
    }
   ],
   "source": [
    "# First Grid search\n",
    "param_grid = [{'model__alpha': np.logspace(-6, -2, 5)}]\n",
    "grid_search = GridSearchCV(models['SVM - Linear kernel'], param_grid,\n",
    "                           scoring='roc_auc', cv=cv, n_jobs=-1)\n",
    "grid_search.fit(X_pr, \n",
    "                y)\n",
    "print(grid_search.best_params_)\n",
    "# Second grid search\n",
    "alpha = grid_search.best_params_['model__alpha']\n",
    "step = alpha / 10\n",
    "param_grid = [{'model__alpha': np.linspace(alpha*0.5, alpha*5, 10)}]\n",
    "grid_search = GridSearchCV(models['SVM - Linear kernel'], param_grid,\n",
    "                           scoring='roc_auc', cv=cv, n_jobs=-1)\n",
    "grid_search.fit(X_pr, y)\n",
    "print(grid_search.best_params_)\n",
    "svm.alpha = grid_search.best_params_['model__alpha']"
   ]
  },
  {
   "cell_type": "markdown",
   "id": "decreased-front",
   "metadata": {},
   "source": [
    "### Random Forest"
   ]
  },
  {
   "cell_type": "code",
   "execution_count": 24,
   "id": "anticipated-parent",
   "metadata": {
    "ExecuteTime": {
     "end_time": "2022-02-09T12:46:54.430125Z",
     "start_time": "2022-02-09T12:31:51.369364Z"
    }
   },
   "outputs": [
    {
     "name": "stdout",
     "output_type": "stream",
     "text": [
      "Fitting 5 folds for each of 1 candidates, totalling 5 fits\n",
      "Fitting 5 folds for each of 1 candidates, totalling 5 fits\n",
      "Fitting 5 folds for each of 1 candidates, totalling 5 fits\n",
      "Fitting 5 folds for each of 1 candidates, totalling 5 fits\n",
      "Fitting 5 folds for each of 1 candidates, totalling 5 fits\n",
      "Fitting 5 folds for each of 1 candidates, totalling 5 fits\n",
      "Fitting 5 folds for each of 1 candidates, totalling 5 fits\n",
      "Fitting 5 folds for each of 1 candidates, totalling 5 fits\n",
      "Fitting 5 folds for each of 1 candidates, totalling 5 fits\n",
      "Fitting 5 folds for each of 1 candidates, totalling 5 fits\n",
      "Fitting 5 folds for each of 1 candidates, totalling 5 fits\n",
      "Fitting 5 folds for each of 1 candidates, totalling 5 fits\n",
      "Fitting 5 folds for each of 1 candidates, totalling 5 fits\n",
      "Fitting 5 folds for each of 1 candidates, totalling 5 fits\n",
      "Fitting 5 folds for each of 1 candidates, totalling 5 fits\n",
      "Fitting 5 folds for each of 1 candidates, totalling 5 fits\n",
      "Fitting 5 folds for each of 1 candidates, totalling 5 fits\n",
      "Fitting 5 folds for each of 1 candidates, totalling 5 fits\n",
      "Fitting 5 folds for each of 1 candidates, totalling 5 fits\n",
      "Fitting 5 folds for each of 1 candidates, totalling 5 fits\n",
      "Fitting 5 folds for each of 1 candidates, totalling 5 fits\n",
      "Fitting 5 folds for each of 1 candidates, totalling 5 fits\n",
      "Fitting 5 folds for each of 1 candidates, totalling 5 fits\n",
      "Fitting 5 folds for each of 1 candidates, totalling 5 fits\n",
      "Fitting 5 folds for each of 1 candidates, totalling 5 fits\n",
      "Fitting 5 folds for each of 1 candidates, totalling 5 fits\n",
      "Fitting 5 folds for each of 1 candidates, totalling 5 fits\n",
      "Fitting 5 folds for each of 1 candidates, totalling 5 fits\n",
      "Fitting 5 folds for each of 1 candidates, totalling 5 fits\n",
      "Fitting 5 folds for each of 1 candidates, totalling 5 fits\n",
      "OrderedDict([('model__max_depth', 13), ('model__max_features', 7), ('model__max_samples', 0.6517050549420875)])\n"
     ]
    }
   ],
   "source": [
    "from skopt import BayesSearchCV\n",
    "from skopt.space import Real, Integer\n",
    "\n",
    "# Bayesian search\n",
    "search_spaces = {'model__max_depth': Integer(3, 15),\n",
    "                 'model__max_features': Integer(3, 7),\n",
    "                 'model__max_samples': Real(0.5, 1)}\n",
    "bayes_search = BayesSearchCV(models['Random Forest Classifier'], search_spaces,\n",
    "                             n_iter=30, scoring='recall', n_jobs=-1,\n",
    "                             cv=cv, verbose=1, random_state=42)\n",
    "bayes_search.fit(X_pr, y)\n",
    "print(bayes_search.best_params_) \n",
    "                 \n",
    "forest.max_depth = bayes_search.best_params_['model__max_depth']\n",
    "forest.max_features = bayes_search.best_params_['model__max_features']\n",
    "forest.max_samples = bayes_search.best_params_['model__max_samples']"
   ]
  },
  {
   "cell_type": "markdown",
   "id": "humanitarian-sunset",
   "metadata": {},
   "source": [
    "### Stacking Classifier"
   ]
  },
  {
   "cell_type": "markdown",
   "id": "forty-constitutional",
   "metadata": {},
   "source": [
    "Let's try a stacked model."
   ]
  },
  {
   "cell_type": "code",
   "execution_count": 25,
   "id": "attempted-irrigation",
   "metadata": {
    "ExecuteTime": {
     "end_time": "2022-02-09T12:46:54.436261Z",
     "start_time": "2022-02-09T12:46:54.432012Z"
    }
   },
   "outputs": [],
   "source": [
    "from sklearn.linear_model import RidgeClassifierCV\n",
    "from sklearn.ensemble import StackingClassifier\n",
    "\n",
    "estimators = [('Logistic Regression', log_reg),\n",
    "              ('svm', svm),\n",
    "              ('Random Forest', forest)]\n",
    "stack_clf = StackingClassifier(estimators=estimators,\n",
    "                               final_estimator=RidgeClassifierCV(scoring='recall', cv=cv),\n",
    "                               cv=cv,)\n",
    "models['Stacking Classifier'] = imbpipe.Pipeline([\n",
    "                                ('over', oversampling),  \n",
    "                                ('under', undersampling),\n",
    "                                ('model', stack_clf)\n",
    "                                ])"
   ]
  },
  {
   "cell_type": "markdown",
   "id": "veterinary-horse",
   "metadata": {},
   "source": [
    "### Compare Results"
   ]
  },
  {
   "cell_type": "code",
   "execution_count": 26,
   "id": "instructional-discretion",
   "metadata": {
    "ExecuteTime": {
     "end_time": "2022-02-09T12:50:12.027388Z",
     "start_time": "2022-02-09T12:46:54.438508Z"
    },
    "scrolled": true
   },
   "outputs": [
    {
     "data": {
      "text/html": [
       "<div>\n",
       "<style scoped>\n",
       "    .dataframe tbody tr th:only-of-type {\n",
       "        vertical-align: middle;\n",
       "    }\n",
       "\n",
       "    .dataframe tbody tr th {\n",
       "        vertical-align: top;\n",
       "    }\n",
       "\n",
       "    .dataframe thead th {\n",
       "        text-align: right;\n",
       "    }\n",
       "</style>\n",
       "<table border=\"1\" class=\"dataframe\">\n",
       "  <thead>\n",
       "    <tr style=\"text-align: right;\">\n",
       "      <th></th>\n",
       "      <th>fit time (s)</th>\n",
       "      <th>score time (s)</th>\n",
       "      <th>Accuracy</th>\n",
       "      <th>Precision</th>\n",
       "      <th>Recall</th>\n",
       "      <th>F1 Score</th>\n",
       "      <th>ROC AUC</th>\n",
       "    </tr>\n",
       "  </thead>\n",
       "  <tbody>\n",
       "    <tr>\n",
       "      <th>Logistic Regression</th>\n",
       "      <td>16.583998</td>\n",
       "      <td>0.089244</td>\n",
       "      <td>0.813213</td>\n",
       "      <td>0.204917</td>\n",
       "      <td>0.456073</td>\n",
       "      <td>0.282773</td>\n",
       "      <td>0.736923</td>\n",
       "    </tr>\n",
       "    <tr>\n",
       "      <th>SVM - Linear kernel</th>\n",
       "      <td>12.250940</td>\n",
       "      <td>0.078932</td>\n",
       "      <td>0.816569</td>\n",
       "      <td>0.206662</td>\n",
       "      <td>0.447573</td>\n",
       "      <td>0.282681</td>\n",
       "      <td>0.736374</td>\n",
       "    </tr>\n",
       "    <tr>\n",
       "      <th>Random Forest Classifier</th>\n",
       "      <td>31.213747</td>\n",
       "      <td>0.785750</td>\n",
       "      <td>0.894862</td>\n",
       "      <td>0.274906</td>\n",
       "      <td>0.184008</td>\n",
       "      <td>0.220345</td>\n",
       "      <td>0.724822</td>\n",
       "    </tr>\n",
       "    <tr>\n",
       "      <th>Stacking Classifier</th>\n",
       "      <td>133.826806</td>\n",
       "      <td>0.688467</td>\n",
       "      <td>0.882014</td>\n",
       "      <td>0.236784</td>\n",
       "      <td>0.207170</td>\n",
       "      <td>0.220853</td>\n",
       "      <td>0.705814</td>\n",
       "    </tr>\n",
       "  </tbody>\n",
       "</table>\n",
       "</div>"
      ],
      "text/plain": [
       "                          fit time (s)  score time (s)  Accuracy  Precision  \\\n",
       "Logistic Regression          16.583998        0.089244  0.813213   0.204917   \n",
       "SVM - Linear kernel          12.250940        0.078932  0.816569   0.206662   \n",
       "Random Forest Classifier     31.213747        0.785750  0.894862   0.274906   \n",
       "Stacking Classifier         133.826806        0.688467  0.882014   0.236784   \n",
       "\n",
       "                            Recall  F1 Score   ROC AUC  \n",
       "Logistic Regression       0.456073  0.282773  0.736923  \n",
       "SVM - Linear kernel       0.447573  0.282681  0.736374  \n",
       "Random Forest Classifier  0.184008  0.220345  0.724822  \n",
       "Stacking Classifier       0.207170  0.220853  0.705814  "
      ]
     },
     "execution_count": 26,
     "metadata": {},
     "output_type": "execute_result"
    }
   ],
   "source": [
    "compare_models(X_pr, y, models=models,\n",
    "               sort='ROC AUC')"
   ]
  },
  {
   "cell_type": "markdown",
   "id": "endless-liverpool",
   "metadata": {},
   "source": [
    "### Final model"
   ]
  },
  {
   "cell_type": "code",
   "execution_count": 27,
   "id": "downtown-article",
   "metadata": {
    "ExecuteTime": {
     "end_time": "2022-02-09T12:50:19.028408Z",
     "start_time": "2022-02-09T12:50:12.035803Z"
    }
   },
   "outputs": [],
   "source": [
    "from sklearn.model_selection import cross_val_predict\n",
    "from sklearn.metrics import precision_recall_curve\n",
    "\n",
    "y_probas = cross_val_predict(log_reg, X_pr, y, cv=cv,\n",
    "                             n_jobs=-1, method='predict_proba')\n",
    "precisions, recalls, thresholds = precision_recall_curve(y, y_probas[:, 1])"
   ]
  },
  {
   "cell_type": "code",
   "execution_count": 28,
   "id": "jewish-prize",
   "metadata": {
    "ExecuteTime": {
     "end_time": "2022-02-09T12:50:19.596739Z",
     "start_time": "2022-02-09T12:50:19.030227Z"
    }
   },
   "outputs": [
    {
     "data": {
      "image/png": "[encoded data removed]",
      "text/plain": [
       "<Figure size 576x288 with 1 Axes>"
      ]
     },
     "metadata": {},
     "output_type": "display_data"
    }
   ],
   "source": [
    "def plot_precision_recall_vs_threshold(precisions, recalls, thresholds):\n",
    "    plt.plot(thresholds, precisions[:-1], \"b--\", label=\"Precision\", linewidth=2)\n",
    "    plt.plot(thresholds, recalls[:-1], \"g-\", label=\"Recall\", linewidth=2)\n",
    "    plt.legend(loc=\"center right\", fontsize=16) \n",
    "    plt.xlabel(\"Threshold\", fontsize=16)        \n",
    "    plt.grid(True)                              \n",
    "    plt.axis([0, 1, 0, 1])             \n",
    "\n",
    "plt.figure(figsize=(8, 4))                                                                  # Not shown\n",
    "plot_precision_recall_vs_threshold(precisions, recalls, thresholds)\n",
    "save_fig(\"precision_recall_vs_threshold_plot\")                                              # Not shown\n",
    "plt.show()"
   ]
  },
  {
   "cell_type": "code",
   "execution_count": 29,
   "id": "charitable-brother",
   "metadata": {
    "ExecuteTime": {
     "end_time": "2022-02-09T12:50:19.653373Z",
     "start_time": "2022-02-09T12:50:19.598926Z"
    }
   },
   "outputs": [],
   "source": [
    "from sklearn.metrics import roc_curve\n",
    "\n",
    "fpr, tpr, thresholds = roc_curve(y, y_probas[:, 1])"
   ]
  },
  {
   "cell_type": "code",
   "execution_count": 30,
   "id": "hairy-eugene",
   "metadata": {
    "ExecuteTime": {
     "end_time": "2022-02-09T12:50:20.241770Z",
     "start_time": "2022-02-09T12:50:19.655758Z"
    }
   },
   "outputs": [
    {
     "data": {
      "image/png": "[encoded data removed]",
      "text/plain": [
       "<Figure size 576x432 with 1 Axes>"
      ]
     },
     "metadata": {},
     "output_type": "display_data"
    }
   ],
   "source": [
    "def plot_roc_curve(fpr, tpr, label=None):\n",
    "    plt.plot(fpr, tpr, linewidth=2, label=label)\n",
    "    plt.plot([0, 1], [0, 1], 'k--') # dashed diagonal\n",
    "    plt.axis([0, 1, 0, 1])                                    \n",
    "    plt.xlabel('False Positive Rate (Fall-Out)', fontsize=16) \n",
    "    plt.ylabel('True Positive Rate (Recall)', fontsize=16)    \n",
    "    plt.grid(True)                                            \n",
    "\n",
    "plt.figure(figsize=(8, 6))                                    \n",
    "plot_roc_curve(fpr, tpr)\n",
    "save_fig(\"roc_curve_plot\")                                    \n",
    "plt.show()"
   ]
  },
  {
   "cell_type": "markdown",
   "id": "photographic-practitioner",
   "metadata": {},
   "source": [
    "## Analyse feature importance with SHAP"
   ]
  },
  {
   "cell_type": "code",
   "execution_count": null,
   "id": "institutional-occasions",
   "metadata": {},
   "outputs": [],
   "source": []
  },
  {
   "cell_type": "markdown",
   "id": "green-module",
   "metadata": {},
   "source": [
    "## Appendix, XGBoost fine-tuning"
   ]
  },
  {
   "cell_type": "code",
   "execution_count": 31,
   "id": "sharp-transmission",
   "metadata": {
    "ExecuteTime": {
     "end_time": "2022-02-09T13:50:26.118511Z",
     "start_time": "2022-02-09T12:50:20.243222Z"
    }
   },
   "outputs": [
    {
     "name": "stdout",
     "output_type": "stream",
     "text": [
      "Fitting 5 folds for each of 1 candidates, totalling 5 fits\n",
      "Fitting 5 folds for each of 1 candidates, totalling 5 fits\n",
      "Fitting 5 folds for each of 1 candidates, totalling 5 fits\n",
      "Fitting 5 folds for each of 1 candidates, totalling 5 fits\n",
      "Fitting 5 folds for each of 1 candidates, totalling 5 fits\n",
      "Fitting 5 folds for each of 1 candidates, totalling 5 fits\n",
      "Fitting 5 folds for each of 1 candidates, totalling 5 fits\n",
      "Fitting 5 folds for each of 1 candidates, totalling 5 fits\n",
      "Fitting 5 folds for each of 1 candidates, totalling 5 fits\n",
      "Fitting 5 folds for each of 1 candidates, totalling 5 fits\n",
      "Fitting 5 folds for each of 1 candidates, totalling 5 fits\n",
      "Fitting 5 folds for each of 1 candidates, totalling 5 fits\n",
      "Fitting 5 folds for each of 1 candidates, totalling 5 fits\n",
      "Fitting 5 folds for each of 1 candidates, totalling 5 fits\n",
      "Fitting 5 folds for each of 1 candidates, totalling 5 fits\n",
      "Fitting 5 folds for each of 1 candidates, totalling 5 fits\n",
      "Fitting 5 folds for each of 1 candidates, totalling 5 fits\n",
      "Fitting 5 folds for each of 1 candidates, totalling 5 fits\n",
      "Fitting 5 folds for each of 1 candidates, totalling 5 fits\n",
      "Fitting 5 folds for each of 1 candidates, totalling 5 fits\n",
      "Fitting 5 folds for each of 1 candidates, totalling 5 fits\n",
      "Fitting 5 folds for each of 1 candidates, totalling 5 fits\n",
      "Fitting 5 folds for each of 1 candidates, totalling 5 fits\n",
      "Fitting 5 folds for each of 1 candidates, totalling 5 fits\n",
      "Fitting 5 folds for each of 1 candidates, totalling 5 fits\n",
      "Fitting 5 folds for each of 1 candidates, totalling 5 fits\n",
      "Fitting 5 folds for each of 1 candidates, totalling 5 fits\n",
      "Fitting 5 folds for each of 1 candidates, totalling 5 fits\n",
      "Fitting 5 folds for each of 1 candidates, totalling 5 fits\n",
      "Fitting 5 folds for each of 1 candidates, totalling 5 fits\n",
      "OrderedDict([('model__colsample_bytree', 1.0), ('model__learning_rate', 0.01), ('model__max_depth', 6)])\n",
      "0.25506545820745213\n"
     ]
    }
   ],
   "source": [
    "from sklearn.model_selection import train_test_split\n",
    "\n",
    "xgb = XGBClassifier(n_estimators=100, random_state=42, eval_metric='logloss')\n",
    "\n",
    "models['XGBoost Classifier'] = imbpipe.Pipeline([\n",
    "                                   ('over', oversampling),  \n",
    "                                   ('under', undersampling),\n",
    "                                   ('model', xgb)\n",
    "                                   ])\n",
    "\n",
    "search_spaces = [{'model__max_depth': Integer(6, 20),\n",
    "                  'model__learning_rate': Real(0.01, 0.2),\n",
    "                  'model__colsample_bytree':(0.3, 1.0)\n",
    "                 }]\n",
    "bayes_search = BayesSearchCV(models['XGBoost Classifier'], search_spaces,\n",
    "                             n_iter=30, scoring='recall', n_jobs=-1,\n",
    "                             cv=cv, verbose=2, random_state=42)\n",
    "bayes_search.fit(X_pr, y)\n",
    "print(bayes_search.best_params_)\n",
    "print(bayes_search.best_score_)"
   ]
  },
  {
   "cell_type": "code",
   "execution_count": 32,
   "id": "welsh-street",
   "metadata": {
    "ExecuteTime": {
     "end_time": "2022-02-09T13:50:44.472554Z",
     "start_time": "2022-02-09T13:50:26.121112Z"
    }
   },
   "outputs": [
    {
     "name": "stdout",
     "output_type": "stream",
     "text": [
      "The best iteration is 100\n"
     ]
    }
   ],
   "source": [
    "# Split the data set into a train and test set\n",
    "# to use early stopping\n",
    "X_gb_train, X_gb_test, y_gb_train, y_gb_test = train_test_split(X_pr, y, random_state=42)\n",
    "# resampling the training set with SMOTE and undersampling\n",
    "X_gb_train, y_gb_train = sampling_pipeline.fit_resample(X_gb_train, y_gb_train)\n",
    "# Recover the best hyper-parameters for XGBoost\n",
    "xgb.max_depth = bayes_search.best_params_['model__max_depth']\n",
    "xgb.learning_rate = bayes_search.best_params_['model__learning_rate']\n",
    "xgb.colsample_bytree = bayes_search.best_params_['model__colsample_bytree']\n",
    "# Get the best n_estimators with early stopping\n",
    "xgb.fit(X_gb_train, y_gb_train,\n",
    "        eval_set=[(X_gb_test, y_gb_test)],\n",
    "        eval_metric='logloss',\n",
    "        early_stopping_rounds=3,\n",
    "        verbose=False)\n",
    "xgb.n_estimators = xgb.best_iteration + 1\n",
    "print(\"The best iteration is {}\".format(xgb.n_estimators))"
   ]
  }
 ],
 "metadata": {
  "kernelspec": {
   "display_name": "Python 3",
   "language": "python",
   "name": "python3"
  },
  "language_info": {
   "codemirror_mode": {
    "name": "ipython",
    "version": 3
   },
   "file_extension": ".py",
   "mimetype": "text/x-python",
   "name": "python",
   "nbconvert_exporter": "python",
   "pygments_lexer": "ipython3",
   "version": "3.8.5"
  },
  "toc": {
   "base_numbering": 1,
   "nav_menu": {},
   "number_sections": true,
   "sideBar": true,
   "skip_h1_title": true,
   "title_cell": "Table of Contents",
   "title_sidebar": "Contents",
   "toc_cell": true,
   "toc_position": {
    "height": "calc(100% - 180px)",
    "left": "10px",
    "top": "150px",
    "width": "256px"
   },
   "toc_section_display": true,
   "toc_window_display": true
  }
 },
 "nbformat": 4,
 "nbformat_minor": 5
}
