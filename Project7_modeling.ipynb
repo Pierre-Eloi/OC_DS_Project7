{
 "cells": [
  {
   "cell_type": "markdown",
   "id": "blessed-arnold",
   "metadata": {},
   "source": [
    "# Project 7: Implement a scoring model.\n",
    "\n",
    "*Pierre-Eloi Ragetly*\n",
    "\n",
    "This project is part of the Data Scientist path proposed by OpenClassrooms."
   ]
  },
  {
   "cell_type": "code",
   "execution_count": 1,
   "id": "described-blind",
   "metadata": {
    "ExecuteTime": {
     "end_time": "2022-01-07T09:55:30.111344Z",
     "start_time": "2022-01-07T09:55:28.910635Z"
    }
   },
   "outputs": [],
   "source": [
    "# File system management\n",
    "import os\n",
    "\n",
    "# Get execution time to compare models\n",
    "import time\n",
    "\n",
    "# Import numpy and pandas for data manipulation\n",
    "import numpy as np\n",
    "import pandas as pd\n",
    "\n",
    "# to make this notebook's output stable across runs\n",
    "np.random.seed(42)\n",
    "\n",
    "# Suppress warnings \n",
    "import warnings\n",
    "warnings.filterwarnings('ignore')\n",
    "\n",
    "# To plot pretty figures\n",
    "%matplotlib inline\n",
    "import matplotlib as mpl\n",
    "import matplotlib.pyplot as plt\n",
    "import seaborn as sns\n",
    "plt.style.use('fivethirtyeight')\n",
    "plt.rcParams.update({'axes.edgecolor': 'white',\n",
    "                     'axes.facecolor': 'white',\n",
    "                     'axes.linewidth': 2.0,\n",
    "                     'figure.facecolor': 'white'})\n",
    "\n",
    "# Where to save the figures\n",
    "def save_fig(fig_id, tight_layout=True):\n",
    "    folder_path = os.path.join(\"charts\")\n",
    "    if not os.path.isdir(folder_path):\n",
    "        os.makedirs(folder_path)\n",
    "    path = os.path.join(\"charts\", fig_id + \".png\")\n",
    "    if tight_layout:\n",
    "        plt.tight_layout()\n",
    "    plt.savefig(path, format='png', dpi=300)"
   ]
  },
  {
   "cell_type": "markdown",
   "id": "prostate-chair",
   "metadata": {
    "toc": true
   },
   "source": [
    "<h1>Table of Contents<span class=\"tocSkip\"></span></h1>\n",
    "<div class=\"toc\"><ul class=\"toc-item\"><li><span><a href=\"#Prepare-the-data\" data-toc-modified-id=\"Prepare-the-data-1\"><span class=\"toc-item-num\">1&nbsp;&nbsp;</span>Prepare the data</a></span><ul class=\"toc-item\"><li><span><a href=\"#Read-in-data\" data-toc-modified-id=\"Read-in-data-1.1\"><span class=\"toc-item-num\">1.1&nbsp;&nbsp;</span>Read in data</a></span></li><li><span><a href=\"#Transform-data\" data-toc-modified-id=\"Transform-data-1.2\"><span class=\"toc-item-num\">1.2&nbsp;&nbsp;</span>Transform data</a></span></li></ul></li><li><span><a href=\"#Shortlist-Promising-Models\" data-toc-modified-id=\"Shortlist-Promising-Models-2\"><span class=\"toc-item-num\">2&nbsp;&nbsp;</span>Shortlist Promising Models</a></span><ul class=\"toc-item\"><li><span><a href=\"#Select-a-Performance-Measure\" data-toc-modified-id=\"Select-a-Performance-Measure-2.1\"><span class=\"toc-item-num\">2.1&nbsp;&nbsp;</span>Select a Performance Measure</a></span></li><li><span><a href=\"#Establish-a-performance-baseline-with-a-dummy-classifier\" data-toc-modified-id=\"Establish-a-performance-baseline-with-a-dummy-classifier-2.2\"><span class=\"toc-item-num\">2.2&nbsp;&nbsp;</span>Establish a performance baseline with a dummy classifier</a></span></li><li><span><a href=\"#Train-quick-and-dirty-models-and-compare-their-performance\" data-toc-modified-id=\"Train-quick-and-dirty-models-and-compare-their-performance-2.3\"><span class=\"toc-item-num\">2.3&nbsp;&nbsp;</span>Train quick and dirty models and compare their performance</a></span></li><li><span><a href=\"#Data-augmentation-with-SMOTE\" data-toc-modified-id=\"Data-augmentation-with-SMOTE-2.4\"><span class=\"toc-item-num\">2.4&nbsp;&nbsp;</span>Data augmentation with SMOTE</a></span></li></ul></li><li><span><a href=\"#SMOTE-issue\" data-toc-modified-id=\"SMOTE-issue-3\"><span class=\"toc-item-num\">3&nbsp;&nbsp;</span>SMOTE issue</a></span><ul class=\"toc-item\"><li><span><a href=\"#test-set-Creation\" data-toc-modified-id=\"test-set-Creation-3.1\"><span class=\"toc-item-num\">3.1&nbsp;&nbsp;</span>test set Creation</a></span></li><li><span><a href=\"#Results-for-a-model-without-pipeline\" data-toc-modified-id=\"Results-for-a-model-without-pipeline-3.2\"><span class=\"toc-item-num\">3.2&nbsp;&nbsp;</span>Results for a model without pipeline</a></span></li><li><span><a href=\"#Results-for-a-model-with-a-pipeline\" data-toc-modified-id=\"Results-for-a-model-with-a-pipeline-3.3\"><span class=\"toc-item-num\">3.3&nbsp;&nbsp;</span>Results for a model with a pipeline</a></span></li></ul></li><li><span><a href=\"#Improve-the-promising-models\" data-toc-modified-id=\"Improve-the-promising-models-4\"><span class=\"toc-item-num\">4&nbsp;&nbsp;</span>Improve the promising models</a></span><ul class=\"toc-item\"><li><span><a href=\"#Test-the-asumptions-made-for-data-cleaning.\" data-toc-modified-id=\"Test-the-asumptions-made-for-data-cleaning.-4.1\"><span class=\"toc-item-num\">4.1&nbsp;&nbsp;</span>Test the asumptions made for data cleaning.</a></span></li><li><span><a href=\"#Feature-Selection\" data-toc-modified-id=\"Feature-Selection-4.2\"><span class=\"toc-item-num\">4.2&nbsp;&nbsp;</span>Feature Selection</a></span></li></ul></li><li><span><a href=\"#Fine-Tune-the-hyperparameters\" data-toc-modified-id=\"Fine-Tune-the-hyperparameters-5\"><span class=\"toc-item-num\">5&nbsp;&nbsp;</span>Fine-Tune the hyperparameters</a></span><ul class=\"toc-item\"><li><span><a href=\"#Random-Forest\" data-toc-modified-id=\"Random-Forest-5.1\"><span class=\"toc-item-num\">5.1&nbsp;&nbsp;</span>Random Forest</a></span></li><li><span><a href=\"#XGBoost\" data-toc-modified-id=\"XGBoost-5.2\"><span class=\"toc-item-num\">5.2&nbsp;&nbsp;</span>XGBoost</a></span></li><li><span><a href=\"#LightGBM\" data-toc-modified-id=\"LightGBM-5.3\"><span class=\"toc-item-num\">5.3&nbsp;&nbsp;</span>LightGBM</a></span></li><li><span><a href=\"#Catboost\" data-toc-modified-id=\"Catboost-5.4\"><span class=\"toc-item-num\">5.4&nbsp;&nbsp;</span>Catboost</a></span></li><li><span><a href=\"#Compare-Results\" data-toc-modified-id=\"Compare-Results-5.5\"><span class=\"toc-item-num\">5.5&nbsp;&nbsp;</span>Compare Results</a></span></li><li><span><a href=\"#Best-model\" data-toc-modified-id=\"Best-model-5.6\"><span class=\"toc-item-num\">5.6&nbsp;&nbsp;</span>Best model</a></span></li></ul></li><li><span><a href=\"#Analyse-feature-importance-with-SHAP\" data-toc-modified-id=\"Analyse-feature-importance-with-SHAP-6\"><span class=\"toc-item-num\">6&nbsp;&nbsp;</span>Analyse feature importance with SHAP</a></span></li></ul></div>"
   ]
  },
  {
   "cell_type": "markdown",
   "id": "soviet-designation",
   "metadata": {},
   "source": [
    "## Prepare the data"
   ]
  },
  {
   "cell_type": "markdown",
   "id": "manual-metabolism",
   "metadata": {},
   "source": [
    "### Read in data"
   ]
  },
  {
   "cell_type": "code",
   "execution_count": 2,
   "id": "incredible-imagination",
   "metadata": {
    "ExecuteTime": {
     "end_time": "2022-01-07T09:56:02.218326Z",
     "start_time": "2022-01-07T09:55:31.466706Z"
    }
   },
   "outputs": [
    {
     "name": "stdout",
     "output_type": "stream",
     "text": [
      "1) application_test.csv\n",
      "2) application_train.csv\n",
      "3) bureau.csv\n",
      "4) bureau_balance.csv\n",
      "5) credit_card_balance.csv\n",
      "6) HomeCredit_columns_description.csv\n",
      "7) installments_payments.csv\n",
      "8) POS_CASH_balance.csv\n",
      "9) previous_application.csv\n",
      "10) sample_submission.csv\n"
     ]
    }
   ],
   "source": [
    "list_files = sorted(os.listdir(\"data/\"), key=str.lower)\n",
    "for i, file in enumerate(list_files):\n",
    "    print(\"{}) {}\".format(i+1, file))\n",
    "\n",
    "app_test = pd.read_csv(\"data/\" + list_files[0])\n",
    "app_train = pd.read_csv(\"data/\" + list_files[1])\n",
    "bureau =  pd.read_csv(\"data/\" + list_files[2])\n",
    "b_b = pd.read_csv(\"data/\" + list_files[3])\n",
    "cc_balance = pd.read_csv(\"data/\" + list_files[4])\n",
    "ins_payments = pd.read_csv(\"data/\" + list_files[6])\n",
    "pos_cash = pd.read_csv(\"data/\" + list_files[7])\n",
    "prev_app = pd.read_csv(\"data/\" + list_files[8])"
   ]
  },
  {
   "cell_type": "markdown",
   "id": "quantitative-animation",
   "metadata": {},
   "source": [
    "### Transform data"
   ]
  },
  {
   "cell_type": "code",
   "execution_count": 3,
   "id": "executed-recommendation",
   "metadata": {
    "ExecuteTime": {
     "end_time": "2022-01-07T09:56:02.313692Z",
     "start_time": "2022-01-07T09:56:02.220185Z"
    }
   },
   "outputs": [],
   "source": [
    "from sklearn.impute import SimpleImputer\n",
    "from sklearn.preprocessing import StandardScaler, MaxAbsScaler\n",
    "from sklearn.preprocessing import OneHotEncoder\n",
    "from sklearn.preprocessing import PolynomialFeatures\n",
    "from sklearn.preprocessing import FunctionTransformer\n",
    "from sklearn.pipeline import Pipeline\n",
    "from sklearn.compose import ColumnTransformer\n",
    "from functions.preprocessing import drop_na_att\n",
    "from functions.preprocessing import impute_cat_att\n",
    "from functions.preprocessing import fix_sparse_anomalies\n",
    "from functions.preprocessing import fix_dense_anomalies\n",
    "from functions.preprocessing import add_domain_att\n",
    "from functions.preprocessing import tr_skew_att"
   ]
  },
  {
   "cell_type": "markdown",
   "id": "promotional-guatemala",
   "metadata": {},
   "source": [
    "We will not use the following features for the modeling:\n",
    "- *SK_ID_CURR*\n",
    "- *EXT_SOURCE_1*\n",
    "- *EXT_SOURCE_2*\n",
    "- *EXT_SOURCE_3*\n",
    "\n",
    "The first one is an id, meaning it is unique for each client, and so does not bring any information and so has been dropped.\n",
    "For the three \"EXT_SOURCE\", it is totally different. The correlation study made previously suggests these features could be the major contributors of the final model. However, not knowing how these scores have been calculated, it would be impossible to us to explain a model based on them."
   ]
  },
  {
   "cell_type": "code",
   "execution_count": 261,
   "id": "unauthorized-subcommittee",
   "metadata": {
    "ExecuteTime": {
     "end_time": "2022-01-10T18:34:05.858094Z",
     "start_time": "2022-01-10T18:34:05.828296Z"
    }
   },
   "outputs": [],
   "source": [
    "test = X[cat_att]"
   ]
  },
  {
   "cell_type": "code",
   "execution_count": 262,
   "id": "medieval-burke",
   "metadata": {
    "ExecuteTime": {
     "end_time": "2022-01-10T18:36:00.714117Z",
     "start_time": "2022-01-10T18:36:00.239876Z"
    }
   },
   "outputs": [],
   "source": [
    "imputer = SimpleImputer(strategy='most_frequent')\n",
    "test_tr = imputer.fit_transform(test)"
   ]
  },
  {
   "cell_type": "code",
   "execution_count": 274,
   "id": "cardiovascular-smell",
   "metadata": {
    "ExecuteTime": {
     "end_time": "2022-01-10T18:52:39.281601Z",
     "start_time": "2022-01-10T18:52:39.062592Z"
    }
   },
   "outputs": [
    {
     "data": {
      "text/plain": [
       "NAME_CONTRACT_TYPE                               Cash loans\n",
       "CODE_GENDER                                               F\n",
       "FLAG_OWN_CAR                                              N\n",
       "FLAG_OWN_REALTY                                           Y\n",
       "NAME_TYPE_SUITE                               Unaccompanied\n",
       "NAME_INCOME_TYPE                                    Working\n",
       "NAME_EDUCATION_TYPE           Secondary / secondary special\n",
       "NAME_FAMILY_STATUS                                  Married\n",
       "NAME_HOUSING_TYPE                         House / apartment\n",
       "OCCUPATION_TYPE                                    Laborers\n",
       "WEEKDAY_APPR_PROCESS_START                          TUESDAY\n",
       "ORGANIZATION_TYPE                    Business Entity Type 3\n",
       "FONDKAPREMONT_MODE                         reg oper account\n",
       "HOUSETYPE_MODE                               block of flats\n",
       "WALLSMATERIAL_MODE                                    Panel\n",
       "EMERGENCYSTATE_MODE                                      No\n",
       "dtype: object"
      ]
     },
     "execution_count": 274,
     "metadata": {},
     "output_type": "execute_result"
    }
   ],
   "source": [
    "pd.Series([test[c].value_counts().index[0] for c in test],index=test.columns)"
   ]
  },
  {
   "cell_type": "code",
   "execution_count": 275,
   "id": "frozen-berry",
   "metadata": {
    "ExecuteTime": {
     "end_time": "2022-01-10T18:53:31.562722Z",
     "start_time": "2022-01-10T18:53:31.559578Z"
    }
   },
   "outputs": [
    {
     "data": {
      "text/plain": [
       "array(['Cash loans', 'F', 'N', 'Y', 'Unaccompanied', 'Working',\n",
       "       'Secondary / secondary special', 'Married', 'House / apartment',\n",
       "       'Laborers', 'TUESDAY', 'Business Entity Type 3',\n",
       "       'reg oper account', 'block of flats', 'Panel', 'No'], dtype=object)"
      ]
     },
     "execution_count": 275,
     "metadata": {},
     "output_type": "execute_result"
    }
   ],
   "source": [
    "imputer.statistics_"
   ]
  },
  {
   "cell_type": "code",
   "execution_count": 304,
   "id": "adolescent-works",
   "metadata": {
    "ExecuteTime": {
     "end_time": "2022-01-11T09:29:06.729432Z",
     "start_time": "2022-01-11T09:29:06.726896Z"
    }
   },
   "outputs": [],
   "source": [
    "arr = np.random.randn(3, 5)"
   ]
  },
  {
   "cell_type": "code",
   "execution_count": 305,
   "id": "banner-lodging",
   "metadata": {
    "ExecuteTime": {
     "end_time": "2022-01-11T09:29:19.612344Z",
     "start_time": "2022-01-11T09:29:19.609091Z"
    }
   },
   "outputs": [
    {
     "data": {
      "text/plain": [
       "(3, 5)"
      ]
     },
     "execution_count": 305,
     "metadata": {},
     "output_type": "execute_result"
    }
   ],
   "source": [
    "arr.shape"
   ]
  },
  {
   "cell_type": "code",
   "execution_count": 306,
   "id": "eligible-hunter",
   "metadata": {
    "ExecuteTime": {
     "end_time": "2022-01-11T09:29:38.146761Z",
     "start_time": "2022-01-11T09:29:38.143819Z"
    }
   },
   "outputs": [
    {
     "data": {
      "text/plain": [
       "dtype('float64')"
      ]
     },
     "execution_count": 306,
     "metadata": {},
     "output_type": "execute_result"
    }
   ],
   "source": [
    "arr.dtype"
   ]
  },
  {
   "cell_type": "code",
   "execution_count": 308,
   "id": "inappropriate-opposition",
   "metadata": {
    "ExecuteTime": {
     "end_time": "2022-01-11T09:31:41.660272Z",
     "start_time": "2022-01-11T09:31:41.657195Z"
    }
   },
   "outputs": [
    {
     "data": {
      "text/plain": [
       "2"
      ]
     },
     "execution_count": 308,
     "metadata": {},
     "output_type": "execute_result"
    }
   ],
   "source": [
    "arr.ndim"
   ]
  },
  {
   "cell_type": "code",
   "execution_count": 309,
   "id": "boxed-grenada",
   "metadata": {
    "ExecuteTime": {
     "end_time": "2022-01-11T09:39:09.504225Z",
     "start_time": "2022-01-11T09:39:09.502065Z"
    }
   },
   "outputs": [],
   "source": [
    "from sklearn.impute import SimpleImputer\n",
    "\n",
    "imputer = SimpleImputer(strategy=\"median\")"
   ]
  },
  {
   "cell_type": "code",
   "execution_count": 153,
   "id": "visible-crowd",
   "metadata": {
    "ExecuteTime": {
     "end_time": "2022-01-10T15:25:16.974318Z",
     "start_time": "2022-01-10T15:25:15.151716Z"
    }
   },
   "outputs": [],
   "source": [
    "# Drop the target and the ID of input data\n",
    "# as well as sourc \n",
    "X = app_train.drop(['SK_ID_CURR', 'EXT_SOURCE_1',\n",
    "                    'EXT_SOURCE_2', 'EXT_SOURCE_3','TARGET'], axis=1)\n",
    "\n",
    "# Get the categorical attributes\n",
    "cat_att = list(X.select_dtypes('object'))\n",
    "\n",
    "# Get the numerical attributes\n",
    "num_att = list(X.select_dtypes(['number']))\n",
    "ord_att = list(X[num_att].loc[:, X[num_att].nunique()<6])\n",
    "sparse_att = [c for c in num_att\n",
    "              if c not in ord_att\n",
    "              and (X[c]==0).sum() > 0.5*len(X)]\n",
    "dense_att = [c for c in num_att\n",
    "             if c not in ord_att\n",
    "             and c not in sparse_att]\n",
    "filtered_dense_att = list(drop_na_att(X[dense_att])) + ['DAYS_EMPLOYED_ANOM']\n",
    "\n",
    "# Create a pipeline with an encoder\n",
    "# drop the first category in each feature with two categories (drop='if_binary')\n",
    "cat_pipeline = Pipeline([\n",
    "               ('filter', FunctionTransformer(drop_na_att)),               \n",
    "               ('imputer', FunctionTransformer(impute_cat_att)),\n",
    "               ('encoder', OneHotEncoder(drop='if_binary'))\n",
    "               ])\n",
    "\n",
    "# Pipeline to prepare numerical ordinal features\n",
    "ord_pipeline = Pipeline([\n",
    "               ('filter', FunctionTransformer(drop_na_att)),\n",
    "               ('imputer', SimpleImputer(strategy='most_frequent'))\n",
    "               ])\n",
    "\n",
    "# Pipeline to prepare sparse features with at least 6 distinct values\n",
    "sparse_pipeline = Pipeline([\n",
    "                  ('filter', FunctionTransformer(drop_na_att)),\n",
    "                  ('cleaner', FunctionTransformer(fix_sparse_anomalies)),\n",
    "                  ('imputer', SimpleImputer(strategy='most_frequent')),\n",
    "                  ('scaler', MaxAbsScaler())\n",
    "                  ])\n",
    "\n",
    "# Pipeline to prepare dense features with at least 6 distinct values\n",
    "dense_pipeline = Pipeline([\n",
    "                 ('filter', FunctionTransformer(drop_na_att)),\n",
    "                 ('cleaner', FunctionTransformer(fix_dense_anomalies)),\n",
    "                 ('imputer', SimpleImputer()),\n",
    "                 ('domain_adder', FunctionTransformer(add_domain_att,\n",
    "                                                      kw_args={'names': filtered_dense_att})),\n",
    "                 ('skew_transformer', FunctionTransformer(tr_skew_att)),\n",
    "                 ('scaler', StandardScaler())\n",
    "                 ])\n",
    "\n",
    "# Pipeline to prepare all data\n",
    "preparation = ColumnTransformer([\n",
    "              ('cat', cat_pipeline, cat_att),\n",
    "              ('ordinal', ord_pipeline, ord_att),\n",
    "              ('sparse', sparse_pipeline, sparse_att),\n",
    "              ('dense', dense_pipeline, dense_att)\n",
    "              ])"
   ]
  },
  {
   "cell_type": "code",
   "execution_count": 158,
   "id": "resistant-vinyl",
   "metadata": {
    "ExecuteTime": {
     "end_time": "2022-01-10T15:36:05.861591Z",
     "start_time": "2022-01-10T15:35:59.931690Z"
    }
   },
   "outputs": [
    {
     "name": "stdout",
     "output_type": "stream",
     "text": [
      "(307511, 117)\n"
     ]
    },
    {
     "data": {
      "text/html": [
       "<div>\n",
       "<style scoped>\n",
       "    .dataframe tbody tr th:only-of-type {\n",
       "        vertical-align: middle;\n",
       "    }\n",
       "\n",
       "    .dataframe tbody tr th {\n",
       "        vertical-align: top;\n",
       "    }\n",
       "\n",
       "    .dataframe thead th {\n",
       "        text-align: right;\n",
       "    }\n",
       "</style>\n",
       "<table border=\"1\" class=\"dataframe\">\n",
       "  <thead>\n",
       "    <tr style=\"text-align: right;\">\n",
       "      <th></th>\n",
       "      <th>NAME_CONTRACT_TYPE_Revolving loans</th>\n",
       "      <th>CODE_GENDER_F</th>\n",
       "      <th>CODE_GENDER_M</th>\n",
       "      <th>CODE_GENDER_XNA</th>\n",
       "      <th>FLAG_OWN_CAR_Y</th>\n",
       "      <th>FLAG_OWN_REALTY_Y</th>\n",
       "      <th>NAME_TYPE_SUITE_Children</th>\n",
       "      <th>NAME_TYPE_SUITE_Family</th>\n",
       "      <th>NAME_TYPE_SUITE_Group of people</th>\n",
       "      <th>NAME_TYPE_SUITE_Other_A</th>\n",
       "      <th>...</th>\n",
       "      <th>AMT_REQ_CREDIT_BUREAU_WEEK</th>\n",
       "      <th>AMT_REQ_CREDIT_BUREAU_MON</th>\n",
       "      <th>AMT_REQ_CREDIT_BUREAU_QRT</th>\n",
       "      <th>AMT_REQ_CREDIT_BUREAU_YEAR</th>\n",
       "      <th>DAYS_EMPLOYED_ANOM</th>\n",
       "      <th>DAYS_EMPLOYED_PERC</th>\n",
       "      <th>CREDIT_INCOME_PERC</th>\n",
       "      <th>INCOME_PER_PERSON</th>\n",
       "      <th>ANNUITY_INCOME_PERC</th>\n",
       "      <th>CREDIT_TERM</th>\n",
       "    </tr>\n",
       "  </thead>\n",
       "  <tbody>\n",
       "    <tr>\n",
       "      <th>0</th>\n",
       "      <td>0.0</td>\n",
       "      <td>0.0</td>\n",
       "      <td>1.0</td>\n",
       "      <td>0.0</td>\n",
       "      <td>0.0</td>\n",
       "      <td>1.0</td>\n",
       "      <td>0.0</td>\n",
       "      <td>0.0</td>\n",
       "      <td>0.0</td>\n",
       "      <td>0.0</td>\n",
       "      <td>...</td>\n",
       "      <td>-1.265724</td>\n",
       "      <td>-0.631821</td>\n",
       "      <td>-0.206991</td>\n",
       "      <td>-5.176655e-01</td>\n",
       "      <td>-0.468635</td>\n",
       "      <td>-0.685451</td>\n",
       "      <td>-0.755852</td>\n",
       "      <td>1.548683</td>\n",
       "      <td>-0.629679</td>\n",
       "      <td>0.326909</td>\n",
       "    </tr>\n",
       "    <tr>\n",
       "      <th>1</th>\n",
       "      <td>0.0</td>\n",
       "      <td>1.0</td>\n",
       "      <td>0.0</td>\n",
       "      <td>0.0</td>\n",
       "      <td>0.0</td>\n",
       "      <td>0.0</td>\n",
       "      <td>0.0</td>\n",
       "      <td>1.0</td>\n",
       "      <td>0.0</td>\n",
       "      <td>0.0</td>\n",
       "      <td>...</td>\n",
       "      <td>-0.167639</td>\n",
       "      <td>-0.325620</td>\n",
       "      <td>0.163108</td>\n",
       "      <td>-1.092866e+00</td>\n",
       "      <td>-0.468635</td>\n",
       "      <td>-0.652211</td>\n",
       "      <td>0.567970</td>\n",
       "      <td>0.912393</td>\n",
       "      <td>-0.510993</td>\n",
       "      <td>-1.178242</td>\n",
       "    </tr>\n",
       "    <tr>\n",
       "      <th>2</th>\n",
       "      <td>1.0</td>\n",
       "      <td>0.0</td>\n",
       "      <td>1.0</td>\n",
       "      <td>0.0</td>\n",
       "      <td>1.0</td>\n",
       "      <td>1.0</td>\n",
       "      <td>0.0</td>\n",
       "      <td>0.0</td>\n",
       "      <td>0.0</td>\n",
       "      <td>0.0</td>\n",
       "      <td>...</td>\n",
       "      <td>-1.265724</td>\n",
       "      <td>-0.938022</td>\n",
       "      <td>0.178831</td>\n",
       "      <td>-1.092866e+00</td>\n",
       "      <td>-0.468635</td>\n",
       "      <td>-1.222743</td>\n",
       "      <td>-0.761159</td>\n",
       "      <td>-0.175347</td>\n",
       "      <td>-0.888140</td>\n",
       "      <td>-0.155923</td>\n",
       "    </tr>\n",
       "    <tr>\n",
       "      <th>3</th>\n",
       "      <td>0.0</td>\n",
       "      <td>1.0</td>\n",
       "      <td>0.0</td>\n",
       "      <td>0.0</td>\n",
       "      <td>0.0</td>\n",
       "      <td>1.0</td>\n",
       "      <td>0.0</td>\n",
       "      <td>0.0</td>\n",
       "      <td>0.0</td>\n",
       "      <td>0.0</td>\n",
       "      <td>...</td>\n",
       "      <td>-0.167639</td>\n",
       "      <td>1.511587</td>\n",
       "      <td>0.418307</td>\n",
       "      <td>-3.831603e-16</td>\n",
       "      <td>-0.468635</td>\n",
       "      <td>0.151233</td>\n",
       "      <td>-0.558658</td>\n",
       "      <td>-0.175347</td>\n",
       "      <td>0.463536</td>\n",
       "      <td>1.830833</td>\n",
       "    </tr>\n",
       "    <tr>\n",
       "      <th>4</th>\n",
       "      <td>0.0</td>\n",
       "      <td>0.0</td>\n",
       "      <td>1.0</td>\n",
       "      <td>0.0</td>\n",
       "      <td>0.0</td>\n",
       "      <td>1.0</td>\n",
       "      <td>0.0</td>\n",
       "      <td>0.0</td>\n",
       "      <td>0.0</td>\n",
       "      <td>0.0</td>\n",
       "      <td>...</td>\n",
       "      <td>-1.265724</td>\n",
       "      <td>-0.325620</td>\n",
       "      <td>-0.173126</td>\n",
       "      <td>-1.092866e+00</td>\n",
       "      <td>-0.468635</td>\n",
       "      <td>0.086094</td>\n",
       "      <td>0.359119</td>\n",
       "      <td>0.747053</td>\n",
       "      <td>0.028661</td>\n",
       "      <td>-0.490159</td>\n",
       "    </tr>\n",
       "  </tbody>\n",
       "</table>\n",
       "<p>5 rows × 166 columns</p>\n",
       "</div>"
      ],
      "text/plain": [
       "   NAME_CONTRACT_TYPE_Revolving loans  CODE_GENDER_F  CODE_GENDER_M  \\\n",
       "0                                 0.0            0.0            1.0   \n",
       "1                                 0.0            1.0            0.0   \n",
       "2                                 1.0            0.0            1.0   \n",
       "3                                 0.0            1.0            0.0   \n",
       "4                                 0.0            0.0            1.0   \n",
       "\n",
       "   CODE_GENDER_XNA  FLAG_OWN_CAR_Y  FLAG_OWN_REALTY_Y  \\\n",
       "0              0.0             0.0                1.0   \n",
       "1              0.0             0.0                0.0   \n",
       "2              0.0             1.0                1.0   \n",
       "3              0.0             0.0                1.0   \n",
       "4              0.0             0.0                1.0   \n",
       "\n",
       "   NAME_TYPE_SUITE_Children  NAME_TYPE_SUITE_Family  \\\n",
       "0                       0.0                     0.0   \n",
       "1                       0.0                     1.0   \n",
       "2                       0.0                     0.0   \n",
       "3                       0.0                     0.0   \n",
       "4                       0.0                     0.0   \n",
       "\n",
       "   NAME_TYPE_SUITE_Group of people  NAME_TYPE_SUITE_Other_A  ...  \\\n",
       "0                              0.0                      0.0  ...   \n",
       "1                              0.0                      0.0  ...   \n",
       "2                              0.0                      0.0  ...   \n",
       "3                              0.0                      0.0  ...   \n",
       "4                              0.0                      0.0  ...   \n",
       "\n",
       "   AMT_REQ_CREDIT_BUREAU_WEEK  AMT_REQ_CREDIT_BUREAU_MON  \\\n",
       "0                   -1.265724                  -0.631821   \n",
       "1                   -0.167639                  -0.325620   \n",
       "2                   -1.265724                  -0.938022   \n",
       "3                   -0.167639                   1.511587   \n",
       "4                   -1.265724                  -0.325620   \n",
       "\n",
       "   AMT_REQ_CREDIT_BUREAU_QRT  AMT_REQ_CREDIT_BUREAU_YEAR  DAYS_EMPLOYED_ANOM  \\\n",
       "0                  -0.206991               -5.176655e-01           -0.468635   \n",
       "1                   0.163108               -1.092866e+00           -0.468635   \n",
       "2                   0.178831               -1.092866e+00           -0.468635   \n",
       "3                   0.418307               -3.831603e-16           -0.468635   \n",
       "4                  -0.173126               -1.092866e+00           -0.468635   \n",
       "\n",
       "   DAYS_EMPLOYED_PERC  CREDIT_INCOME_PERC  INCOME_PER_PERSON  \\\n",
       "0           -0.685451           -0.755852           1.548683   \n",
       "1           -0.652211            0.567970           0.912393   \n",
       "2           -1.222743           -0.761159          -0.175347   \n",
       "3            0.151233           -0.558658          -0.175347   \n",
       "4            0.086094            0.359119           0.747053   \n",
       "\n",
       "   ANNUITY_INCOME_PERC  CREDIT_TERM  \n",
       "0            -0.629679     0.326909  \n",
       "1            -0.510993    -1.178242  \n",
       "2            -0.888140    -0.155923  \n",
       "3             0.463536     1.830833  \n",
       "4             0.028661    -0.490159  \n",
       "\n",
       "[5 rows x 166 columns]"
      ]
     },
     "execution_count": 158,
     "metadata": {},
     "output_type": "execute_result"
    }
   ],
   "source": [
    "# Prepare data\n",
    "y_train = app_train['TARGET']\n",
    "X_train = preparation.fit_transform(X)\n",
    "print(X.shape)\n",
    "# Get the name of onehot encoded features\n",
    "onehot_att = list(drop_na_att(X[cat_att]))\n",
    "encoder = OneHotEncoder(drop='if_binary')\n",
    "encoder.fit(impute_cat_att(X[onehot_att]))\n",
    "onehot_att = list(encoder.get_feature_names(onehot_att))\n",
    "# Get the name of domain attributes\n",
    "domain_att = ['DAYS_EMPLOYED_PERC', 'CREDIT_INCOME_PERC', 'INCOME_PER_PERSON',\n",
    "              'ANNUITY_INCOME_PERC', 'CREDIT_TERM']\n",
    "# Get the name of all attributes\n",
    "extra_att = ['DAYS_EMPLOYED_ANOM'] + domain_att\n",
    "att = onehot_att + list(drop_na_att(X[num_att])) + extra_att\n",
    "\n",
    "df_train = pd.DataFrame(X_train, columns=att)\n",
    "df_train.head()"
   ]
  },
  {
   "cell_type": "markdown",
   "id": "rubber-international",
   "metadata": {},
   "source": [
    "## Shortlist Promising Models"
   ]
  },
  {
   "cell_type": "markdown",
   "id": "patent-sailing",
   "metadata": {},
   "source": [
    "### Select a Performance Measure"
   ]
  },
  {
   "cell_type": "code",
   "execution_count": 6,
   "id": "extended-basket",
   "metadata": {
    "ExecuteTime": {
     "end_time": "2022-01-07T09:56:07.742191Z",
     "start_time": "2022-01-07T09:56:07.738278Z"
    }
   },
   "outputs": [
    {
     "name": "stdout",
     "output_type": "stream",
     "text": [
      "Percentage of the positive class: 8.1%\n"
     ]
    }
   ],
   "source": [
    "print(f\"Percentage of the positive class: \\\n",
    "{app_train['TARGET'].value_counts()[1]/len(app_train):.1%}\")"
   ]
  },
  {
   "cell_type": "markdown",
   "id": "secure-rating",
   "metadata": {},
   "source": [
    "Though *accuracy* is generally the first performance used for binary classification, it is seldom the best choice when we are dealing with *skewed dataset*, like the one we have.  \n",
    "To prove it, let's take a very dumb classifier that just classifies every instance in the *negative* class (meaning the majority class). We would get an accuracy of $92\\%$, not bad for such dumb classifier! Thus, no matter the model used, the accuracy will be high. It will be difficult to know if our model really learn something, whether it has skill on the dataset.\n",
    "\n",
    "There are much better way to evaluate the performance of a classifier, all depends on the model's objective. Let's remind ourselves the objective: **predict whether a new client will be in default or not.** It will cost much more money for the bank to grant a loan to a person that will be not able to repay it, than the opposite, refuse to approve a loan for someone who could pay it back. Meaning we care more about *False Negative* than *False Positive*, in other words, whe prefer having a high *Recall* than a high *Precision*.\n",
    "\n",
    "The $F_1$ score is often used for imbalanced data and binary classification problems. It is the *harmonic mean* of *Precision* and *Recall*:\n",
    "\n",
    "$\\displaystyle F_1 = 2 \\times \\frac {precision \\times recall}{precision + recall}$\n",
    "\n",
    "The $F_1$ score favors classifiers that have similar *precision* and *recall*. As said above, this is not what we want. Then, we will use another score typically used for such problem: the *AUC* score. AUC standing for \"Area Under the Curve\". Two curves can be used to compute the AUC:\n",
    "- the Precision-Recall (PR) curve\n",
    "- the Receiver Operating Characteristic (ROC) curve\n",
    "\n",
    "The former is prefered when:\n",
    "- the positive class is rare or,\n",
    "- you care more about the false positives than the false negative.\n",
    "\n",
    "Here, we definitely care more about the false negatives than false postives, but the dataset is severely imbalanced with the positive class as the minority one. So we should use the PR curve. However, as we will see in the next section, we will use a technique named SMOTE (Synthetic Minority Oversampling Technique) to oversample the minority class, and as we are more concern by the recall than the precision, **we will compute the ROC AUC.**"
   ]
  },
  {
   "cell_type": "markdown",
   "id": "interracial-diversity",
   "metadata": {},
   "source": [
    "### Establish a performance baseline with a dummy classifier"
   ]
  },
  {
   "cell_type": "markdown",
   "id": "loving-advocacy",
   "metadata": {},
   "source": [
    "A performance baseline provides a minimum score above which a model is considered to have skill on the dataset. It provides a line by which all other algorithms can be compared. A baseline can be established using a naive classifier, such as predicting the most frequent class label for all examples in the dataset.\n",
    "\n",
    "Each metric requires the careful choice of a specific naive classification strategy that achieves the appropriate \"*no skill*\" performance. A no-skill model has a ROC AUC of 0.5 and can be achieved by predicting class labels randomly, while respecting the training set's class distribution (e.g. 8.1% for the positive class).  \n",
    "We will use the \"*stratified*\" strategy of the sklearn class `DummyClassifier`."
   ]
  },
  {
   "cell_type": "code",
   "execution_count": 7,
   "id": "athletic-external",
   "metadata": {
    "ExecuteTime": {
     "end_time": "2022-01-07T09:56:08.638083Z",
     "start_time": "2022-01-07T09:56:07.743581Z"
    }
   },
   "outputs": [
    {
     "name": "stdout",
     "output_type": "stream",
     "text": [
      "ROC AUC for the dummy classifier: 0.50\n"
     ]
    }
   ],
   "source": [
    "from sklearn.dummy import DummyClassifier\n",
    "from sklearn.model_selection import StratifiedKFold\n",
    "from sklearn.model_selection import cross_val_score\n",
    "\n",
    "# Train a dummy classifier\n",
    "dummy_clf = DummyClassifier(strategy='stratified')\n",
    "\n",
    "# Get the ROC AUC\n",
    "cv = StratifiedKFold(5, shuffle=True, random_state=42)\n",
    "dummy_scores = cross_val_score(dummy_clf, X_train, y_train,\n",
    "                               scoring='roc_auc', cv=cv, n_jobs=1)\n",
    "print(f\"ROC AUC for the dummy classifier: {dummy_scores.mean():.2f}\")"
   ]
  },
  {
   "cell_type": "markdown",
   "id": "foreign-barbados",
   "metadata": {},
   "source": [
    "### Train quick and dirty models and compare their performance"
   ]
  },
  {
   "cell_type": "code",
   "execution_count": 8,
   "id": "oriental-sleeve",
   "metadata": {
    "ExecuteTime": {
     "end_time": "2022-01-07T10:02:19.757197Z",
     "start_time": "2022-01-07T09:56:08.639488Z"
    }
   },
   "outputs": [
    {
     "data": {
      "text/html": [
       "<div>\n",
       "<style scoped>\n",
       "    .dataframe tbody tr th:only-of-type {\n",
       "        vertical-align: middle;\n",
       "    }\n",
       "\n",
       "    .dataframe tbody tr th {\n",
       "        vertical-align: top;\n",
       "    }\n",
       "\n",
       "    .dataframe thead th {\n",
       "        text-align: right;\n",
       "    }\n",
       "</style>\n",
       "<table border=\"1\" class=\"dataframe\">\n",
       "  <thead>\n",
       "    <tr style=\"text-align: right;\">\n",
       "      <th></th>\n",
       "      <th>fit time (s)</th>\n",
       "      <th>Accuracy</th>\n",
       "      <th>Precision</th>\n",
       "      <th>Recall</th>\n",
       "      <th>F1 Score</th>\n",
       "      <th>ROC AUC</th>\n",
       "    </tr>\n",
       "  </thead>\n",
       "  <tbody>\n",
       "    <tr>\n",
       "      <th>CatBoost Classifier</th>\n",
       "      <td>95.550789</td>\n",
       "      <td>0.919125</td>\n",
       "      <td>0.419129</td>\n",
       "      <td>0.004914</td>\n",
       "      <td>0.009715</td>\n",
       "      <td>0.715462</td>\n",
       "    </tr>\n",
       "    <tr>\n",
       "      <th>LightGBM Classifier</th>\n",
       "      <td>6.309871</td>\n",
       "      <td>0.919261</td>\n",
       "      <td>0.475238</td>\n",
       "      <td>0.001208</td>\n",
       "      <td>0.002410</td>\n",
       "      <td>0.713636</td>\n",
       "    </tr>\n",
       "    <tr>\n",
       "      <th>XGBoost Classifier</th>\n",
       "      <td>153.455286</td>\n",
       "      <td>0.919063</td>\n",
       "      <td>0.418265</td>\n",
       "      <td>0.007009</td>\n",
       "      <td>0.013785</td>\n",
       "      <td>0.710244</td>\n",
       "    </tr>\n",
       "    <tr>\n",
       "      <th>Logistic Regression</th>\n",
       "      <td>2.281053</td>\n",
       "      <td>0.919271</td>\n",
       "      <td>0.560317</td>\n",
       "      <td>0.001047</td>\n",
       "      <td>0.002088</td>\n",
       "      <td>0.679286</td>\n",
       "    </tr>\n",
       "    <tr>\n",
       "      <th>Random Forest Classifier</th>\n",
       "      <td>75.560856</td>\n",
       "      <td>0.919291</td>\n",
       "      <td>0.800000</td>\n",
       "      <td>0.000242</td>\n",
       "      <td>0.000483</td>\n",
       "      <td>0.657029</td>\n",
       "    </tr>\n",
       "    <tr>\n",
       "      <th>SVM - Linear kernel</th>\n",
       "      <td>2.633609</td>\n",
       "      <td>0.919271</td>\n",
       "      <td>0.000000</td>\n",
       "      <td>0.000000</td>\n",
       "      <td>0.000000</td>\n",
       "      <td>0.597747</td>\n",
       "    </tr>\n",
       "    <tr>\n",
       "      <th>Gaussian Naive Bayes</th>\n",
       "      <td>1.539795</td>\n",
       "      <td>0.132038</td>\n",
       "      <td>0.082575</td>\n",
       "      <td>0.964512</td>\n",
       "      <td>0.152126</td>\n",
       "      <td>0.556988</td>\n",
       "    </tr>\n",
       "    <tr>\n",
       "      <th>Decision Tree Classifier</th>\n",
       "      <td>16.639357</td>\n",
       "      <td>0.848087</td>\n",
       "      <td>0.119532</td>\n",
       "      <td>0.138570</td>\n",
       "      <td>0.128346</td>\n",
       "      <td>0.524483</td>\n",
       "    </tr>\n",
       "  </tbody>\n",
       "</table>\n",
       "</div>"
      ],
      "text/plain": [
       "                          fit time (s)  Accuracy  Precision    Recall  \\\n",
       "CatBoost Classifier          95.550789  0.919125   0.419129  0.004914   \n",
       "LightGBM Classifier           6.309871  0.919261   0.475238  0.001208   \n",
       "XGBoost Classifier          153.455286  0.919063   0.418265  0.007009   \n",
       "Logistic Regression           2.281053  0.919271   0.560317  0.001047   \n",
       "Random Forest Classifier     75.560856  0.919291   0.800000  0.000242   \n",
       "SVM - Linear kernel           2.633609  0.919271   0.000000  0.000000   \n",
       "Gaussian Naive Bayes          1.539795  0.132038   0.082575  0.964512   \n",
       "Decision Tree Classifier     16.639357  0.848087   0.119532  0.138570   \n",
       "\n",
       "                          F1 Score   ROC AUC  \n",
       "CatBoost Classifier       0.009715  0.715462  \n",
       "LightGBM Classifier       0.002410  0.713636  \n",
       "XGBoost Classifier        0.013785  0.710244  \n",
       "Logistic Regression       0.002088  0.679286  \n",
       "Random Forest Classifier  0.000483  0.657029  \n",
       "SVM - Linear kernel       0.000000  0.597747  \n",
       "Gaussian Naive Bayes      0.152126  0.556988  \n",
       "Decision Tree Classifier  0.128346  0.524483  "
      ]
     },
     "execution_count": 8,
     "metadata": {},
     "output_type": "execute_result"
    }
   ],
   "source": [
    "from functions.modeling import compare_models\n",
    "\n",
    "compare_models(X_train, y_train, sort='ROC AUC')"
   ]
  },
  {
   "cell_type": "markdown",
   "id": "impossible-springer",
   "metadata": {},
   "source": [
    "### Data augmentation with SMOTE"
   ]
  },
  {
   "cell_type": "code",
   "execution_count": 22,
   "id": "verified-facial",
   "metadata": {
    "ExecuteTime": {
     "end_time": "2022-01-07T10:33:28.079146Z",
     "start_time": "2022-01-07T10:33:17.862196Z"
    }
   },
   "outputs": [],
   "source": [
    "from imblearn.over_sampling import SMOTE\n",
    "\n",
    "X_smote, y_smote = SMOTE(random_state=42).fit_resample(X_train, y_train)"
   ]
  },
  {
   "cell_type": "code",
   "execution_count": 23,
   "id": "united-newton",
   "metadata": {
    "ExecuteTime": {
     "end_time": "2022-01-07T10:33:28.083883Z",
     "start_time": "2022-01-07T10:33:28.080817Z"
    }
   },
   "outputs": [
    {
     "data": {
      "text/plain": [
       "(307511, 166)"
      ]
     },
     "execution_count": 23,
     "metadata": {},
     "output_type": "execute_result"
    }
   ],
   "source": [
    "X_train.shape"
   ]
  },
  {
   "cell_type": "code",
   "execution_count": 24,
   "id": "comparative-hindu",
   "metadata": {
    "ExecuteTime": {
     "end_time": "2022-01-07T10:33:28.090042Z",
     "start_time": "2022-01-07T10:33:28.086245Z"
    }
   },
   "outputs": [
    {
     "data": {
      "text/plain": [
       "(565372, 166)"
      ]
     },
     "execution_count": 24,
     "metadata": {},
     "output_type": "execute_result"
    }
   ],
   "source": [
    "X_smote.shape"
   ]
  },
  {
   "cell_type": "code",
   "execution_count": 12,
   "id": "trying-independence",
   "metadata": {
    "ExecuteTime": {
     "end_time": "2022-01-07T10:17:34.850214Z",
     "start_time": "2022-01-07T10:02:29.599420Z"
    }
   },
   "outputs": [
    {
     "data": {
      "text/html": [
       "<div>\n",
       "<style scoped>\n",
       "    .dataframe tbody tr th:only-of-type {\n",
       "        vertical-align: middle;\n",
       "    }\n",
       "\n",
       "    .dataframe tbody tr th {\n",
       "        vertical-align: top;\n",
       "    }\n",
       "\n",
       "    .dataframe thead th {\n",
       "        text-align: right;\n",
       "    }\n",
       "</style>\n",
       "<table border=\"1\" class=\"dataframe\">\n",
       "  <thead>\n",
       "    <tr style=\"text-align: right;\">\n",
       "      <th></th>\n",
       "      <th>fit time (s)</th>\n",
       "      <th>Accuracy</th>\n",
       "      <th>Precision</th>\n",
       "      <th>Recall</th>\n",
       "      <th>F1 Score</th>\n",
       "      <th>ROC AUC</th>\n",
       "    </tr>\n",
       "  </thead>\n",
       "  <tbody>\n",
       "    <tr>\n",
       "      <th>Random Forest Classifier</th>\n",
       "      <td>166.687467</td>\n",
       "      <td>0.957697</td>\n",
       "      <td>0.999780</td>\n",
       "      <td>0.915595</td>\n",
       "      <td>0.955837</td>\n",
       "      <td>0.987129</td>\n",
       "    </tr>\n",
       "    <tr>\n",
       "      <th>CatBoost Classifier</th>\n",
       "      <td>295.749504</td>\n",
       "      <td>0.955449</td>\n",
       "      <td>0.999170</td>\n",
       "      <td>0.911655</td>\n",
       "      <td>0.953408</td>\n",
       "      <td>0.974777</td>\n",
       "    </tr>\n",
       "    <tr>\n",
       "      <th>XGBoost Classifier</th>\n",
       "      <td>360.147786</td>\n",
       "      <td>0.955539</td>\n",
       "      <td>0.999349</td>\n",
       "      <td>0.911672</td>\n",
       "      <td>0.953499</td>\n",
       "      <td>0.974496</td>\n",
       "    </tr>\n",
       "    <tr>\n",
       "      <th>LightGBM Classifier</th>\n",
       "      <td>17.337592</td>\n",
       "      <td>0.955203</td>\n",
       "      <td>0.999895</td>\n",
       "      <td>0.910501</td>\n",
       "      <td>0.953107</td>\n",
       "      <td>0.974194</td>\n",
       "    </tr>\n",
       "    <tr>\n",
       "      <th>Decision Tree Classifier</th>\n",
       "      <td>24.661468</td>\n",
       "      <td>0.911437</td>\n",
       "      <td>0.904345</td>\n",
       "      <td>0.920208</td>\n",
       "      <td>0.912207</td>\n",
       "      <td>0.911437</td>\n",
       "    </tr>\n",
       "    <tr>\n",
       "      <th>SVM - Linear kernel</th>\n",
       "      <td>5.659001</td>\n",
       "      <td>0.659017</td>\n",
       "      <td>0.651134</td>\n",
       "      <td>0.688506</td>\n",
       "      <td>0.668119</td>\n",
       "      <td>0.716906</td>\n",
       "    </tr>\n",
       "    <tr>\n",
       "      <th>Logistic Regression</th>\n",
       "      <td>4.363592</td>\n",
       "      <td>0.657740</td>\n",
       "      <td>0.653812</td>\n",
       "      <td>0.679421</td>\n",
       "      <td>0.663951</td>\n",
       "      <td>0.716781</td>\n",
       "    </tr>\n",
       "    <tr>\n",
       "      <th>Gaussian Naive Bayes</th>\n",
       "      <td>2.667754</td>\n",
       "      <td>0.539894</td>\n",
       "      <td>0.522067</td>\n",
       "      <td>0.943842</td>\n",
       "      <td>0.672277</td>\n",
       "      <td>0.553358</td>\n",
       "    </tr>\n",
       "  </tbody>\n",
       "</table>\n",
       "</div>"
      ],
      "text/plain": [
       "                          fit time (s)  Accuracy  Precision    Recall  \\\n",
       "Random Forest Classifier    166.687467  0.957697   0.999780  0.915595   \n",
       "CatBoost Classifier         295.749504  0.955449   0.999170  0.911655   \n",
       "XGBoost Classifier          360.147786  0.955539   0.999349  0.911672   \n",
       "LightGBM Classifier          17.337592  0.955203   0.999895  0.910501   \n",
       "Decision Tree Classifier     24.661468  0.911437   0.904345  0.920208   \n",
       "SVM - Linear kernel           5.659001  0.659017   0.651134  0.688506   \n",
       "Logistic Regression           4.363592  0.657740   0.653812  0.679421   \n",
       "Gaussian Naive Bayes          2.667754  0.539894   0.522067  0.943842   \n",
       "\n",
       "                          F1 Score   ROC AUC  \n",
       "Random Forest Classifier  0.955837  0.987129  \n",
       "CatBoost Classifier       0.953408  0.974777  \n",
       "XGBoost Classifier        0.953499  0.974496  \n",
       "LightGBM Classifier       0.953107  0.974194  \n",
       "Decision Tree Classifier  0.912207  0.911437  \n",
       "SVM - Linear kernel       0.668119  0.716906  \n",
       "Logistic Regression       0.663951  0.716781  \n",
       "Gaussian Naive Bayes      0.672277  0.553358  "
      ]
     },
     "execution_count": 12,
     "metadata": {},
     "output_type": "execute_result"
    }
   ],
   "source": [
    "compare_models(X_smote, y_smote, sort='ROC AUC')"
   ]
  },
  {
   "cell_type": "markdown",
   "id": "boolean-dylan",
   "metadata": {},
   "source": [
    "We will continue with:\n",
    "- Random Forest\n",
    "- CatBoost\n",
    "- Light GBM\n",
    "- XGBoost"
   ]
  },
  {
   "cell_type": "markdown",
   "id": "starting-import",
   "metadata": {},
   "source": [
    "## SMOTE issue"
   ]
  },
  {
   "cell_type": "markdown",
   "id": "veterinary-hampshire",
   "metadata": {},
   "source": [
    "### test set Creation"
   ]
  },
  {
   "cell_type": "markdown",
   "id": "major-joshua",
   "metadata": {},
   "source": [
    "Let's create 2 dataset:\n",
    "* one balanced\n",
    "* one imbalanced"
   ]
  },
  {
   "cell_type": "code",
   "execution_count": 222,
   "id": "dedicated-audio",
   "metadata": {
    "ExecuteTime": {
     "end_time": "2022-01-10T16:55:24.358212Z",
     "start_time": "2022-01-10T16:55:24.211932Z"
    }
   },
   "outputs": [],
   "source": [
    "X = app_train.drop(['SK_ID_CURR', 'EXT_SOURCE_1',\n",
    "                    'EXT_SOURCE_2', 'EXT_SOURCE_3','TARGET'], axis=1)\n",
    "y_train = app_train['TARGET']"
   ]
  },
  {
   "cell_type": "code",
   "execution_count": 236,
   "id": "headed-payroll",
   "metadata": {
    "ExecuteTime": {
     "end_time": "2022-01-10T16:58:27.864372Z",
     "start_time": "2022-01-10T16:58:27.858359Z"
    }
   },
   "outputs": [
    {
     "name": "stdout",
     "output_type": "stream",
     "text": [
      "0    282686\n",
      "1     24825\n",
      "Name: TARGET, dtype: int64\n",
      "minority classe 8.07%\n"
     ]
    }
   ],
   "source": [
    "print(y_train.value_counts())\n",
    "min_perc = y_train.value_counts()[1] / len(y_train)\n",
    "print(f'minority classe {min_perc:.2%}')"
   ]
  },
  {
   "cell_type": "code",
   "execution_count": 237,
   "id": "fluid-local",
   "metadata": {
    "ExecuteTime": {
     "end_time": "2022-01-10T16:58:29.483242Z",
     "start_time": "2022-01-10T16:58:29.306407Z"
    }
   },
   "outputs": [],
   "source": [
    "idx_0 = X[y_train == 0].index.to_list()\n",
    "idx_1 = X[y_train == 1].index.to_list()\n",
    "# Get the index to create the test set\n",
    "idx_imbal = idx_0[:9200] + idx_1[:800]\n",
    "idx_bal = idx_0[:5000] + idx_1[:5000]"
   ]
  },
  {
   "cell_type": "code",
   "execution_count": 238,
   "id": "centered-solid",
   "metadata": {
    "ExecuteTime": {
     "end_time": "2022-01-10T16:58:30.498156Z",
     "start_time": "2022-01-10T16:58:30.490155Z"
    }
   },
   "outputs": [
    {
     "name": "stdout",
     "output_type": "stream",
     "text": [
      "(10000, 117)\n"
     ]
    }
   ],
   "source": [
    "# Create the imbalanced test set\n",
    "X_test_imbal = X.loc[idx_imbal]\n",
    "y_test_imbal = y_train.loc[idx_imbal]\n",
    "print(X_test_imbal.shape)"
   ]
  },
  {
   "cell_type": "code",
   "execution_count": 239,
   "id": "geographic-czech",
   "metadata": {
    "ExecuteTime": {
     "end_time": "2022-01-10T16:58:31.669909Z",
     "start_time": "2022-01-10T16:58:31.658175Z"
    }
   },
   "outputs": [
    {
     "name": "stdout",
     "output_type": "stream",
     "text": [
      "(10000, 117)\n"
     ]
    }
   ],
   "source": [
    "# Create the balanced test set\n",
    "X_test_bal = X.loc[idx_bal]\n",
    "y_test_bal = y_train.loc[idx_bal]\n",
    "print(X_test_bal.shape)"
   ]
  },
  {
   "cell_type": "markdown",
   "id": "aging-james",
   "metadata": {},
   "source": [
    "### Results for a model without pipeline"
   ]
  },
  {
   "cell_type": "code",
   "execution_count": 251,
   "id": "multiple-preparation",
   "metadata": {
    "ExecuteTime": {
     "end_time": "2022-01-10T17:06:45.549454Z",
     "start_time": "2022-01-10T17:06:44.841878Z"
    }
   },
   "outputs": [],
   "source": [
    "# Get the categorical attributes\n",
    "cat_att = list(X.select_dtypes('object'))\n",
    "\n",
    "# Get the numerical attributes\n",
    "num_att = list(X.select_dtypes(['number']))\n",
    "ord_att = list(X[num_att].loc[:, X[num_att].nunique()<6])\n",
    "sparse_att = [c for c in num_att\n",
    "              if c not in ord_att\n",
    "              and (X[c]==0).sum() > 0.5*len(X)]\n",
    "dense_att = [c for c in num_att\n",
    "             if c not in ord_att\n",
    "             and c not in sparse_att]\n",
    "filtered_dense_att = list(X[dense_att]) + ['DAYS_EMPLOYED_ANOM']\n",
    "#filtered_dense_att = list(drop_na_att(X[dense_att])) + ['DAYS_EMPLOYED_ANOM']\n",
    "\n",
    "# Create a pipeline with an encoder\n",
    "# drop the first category in each feature with two categories (drop='if_binary')\n",
    "cat_pipeline = Pipeline([\n",
    "               #('filter', FunctionTransformer(drop_na_att)),               \n",
    "               ('imputer', FunctionTransformer(impute_cat_att)),\n",
    "               #('encoder', OneHotEncoder(drop='if_binary'))\n",
    "               ])\n",
    "\n",
    "# Pipeline to prepare numerical ordinal features\n",
    "ord_pipeline = Pipeline([\n",
    "               #('filter', FunctionTransformer(drop_na_att)),\n",
    "               ('imputer', SimpleImputer(strategy='most_frequent'))\n",
    "               ])\n",
    "\n",
    "# Pipeline to prepare sparse features with at least 6 distinct values\n",
    "sparse_pipeline = Pipeline([\n",
    "                  #('filter', FunctionTransformer(drop_na_att)),\n",
    "                  ('cleaner', FunctionTransformer(fix_sparse_anomalies)),\n",
    "                  ('imputer', SimpleImputer(strategy='most_frequent')),\n",
    "                  ('scaler', MaxAbsScaler())\n",
    "                  ])\n",
    "\n",
    "# Pipeline to prepare dense features with at least 6 distinct values\n",
    "dense_pipeline = Pipeline([\n",
    "                 #('filter', FunctionTransformer(drop_na_att)),\n",
    "                 ('cleaner', FunctionTransformer(fix_dense_anomalies)),\n",
    "                 ('imputer', SimpleImputer()),\n",
    "                 ('domain_adder', FunctionTransformer(add_domain_att,\n",
    "                                                      kw_args={'names': filtered_dense_att})),\n",
    "                 ('skew_transformer', FunctionTransformer(tr_skew_att)),\n",
    "                 ('scaler', StandardScaler())\n",
    "                 ])\n",
    "\n",
    "# Pipeline to prepare all data\n",
    "preparation = ColumnTransformer([\n",
    "              #('cat', cat_pipeline, cat_att),\n",
    "              ('ordinal', ord_pipeline, ord_att),\n",
    "              ('sparse', sparse_pipeline, sparse_att),\n",
    "              ('dense', dense_pipeline, dense_att)\n",
    "              ])"
   ]
  },
  {
   "cell_type": "code",
   "execution_count": 252,
   "id": "suffering-plenty",
   "metadata": {
    "ExecuteTime": {
     "end_time": "2022-01-10T17:06:52.763051Z",
     "start_time": "2022-01-10T17:06:47.536751Z"
    }
   },
   "outputs": [],
   "source": [
    "# Prepare data\n",
    "X_pr = preparation.fit_transform(X)\n",
    "X_test_bal_pr = preparation.transform(X_test_bal)\n",
    "X_test_imbal_pr = preparation.transform(X_test_imbal)"
   ]
  },
  {
   "cell_type": "code",
   "execution_count": 253,
   "id": "smoking-assets",
   "metadata": {
    "ExecuteTime": {
     "end_time": "2022-01-10T17:06:56.638763Z",
     "start_time": "2022-01-10T17:06:53.352616Z"
    }
   },
   "outputs": [],
   "source": [
    "# Create a model without SMOTE\n",
    "model_no_smote = LGBMClassifier(n_estimators=100,\n",
    "                                random_state=42)\n",
    "model_no_smote.fit(X_pr, y_train)\n",
    "y_bal_pred = model_no_smote.predict(X_test_bal_pr)\n",
    "y_imbal_pred = model_no_smote.predict(X_test_imbal_pr)\n",
    "y_bal_prob = model_no_smote.predict_proba(X_test_bal_pr)[:, 1]\n",
    "y_imbal_prob = model_no_smote.predict_proba(X_test_imbal_pr)[:, 1]"
   ]
  },
  {
   "cell_type": "code",
   "execution_count": 254,
   "id": "rubber-drilling",
   "metadata": {
    "ExecuteTime": {
     "end_time": "2022-01-10T17:06:56.644178Z",
     "start_time": "2022-01-10T17:06:56.640594Z"
    }
   },
   "outputs": [],
   "source": [
    "from sklearn.metrics import accuracy_score\n",
    "from sklearn.metrics import precision_score\n",
    "from sklearn.metrics import recall_score\n",
    "from sklearn.metrics import f1_score\n",
    "from sklearn.metrics import roc_auc_score\n",
    "\n",
    "def get_scores(y_true, y_pred, y_pred_prob):\n",
    "    scores = []\n",
    "    scores.append(accuracy_score(y_true, y_pred))\n",
    "    scores.append(precision_score(y_true, y_pred))\n",
    "    scores.append(recall_score(y_true, y_pred))\n",
    "    scores.append(f1_score(y_true, y_pred))\n",
    "    scores.append(roc_auc_score(y_true, y_pred_prob))\n",
    "    return scores"
   ]
  },
  {
   "cell_type": "code",
   "execution_count": 255,
   "id": "treated-excess",
   "metadata": {
    "ExecuteTime": {
     "end_time": "2022-01-10T17:06:57.900658Z",
     "start_time": "2022-01-10T17:06:57.881012Z"
    }
   },
   "outputs": [],
   "source": [
    "bal_scores_no_smote = get_scores(y_test_bal, y_bal_pred, y_bal_prob)\n",
    "imbal_scores_no_smote = get_scores(y_test_imbal, y_imbal_pred, y_imbal_prob)"
   ]
  },
  {
   "cell_type": "markdown",
   "id": "accredited-bishop",
   "metadata": {},
   "source": [
    "Let's try with SMOTE"
   ]
  },
  {
   "cell_type": "code",
   "execution_count": 256,
   "id": "suited-chicken",
   "metadata": {
    "ExecuteTime": {
     "end_time": "2022-01-10T17:07:16.967623Z",
     "start_time": "2022-01-10T17:07:00.289112Z"
    }
   },
   "outputs": [],
   "source": [
    "# train the model\n",
    "X_smote, y_smote = SMOTE(random_state=42).fit_resample(X_pr, y_train)\n",
    "model_smote = LGBMClassifier(n_estimators=100,\n",
    "                             random_state=42)\n",
    "model_smote.fit(X_smote, y_smote)\n",
    "# Get prediction\n",
    "y_bal_pred = model_smote.predict(X_test_bal_pr)\n",
    "y_imbal_pred = model_smote.predict(X_test_imbal_pr)\n",
    "y_bal_prob = model_smote.predict_proba(X_test_bal_pr)[:, 1]\n",
    "y_imbal_prob = model_smote.predict_proba(X_test_imbal_pr)[:, 1]\n",
    "# Get scores\n",
    "bal_scores_smote = get_scores(y_test_bal, y_bal_pred, y_bal_prob)\n",
    "imbal_scores_smote = get_scores(y_test_imbal, y_imbal_pred, y_imbal_prob)"
   ]
  },
  {
   "cell_type": "markdown",
   "id": "heard-accounting",
   "metadata": {},
   "source": [
    "### Results for a model with a pipeline"
   ]
  },
  {
   "cell_type": "code",
   "execution_count": 257,
   "id": "second-rainbow",
   "metadata": {
    "ExecuteTime": {
     "end_time": "2022-01-10T17:07:25.133785Z",
     "start_time": "2022-01-10T17:07:16.969181Z"
    }
   },
   "outputs": [],
   "source": [
    "import imblearn.pipeline as imbpipe\n",
    "\n",
    "# train a pipeline model without smote\n",
    "pipe_no_smote = imbpipe.Pipeline([\n",
    "                ('cleaning', preparation),\n",
    "                ('model', lgbm)\n",
    "                ])\n",
    "pipe_no_smote.fit(X, y_train)\n",
    "# Get prediction\n",
    "y_bal_pred = pipe_no_smote.predict(X_test_bal)\n",
    "y_imbal_pred = pipe_no_smote.predict(X_test_imbal)\n",
    "y_bal_prob = pipe_no_smote.predict_proba(X_test_bal)[:, 1]\n",
    "y_imbal_prob = pipe_no_smote.predict_proba(X_test_imbal)[:, 1]\n",
    "# Get scores\n",
    "bal_scores_pipe = get_scores(y_test_bal, y_bal_pred, y_bal_prob)\n",
    "imbal_scores_pipe = get_scores(y_test_imbal, y_imbal_pred, y_imbal_prob)"
   ]
  },
  {
   "cell_type": "code",
   "execution_count": 258,
   "id": "operational-teddy",
   "metadata": {
    "ExecuteTime": {
     "end_time": "2022-01-10T17:07:45.678119Z",
     "start_time": "2022-01-10T17:07:25.135727Z"
    }
   },
   "outputs": [],
   "source": [
    "# train a pipeline model with smote\n",
    "pipe_smote = imbpipe.Pipeline([\n",
    "             ('cleaning', preparation),\n",
    "             ('over', SMOTE(n_jobs=1, random_state=42)),\n",
    "             ('model', lgbm)\n",
    "             ])\n",
    "pipe_smote.fit(X, y_train)\n",
    "# Get prediction\n",
    "y_bal_pred = pipe_smote.predict(X_test_bal)\n",
    "y_imbal_pred = pipe_smote.predict(X_test_imbal)\n",
    "y_bal_prob = pipe_smote.predict_proba(X_test_bal)[:, 1]\n",
    "y_imbal_prob = pipe_smote.predict_proba(X_test_imbal)[:, 1]\n",
    "# Get scores\n",
    "bal_scores_pipe_smote = get_scores(y_test_bal, y_bal_pred, y_bal_prob)\n",
    "imbal_scores_pipe_smote = get_scores(y_test_imbal, y_imbal_pred, y_imbal_prob)"
   ]
  },
  {
   "cell_type": "code",
   "execution_count": 259,
   "id": "prompt-annex",
   "metadata": {
    "ExecuteTime": {
     "end_time": "2022-01-10T17:07:45.688302Z",
     "start_time": "2022-01-10T17:07:45.679607Z"
    }
   },
   "outputs": [
    {
     "data": {
      "text/html": [
       "<div>\n",
       "<style scoped>\n",
       "    .dataframe tbody tr th:only-of-type {\n",
       "        vertical-align: middle;\n",
       "    }\n",
       "\n",
       "    .dataframe tbody tr th {\n",
       "        vertical-align: top;\n",
       "    }\n",
       "\n",
       "    .dataframe thead th {\n",
       "        text-align: right;\n",
       "    }\n",
       "</style>\n",
       "<table border=\"1\" class=\"dataframe\">\n",
       "  <thead>\n",
       "    <tr style=\"text-align: right;\">\n",
       "      <th></th>\n",
       "      <th>Accuracy</th>\n",
       "      <th>Precision</th>\n",
       "      <th>Recall</th>\n",
       "      <th>F1 Score</th>\n",
       "      <th>ROC AUC</th>\n",
       "    </tr>\n",
       "  </thead>\n",
       "  <tbody>\n",
       "    <tr>\n",
       "      <th>Balanced</th>\n",
       "      <td>0.5004</td>\n",
       "      <td>1.00</td>\n",
       "      <td>0.0008</td>\n",
       "      <td>0.001599</td>\n",
       "      <td>0.757741</td>\n",
       "    </tr>\n",
       "    <tr>\n",
       "      <th>Imbalanced</th>\n",
       "      <td>0.9200</td>\n",
       "      <td>0.00</td>\n",
       "      <td>0.0000</td>\n",
       "      <td>0.000000</td>\n",
       "      <td>0.782552</td>\n",
       "    </tr>\n",
       "    <tr>\n",
       "      <th>Balanced_SMOTE</th>\n",
       "      <td>0.5004</td>\n",
       "      <td>0.75</td>\n",
       "      <td>0.0012</td>\n",
       "      <td>0.002396</td>\n",
       "      <td>0.707429</td>\n",
       "    </tr>\n",
       "    <tr>\n",
       "      <th>Imbalanced_SMOTE</th>\n",
       "      <td>0.9198</td>\n",
       "      <td>0.00</td>\n",
       "      <td>0.0000</td>\n",
       "      <td>0.000000</td>\n",
       "      <td>0.727598</td>\n",
       "    </tr>\n",
       "    <tr>\n",
       "      <th>Balanced_pipe</th>\n",
       "      <td>0.5004</td>\n",
       "      <td>1.00</td>\n",
       "      <td>0.0008</td>\n",
       "      <td>0.001599</td>\n",
       "      <td>0.757741</td>\n",
       "    </tr>\n",
       "    <tr>\n",
       "      <th>Imbalanced_pipe</th>\n",
       "      <td>0.9200</td>\n",
       "      <td>0.00</td>\n",
       "      <td>0.0000</td>\n",
       "      <td>0.000000</td>\n",
       "      <td>0.782552</td>\n",
       "    </tr>\n",
       "    <tr>\n",
       "      <th>Balanced_pipe_SMOTE</th>\n",
       "      <td>0.5004</td>\n",
       "      <td>0.75</td>\n",
       "      <td>0.0012</td>\n",
       "      <td>0.002396</td>\n",
       "      <td>0.707429</td>\n",
       "    </tr>\n",
       "    <tr>\n",
       "      <th>Imbalanced_pipe_SMOTE</th>\n",
       "      <td>0.9198</td>\n",
       "      <td>0.00</td>\n",
       "      <td>0.0000</td>\n",
       "      <td>0.000000</td>\n",
       "      <td>0.727598</td>\n",
       "    </tr>\n",
       "  </tbody>\n",
       "</table>\n",
       "</div>"
      ],
      "text/plain": [
       "                       Accuracy  Precision  Recall  F1 Score   ROC AUC\n",
       "Balanced                 0.5004       1.00  0.0008  0.001599  0.757741\n",
       "Imbalanced               0.9200       0.00  0.0000  0.000000  0.782552\n",
       "Balanced_SMOTE           0.5004       0.75  0.0012  0.002396  0.707429\n",
       "Imbalanced_SMOTE         0.9198       0.00  0.0000  0.000000  0.727598\n",
       "Balanced_pipe            0.5004       1.00  0.0008  0.001599  0.757741\n",
       "Imbalanced_pipe          0.9200       0.00  0.0000  0.000000  0.782552\n",
       "Balanced_pipe_SMOTE      0.5004       0.75  0.0012  0.002396  0.707429\n",
       "Imbalanced_pipe_SMOTE    0.9198       0.00  0.0000  0.000000  0.727598"
      ]
     },
     "execution_count": 259,
     "metadata": {},
     "output_type": "execute_result"
    }
   ],
   "source": [
    "# Display the scores in a DataFrame\n",
    "columns = ['Accuracy', 'Precision', 'Recall', 'F1 Score', 'ROC AUC']\n",
    "index = ['Balanced', 'Imbalanced',\n",
    "         'Balanced_SMOTE', 'Imbalanced_SMOTE',\n",
    "         'Balanced_pipe', 'Imbalanced_pipe',\n",
    "         'Balanced_pipe_SMOTE', 'Imbalanced_pipe_SMOTE']\n",
    "scores = np.array([bal_scores_no_smote, imbal_scores_no_smote,\n",
    "                   bal_scores_smote, imbal_scores_smote,\n",
    "                   bal_scores_pipe, imbal_scores_pipe,\n",
    "                   bal_scores_pipe_smote, imbal_scores_pipe_smote])\n",
    "pd.DataFrame(scores, columns=columns, index=index)"
   ]
  },
  {
   "cell_type": "code",
   "execution_count": null,
   "id": "informal-shanghai",
   "metadata": {},
   "outputs": [],
   "source": []
  },
  {
   "cell_type": "code",
   "execution_count": 122,
   "id": "distant-cycling",
   "metadata": {
    "ExecuteTime": {
     "end_time": "2022-01-10T14:02:00.943947Z",
     "start_time": "2022-01-10T14:01:48.835853Z"
    }
   },
   "outputs": [
    {
     "data": {
      "text/html": [
       "<div>\n",
       "<style scoped>\n",
       "    .dataframe tbody tr th:only-of-type {\n",
       "        vertical-align: middle;\n",
       "    }\n",
       "\n",
       "    .dataframe tbody tr th {\n",
       "        vertical-align: top;\n",
       "    }\n",
       "\n",
       "    .dataframe thead th {\n",
       "        text-align: right;\n",
       "    }\n",
       "</style>\n",
       "<table border=\"1\" class=\"dataframe\">\n",
       "  <thead>\n",
       "    <tr style=\"text-align: right;\">\n",
       "      <th></th>\n",
       "      <th>fit time (s)</th>\n",
       "      <th>ROC AUC</th>\n",
       "      <th>CV ROC AUC</th>\n",
       "    </tr>\n",
       "  </thead>\n",
       "  <tbody>\n",
       "    <tr>\n",
       "      <th>no_smote_no_pipe</th>\n",
       "      <td>1.310657</td>\n",
       "      <td>0.755679</td>\n",
       "      <td>0.713937</td>\n",
       "    </tr>\n",
       "  </tbody>\n",
       "</table>\n",
       "</div>"
      ],
      "text/plain": [
       "                  fit time (s)   ROC AUC  CV ROC AUC\n",
       "no_smote_no_pipe      1.310657  0.755679    0.713937"
      ]
     },
     "execution_count": 122,
     "metadata": {},
     "output_type": "execute_result"
    }
   ],
   "source": [
    "from sklearn.model_selection import cross_val_predict\n",
    "from sklearn.metrics import roc_auc_score\n",
    "from lightgbm import LGBMClassifier\n",
    "\n",
    "cv = StratifiedKFold(5, shuffle=True, random_state=42)\n",
    "lgbm = LGBMClassifier(n_estimators=100,\n",
    "                      random_state=42)\n",
    "\n",
    "t0 = time.time()\n",
    "lgbm.fit(X_train, y_train)\n",
    "t1 = time.time()\n",
    "y_pred = lgbm.predict_proba(X_train)\n",
    "y_pred_cv = cross_val_predict(lgbm, X_train, y_train, cv=cv, n_jobs=-1,\n",
    "                              method=\"predict_proba\")\n",
    "\n",
    "time_fit = t1 - t0\n",
    "score = roc_auc_score(y_train, y_pred[:, 1])\n",
    "cv_score = roc_auc_score(y_train, y_pred_cv[:, 1])\n",
    "\n",
    "pd.DataFrame(np.array([time_fit, score, cv_score]).reshape(1, -1),\n",
    "             columns=['fit time (s)', 'ROC AUC', 'CV ROC AUC'],\n",
    "             index=[\"no_smote_no_pipe\"])"
   ]
  },
  {
   "cell_type": "code",
   "execution_count": 91,
   "id": "crucial-sterling",
   "metadata": {
    "ExecuteTime": {
     "end_time": "2022-01-07T14:02:03.232459Z",
     "start_time": "2022-01-07T14:01:42.265452Z"
    }
   },
   "outputs": [
    {
     "data": {
      "text/html": [
       "<div>\n",
       "<style scoped>\n",
       "    .dataframe tbody tr th:only-of-type {\n",
       "        vertical-align: middle;\n",
       "    }\n",
       "\n",
       "    .dataframe tbody tr th {\n",
       "        vertical-align: top;\n",
       "    }\n",
       "\n",
       "    .dataframe thead th {\n",
       "        text-align: right;\n",
       "    }\n",
       "</style>\n",
       "<table border=\"1\" class=\"dataframe\">\n",
       "  <thead>\n",
       "    <tr style=\"text-align: right;\">\n",
       "      <th></th>\n",
       "      <th>fit time (s)</th>\n",
       "      <th>ROC AUC</th>\n",
       "      <th>CV ROC AUC</th>\n",
       "    </tr>\n",
       "  </thead>\n",
       "  <tbody>\n",
       "    <tr>\n",
       "      <th>no_smote_imblearn_pipe</th>\n",
       "      <td>5.55989</td>\n",
       "      <td>0.755679</td>\n",
       "      <td>0.714048</td>\n",
       "    </tr>\n",
       "  </tbody>\n",
       "</table>\n",
       "</div>"
      ],
      "text/plain": [
       "                        fit time (s)   ROC AUC  CV ROC AUC\n",
       "no_smote_imblearn_pipe       5.55989  0.755679    0.714048"
      ]
     },
     "execution_count": 91,
     "metadata": {},
     "output_type": "execute_result"
    }
   ],
   "source": [
    "import imblearn.pipeline as imbpipe\n",
    "\n",
    "imb_pipe = imbpipe.Pipeline([\n",
    "           ('cleaning', full_pipeline),\n",
    "           ('model', lgbm)\n",
    "           ])\n",
    "\n",
    "t0 = time.time()\n",
    "imb_pipe.fit(X, y_train)\n",
    "t1 = time.time()\n",
    "y_pred = imb_pipe.predict_proba(X)\n",
    "y_pred_cv = cross_val_predict(imb_pipe, X, y_train, cv=cv, n_jobs=-1,\n",
    "                              method=\"predict_proba\")\n",
    "\n",
    "time_fit = t1 - t0\n",
    "score = roc_auc_score(y_train, y_pred[:, 1])\n",
    "cv_score = roc_auc_score(y_train, y_pred_cv[:, 1])\n",
    "\n",
    "pd.DataFrame(np.array([time_fit, score, cv_score]).reshape(1, -1),\n",
    "             columns=['fit time (s)', 'ROC AUC', 'CV ROC AUC'],\n",
    "             index=[\"no_smote_imblearn_pipe\"])"
   ]
  },
  {
   "cell_type": "code",
   "execution_count": 93,
   "id": "controlling-thirty",
   "metadata": {
    "ExecuteTime": {
     "end_time": "2022-01-07T14:03:14.861351Z",
     "start_time": "2022-01-07T14:02:54.956703Z"
    }
   },
   "outputs": [
    {
     "data": {
      "text/html": [
       "<div>\n",
       "<style scoped>\n",
       "    .dataframe tbody tr th:only-of-type {\n",
       "        vertical-align: middle;\n",
       "    }\n",
       "\n",
       "    .dataframe tbody tr th {\n",
       "        vertical-align: top;\n",
       "    }\n",
       "\n",
       "    .dataframe thead th {\n",
       "        text-align: right;\n",
       "    }\n",
       "</style>\n",
       "<table border=\"1\" class=\"dataframe\">\n",
       "  <thead>\n",
       "    <tr style=\"text-align: right;\">\n",
       "      <th></th>\n",
       "      <th>fit time (s)</th>\n",
       "      <th>ROC AUC</th>\n",
       "      <th>CV ROC AUC</th>\n",
       "    </tr>\n",
       "  </thead>\n",
       "  <tbody>\n",
       "    <tr>\n",
       "      <th>no_smote_sklearn_pipe</th>\n",
       "      <td>4.902412</td>\n",
       "      <td>0.755679</td>\n",
       "      <td>0.714048</td>\n",
       "    </tr>\n",
       "  </tbody>\n",
       "</table>\n",
       "</div>"
      ],
      "text/plain": [
       "                       fit time (s)   ROC AUC  CV ROC AUC\n",
       "no_smote_sklearn_pipe      4.902412  0.755679    0.714048"
      ]
     },
     "execution_count": 93,
     "metadata": {},
     "output_type": "execute_result"
    }
   ],
   "source": [
    "from sklearn.pipeline import Pipeline\n",
    "\n",
    "sk_pipe = Pipeline([\n",
    "          ('cleaning', full_pipeline),\n",
    "          ('model', lgbm)\n",
    "          ])\n",
    "\n",
    "t0 = time.time()\n",
    "sk_pipe.fit(X, y_train)\n",
    "t1 = time.time()\n",
    "y_pred = sk_pipe.predict_proba(X)\n",
    "y_pred_cv = cross_val_predict(sk_pipe, X, y_train, cv=cv, n_jobs=-1,\n",
    "                              method=\"predict_proba\")\n",
    "\n",
    "time_fit = t1 - t0\n",
    "score = roc_auc_score(y_train, y_pred[:, 1])\n",
    "cv_score = roc_auc_score(y_train, y_pred_cv[:, 1])\n",
    "\n",
    "pd.DataFrame(np.array([time_fit, score, cv_score]).reshape(1, -1),\n",
    "             columns=['fit time (s)', 'ROC AUC', 'CV ROC AUC'],\n",
    "             index=[\"no_smote_sklearn_pipe\"])"
   ]
  },
  {
   "cell_type": "code",
   "execution_count": 95,
   "id": "valued-differential",
   "metadata": {
    "ExecuteTime": {
     "end_time": "2022-01-07T14:05:21.951456Z",
     "start_time": "2022-01-07T14:04:51.059729Z"
    }
   },
   "outputs": [
    {
     "data": {
      "text/html": [
       "<div>\n",
       "<style scoped>\n",
       "    .dataframe tbody tr th:only-of-type {\n",
       "        vertical-align: middle;\n",
       "    }\n",
       "\n",
       "    .dataframe tbody tr th {\n",
       "        vertical-align: top;\n",
       "    }\n",
       "\n",
       "    .dataframe thead th {\n",
       "        text-align: right;\n",
       "    }\n",
       "</style>\n",
       "<table border=\"1\" class=\"dataframe\">\n",
       "  <thead>\n",
       "    <tr style=\"text-align: right;\">\n",
       "      <th></th>\n",
       "      <th>fit time (s)</th>\n",
       "      <th>ROC AUC</th>\n",
       "      <th>CV ROC AUC</th>\n",
       "    </tr>\n",
       "  </thead>\n",
       "  <tbody>\n",
       "    <tr>\n",
       "      <th>smote_no_pipe</th>\n",
       "      <td>4.298799</td>\n",
       "      <td>0.720385</td>\n",
       "      <td>0.974202</td>\n",
       "    </tr>\n",
       "  </tbody>\n",
       "</table>\n",
       "</div>"
      ],
      "text/plain": [
       "               fit time (s)   ROC AUC  CV ROC AUC\n",
       "smote_no_pipe      4.298799  0.720385    0.974202"
      ]
     },
     "execution_count": 95,
     "metadata": {},
     "output_type": "execute_result"
    }
   ],
   "source": [
    "from imblearn.over_sampling import SMOTE\n",
    "\n",
    "X_smote, y_smote = SMOTE(random_state=42).fit_resample(X_train, y_train)\n",
    "\n",
    "t0 = time.time()\n",
    "lgbm.fit(X_smote, y_smote)\n",
    "t1 = time.time()\n",
    "y_pred = lgbm.predict_proba(X_train)\n",
    "y_pred_cv = cross_val_predict(lgbm, X_smote, y_smote, cv=cv, n_jobs=-1,\n",
    "                              method=\"predict_proba\")\n",
    "\n",
    "time_fit = t1 - t0\n",
    "score = roc_auc_score(y_train, y_pred[:, 1])\n",
    "cv_score = roc_auc_score(y_smote, y_pred_cv[:, 1])\n",
    "\n",
    "pd.DataFrame(np.array([time_fit, score, cv_score]).reshape(1, -1),\n",
    "             columns=['fit time (s)', 'ROC AUC', 'CV ROC AUC'],\n",
    "             index=[\"smote_no_pipe\"])"
   ]
  },
  {
   "cell_type": "code",
   "execution_count": 96,
   "id": "elementary-pattern",
   "metadata": {
    "ExecuteTime": {
     "end_time": "2022-01-07T14:06:20.489676Z",
     "start_time": "2022-01-07T14:05:25.562677Z"
    }
   },
   "outputs": [
    {
     "data": {
      "text/html": [
       "<div>\n",
       "<style scoped>\n",
       "    .dataframe tbody tr th:only-of-type {\n",
       "        vertical-align: middle;\n",
       "    }\n",
       "\n",
       "    .dataframe tbody tr th {\n",
       "        vertical-align: top;\n",
       "    }\n",
       "\n",
       "    .dataframe thead th {\n",
       "        text-align: right;\n",
       "    }\n",
       "</style>\n",
       "<table border=\"1\" class=\"dataframe\">\n",
       "  <thead>\n",
       "    <tr style=\"text-align: right;\">\n",
       "      <th></th>\n",
       "      <th>fit time (s)</th>\n",
       "      <th>ROC AUC</th>\n",
       "      <th>CV ROC AUC</th>\n",
       "    </tr>\n",
       "  </thead>\n",
       "  <tbody>\n",
       "    <tr>\n",
       "      <th>smote_imblearn_pipe</th>\n",
       "      <td>16.430366</td>\n",
       "      <td>0.720385</td>\n",
       "      <td>0.703612</td>\n",
       "    </tr>\n",
       "  </tbody>\n",
       "</table>\n",
       "</div>"
      ],
      "text/plain": [
       "                     fit time (s)   ROC AUC  CV ROC AUC\n",
       "smote_imblearn_pipe     16.430366  0.720385    0.703612"
      ]
     },
     "execution_count": 96,
     "metadata": {},
     "output_type": "execute_result"
    }
   ],
   "source": [
    "imb_pipe = imbpipe.Pipeline([\n",
    "           ('cleaning', full_pipeline),\n",
    "           ('over', SMOTE(n_jobs=1, random_state=42)),\n",
    "           ('model', lgbm)\n",
    "           ])\n",
    "\n",
    "t0 = time.time()\n",
    "imb_pipe.fit(X, y_train)\n",
    "t1 = time.time()\n",
    "y_pred = imb_pipe.predict_proba(X)\n",
    "y_pred_cv = cross_val_predict(imb_pipe, X, y_train, cv=cv, n_jobs=-1,\n",
    "                              method=\"predict_proba\")\n",
    "\n",
    "time_fit = t1 - t0\n",
    "score = roc_auc_score(y_train, y_pred[:, 1])\n",
    "cv_score = roc_auc_score(y_train, y_pred_cv[:, 1])\n",
    "\n",
    "pd.DataFrame(np.array([time_fit, score, cv_score.mean()]).reshape(1, -1),\n",
    "             columns=['fit time (s)', 'ROC AUC', 'CV ROC AUC'],\n",
    "\n",
    "             index=[\"smote_imblearn_pipe\"])"
   ]
  },
  {
   "cell_type": "markdown",
   "id": "european-apple",
   "metadata": {},
   "source": [
    "Surprisingly, results are better without oversampling.\n",
    "\n",
    "In the SMOTE paper, it is mentionned that SMOTE performs better when combined with undersampling of the majority class. Let's add, after the oversampling, a random undersampling step in our pipeline."
   ]
  },
  {
   "cell_type": "code",
   "execution_count": 109,
   "id": "valuable-rabbit",
   "metadata": {
    "ExecuteTime": {
     "end_time": "2022-01-10T12:38:36.113036Z",
     "start_time": "2022-01-10T12:26:33.642841Z"
    }
   },
   "outputs": [
    {
     "name": "stdout",
     "output_type": "stream",
     "text": [
      "\n",
      "{'over__sampling_strategy': 0.4, 'under__sampling_strategy': 0.4}\n"
     ]
    },
    {
     "data": {
      "text/html": [
       "<div>\n",
       "<style scoped>\n",
       "    .dataframe tbody tr th:only-of-type {\n",
       "        vertical-align: middle;\n",
       "    }\n",
       "\n",
       "    .dataframe tbody tr th {\n",
       "        vertical-align: top;\n",
       "    }\n",
       "\n",
       "    .dataframe thead th {\n",
       "        text-align: right;\n",
       "    }\n",
       "</style>\n",
       "<table border=\"1\" class=\"dataframe\">\n",
       "  <thead>\n",
       "    <tr style=\"text-align: right;\">\n",
       "      <th></th>\n",
       "      <th>fit time (s)</th>\n",
       "      <th>ROC AUC</th>\n",
       "      <th>CV ROC AUC</th>\n",
       "    </tr>\n",
       "  </thead>\n",
       "  <tbody>\n",
       "    <tr>\n",
       "      <th>smote_under_pipe</th>\n",
       "      <td>16.557154</td>\n",
       "      <td>0.731421</td>\n",
       "      <td>0.709923</td>\n",
       "    </tr>\n",
       "  </tbody>\n",
       "</table>\n",
       "</div>"
      ],
      "text/plain": [
       "                  fit time (s)   ROC AUC  CV ROC AUC\n",
       "smote_under_pipe     16.557154  0.731421    0.709923"
      ]
     },
     "execution_count": 109,
     "metadata": {},
     "output_type": "execute_result"
    }
   ],
   "source": [
    "from sklearn.model_selection import GridSearchCV\n",
    "from imblearn.under_sampling import RandomUnderSampler\n",
    "\n",
    "\n",
    "# Iclude an undersampling step into the pipeline\n",
    "smote_pipe = imbpipe.Pipeline([\n",
    "             ('cleaning', full_pipeline),\n",
    "             ('over', SMOTE(n_jobs=1, random_state=42)),  \n",
    "             ('under', RandomUnderSampler(random_state=42)),\n",
    "             ('model', lgbm)\n",
    "             ])\n",
    "\n",
    "# Fine-tune the sampling strategy of both\n",
    "# under and over-sampling\n",
    "param_grid = [{'over__sampling_strategy': [.1],\n",
    "               'under__sampling_strategy': np.linspace(.1, .5, 5)\n",
    "             },\n",
    "             {'over__sampling_strategy': [.2],\n",
    "              'under__sampling_strategy': np.linspace(.2, .6, 5)\n",
    "             },\n",
    "             {'over__sampling_strategy': [.3],\n",
    "              'under__sampling_strategy': np.linspace(.3, .7, 5)\n",
    "             },\n",
    "             {'over__sampling_strategy': [.4],\n",
    "              'under__sampling_strategy': np.linspace(.4, .8, 5)\n",
    "             },\n",
    "             {'over__sampling_strategy': [.5],\n",
    "              'under__sampling_strategy': np.linspace(.5, .9, 5)\n",
    "             }]\n",
    "              \n",
    "grid_search = GridSearchCV(smote_pipe, param_grid,\n",
    "                                  cv=cv, n_jobs=-1)\n",
    "grid_search.fit(X, y_train)\n",
    "print()\n",
    "smote_pipe = grid_search.best_estimator_\n",
    "print(grid_search.best_params_)\n",
    "              \n",
    "# Display the model results\n",
    "t0 = time.time()\n",
    "smote_pipe.fit(X, y_train)\n",
    "t1 = time.time()\n",
    "y_pred = smote_pipe.predict_proba(X)\n",
    "y_pred_cv = cross_val_predict(smote_pipe, X, y_train, cv=cv, n_jobs=-1,\n",
    "                              method=\"predict_proba\")\n",
    "\n",
    "time_fit = t1 - t0\n",
    "score = roc_auc_score(y_train, y_pred[:, 1])\n",
    "cv_score = roc_auc_score(y_train, y_pred_cv[:, 1])\n",
    "\n",
    "pd.DataFrame(np.array([time_fit, score, cv_score.mean()]).reshape(1, -1),\n",
    "             columns=['fit time (s)', 'ROC AUC', 'CV ROC AUC'],\n",
    "\n",
    "             index=[\"smote_under_pipe\"])              "
   ]
  },
  {
   "cell_type": "markdown",
   "id": "approved-maine",
   "metadata": {},
   "source": [
    "## Improve the promising models"
   ]
  },
  {
   "cell_type": "markdown",
   "id": "phantom-centre",
   "metadata": {},
   "source": [
    "### Test the asumptions made for data cleaning."
   ]
  },
  {
   "cell_type": "markdown",
   "id": "damaged-pilot",
   "metadata": {},
   "source": [
    "To test these asumptions, we will use a grid search with the LightGBM algorithm, given that it is the fastest to train."
   ]
  },
  {
   "cell_type": "code",
   "execution_count": 113,
   "id": "configured-alexandria",
   "metadata": {
    "ExecuteTime": {
     "end_time": "2022-01-10T12:43:28.148330Z",
     "start_time": "2022-01-10T12:42:36.860483Z"
    }
   },
   "outputs": [
    {
     "name": "stdout",
     "output_type": "stream",
     "text": [
      "{'cleaning__cat__filter__kw_args': {'na_threshold': 0.2}, 'cleaning__cat__imputer__kw_args': {'na_threshold': 0.2}, 'cleaning__dense__filter__kw_args': {'na_threshold': 0.2}, 'cleaning__ordinal__filter__kw_args': {'na_threshold': 0.2}, 'cleaning__sparse__filter__kw_args': {'na_threshold': 0.2}}\n"
     ]
    }
   ],
   "source": [
    "from lightgbm import LGBMClassifier\n",
    "import imblearn.pipeline as imbpipe\n",
    "\n",
    "pipeline = imbpipe.Pipeline([\n",
    "           ('cleaning', full_pipeline),\n",
    "           #('over', SMOTE(n_jobs=1, random_state=42)),  \n",
    "           #('under', RandomUnderSampler(random_state=42)),\n",
    "          ('model', lgbm)\n",
    "          ])\n",
    "\n",
    "# get the best threshold to filter features\n",
    "param_grid = [{'cleaning__cat__filter__kw_args': [{'na_threshold':.2}],\n",
    "               'cleaning__cat__imputer__kw_args':[{'na_threshold':.2}],\n",
    "               'cleaning__ordinal__filter__kw_args': [{'na_threshold':.2}],\n",
    "               'cleaning__sparse__filter__kw_args': [{'na_threshold':.2}],\n",
    "               'cleaning__dense__filter__kw_args': [{'na_threshold':.2}]\n",
    "              },\n",
    "              {'cleaning__cat__filter__kw_args': [{'na_threshold':.3}],\n",
    "               'cleaning__cat__imputer__kw_args':[{'na_threshold':.3}],\n",
    "               'cleaning__ordinal__filter__kw_args': [{'na_threshold':.3}],\n",
    "               'cleaning__sparse__filter__kw_args': [{'na_threshold':.3}],\n",
    "               'cleaning__dense__filter__kw_args': [{'na_threshold':.3}]\n",
    "              },\n",
    "              {'cleaning__cat__filter__kw_args': [{'na_threshold':.4}],\n",
    "               'cleaning__cat__imputer__kw_args':[{'na_threshold':.4}],\n",
    "               'cleaning__ordinal__filter__kw_args': [{'na_threshold':.4}],\n",
    "               'cleaning__sparse__filter__kw_args': [{'na_threshold':.4}],\n",
    "               'cleaning__dense__filter__kw_args': [{'na_threshold':.4}]\n",
    "              },\n",
    "              {'cleaning__cat__filter__kw_args': [{'na_threshold':.5}],\n",
    "               'cleaning__cat__imputer__kw_args':[{'na_threshold':.5}],\n",
    "               'cleaning__ordinal__filter__kw_args': [{'na_threshold':.5}],\n",
    "               'cleaning__sparse__filter__kw_args': [{'na_threshold':.5}],\n",
    "               'cleaning__dense__filter__kw_args': [{'na_threshold':.5}]\n",
    "              }]\n",
    "\n",
    "grid_search = GridSearchCV(pipeline, param_grid,\n",
    "                           scoring='roc_auc', cv=cv, n_jobs=-1)\n",
    "grid_search.fit(X, y_train)\n",
    "pipeline = grid_search.best_estimator_\n",
    "print(grid_search.best_params_)"
   ]
  },
  {
   "cell_type": "markdown",
   "id": "biological-module",
   "metadata": {},
   "source": [
    "The results are better if we drop all features with at least 20% of no values. Let's change the threshold."
   ]
  },
  {
   "cell_type": "code",
   "execution_count": 114,
   "id": "irish-puppy",
   "metadata": {
    "ExecuteTime": {
     "end_time": "2022-01-10T12:44:27.176085Z",
     "start_time": "2022-01-10T12:43:28.150261Z"
    },
    "scrolled": false
   },
   "outputs": [
    {
     "name": "stdout",
     "output_type": "stream",
     "text": [
      "{'cleaning__dense__domain_adder__kw_args': {'add_domain_features': True, 'names': ['AMT_INCOME_TOTAL', 'AMT_CREDIT', 'AMT_ANNUITY', 'AMT_GOODS_PRICE', 'REGION_POPULATION_RELATIVE', 'DAYS_BIRTH', 'DAYS_EMPLOYED', 'DAYS_REGISTRATION', 'DAYS_ID_PUBLISH', 'CNT_FAM_MEMBERS', 'HOUR_APPR_PROCESS_START', 'DAYS_LAST_PHONE_CHANGE', 'AMT_REQ_CREDIT_BUREAU_YEAR', 'DAYS_EMPLOYED_ANOM']}, 'cleaning__dense__skew_transformer__kw_args': {'log': False}}\n"
     ]
    }
   ],
   "source": [
    "na_threshold = pipeline.get_params()['cleaning__cat__filter__kw_args']['na_threshold']\n",
    "filtered_dense_att = list(drop_na_att(X[dense_att], na_threshold)) + ['DAYS_EMPLOYED_ANOM']\n",
    "\n",
    "# Check all feature engineering steps\n",
    "param_grid = [{'cleaning__dense__domain_adder__kw_args': [{'add_domain_features': True,\n",
    "                                                           'names': filtered_dense_att},\n",
    "                                                          {'add_domain_features': False,\n",
    "                                                           'names': filtered_dense_att}],\n",
    "               'cleaning__dense__skew_transformer__kw_args': [{'log': True},\n",
    "                                                              {'log': False}]\n",
    "              }]\n",
    "grid_search = GridSearchCV(pipeline, param_grid,\n",
    "                           scoring='roc_auc', cv=cv, n_jobs=-1)\n",
    "grid_search.fit(X, y_train)\n",
    "pipeline = grid_search.best_estimator_\n",
    "print(grid_search.best_params_)"
   ]
  },
  {
   "cell_type": "markdown",
   "id": "available-candle",
   "metadata": {},
   "source": [
    "### Feature Selection"
   ]
  },
  {
   "cell_type": "markdown",
   "id": "introductory-monte",
   "metadata": {},
   "source": [
    "Our objective is not to get the best model, but a good one with results easy to explain. Our dataset has 171 features, it is too much to hope understanding the models results clearly, we must reduce them. In most cases, reducing the number of features leads to poorer results.  \n",
    "Let's find a good features number to keep. By good we mean a number which massively decrease the features with a minimum impact on the results. The features will be selected with the `feature_importances` attibute of the Random Forest algorithm."
   ]
  },
  {
   "cell_type": "code",
   "execution_count": 118,
   "id": "consistent-comment",
   "metadata": {
    "ExecuteTime": {
     "end_time": "2022-01-10T13:00:36.348995Z",
     "start_time": "2022-01-10T12:58:25.260130Z"
    }
   },
   "outputs": [
    {
     "name": "stdout",
     "output_type": "stream",
     "text": [
      "166 features: 0.714\n"
     ]
    },
    {
     "data": {
      "image/png": "[encoded data removed]",
      "text/plain": [
       "<Figure size 432x288 with 1 Axes>"
      ]
     },
     "metadata": {},
     "output_type": "display_data"
    }
   ],
   "source": [
    "from sklearn.model_selection import cross_val_score\n",
    "from sklearn.feature_selection import SelectFromModel\n",
    "\n",
    "# ROC AUC score with all features\n",
    "score = cross_val_score(lgbm, X_train, y_train, scoring='roc_auc',\n",
    "                        cv=cv, n_jobs=-1)\n",
    "print(f\"{X_smote.shape[1]} features: {score.mean():.3}\")\n",
    "# Select the top 100 features\n",
    "sfm_scores = []\n",
    "sfm = SelectFromModel(lgbm, threshold=-np.inf, max_features=100)\n",
    "X_sfm = sfm.fit_transform(X_train, y_train)\n",
    "score = cross_val_score(lgbm, X_sfm, y_train,\n",
    "                            scoring='roc_auc',\n",
    "                            cv=cv, n_jobs=-1)\n",
    "sfm_scores.append(score.mean())\n",
    "# Test different numbers of features from 50 to 100\n",
    "for i in range(95, 5, -5):\n",
    "    sfm = SelectFromModel(lgbm, threshold=-np.inf, max_features=i)\n",
    "    X_sfm = sfm.fit_transform(X_sfm, y_train)\n",
    "    score = cross_val_score(lgbm, X_sfm, y_train,\n",
    "                            scoring='roc_auc',\n",
    "                            cv=cv, n_jobs=-1)\n",
    "    sfm_scores.append(score.mean())\n",
    "# Plot the results\n",
    "plt.plot(np.arange(10, 105, 5), sfm_scores[::-1])\n",
    "plt.xlabel(\"N features\")\n",
    "plt.ylabel(\"ROC AUC\") \n",
    "plt.show()  "
   ]
  },
  {
   "cell_type": "markdown",
   "id": "juvenile-footage",
   "metadata": {},
   "source": [
    "We may notice that the model performance is not impacted until 45 features. We will keep then only 45 features."
   ]
  },
  {
   "cell_type": "code",
   "execution_count": 119,
   "id": "increasing-scheduling",
   "metadata": {
    "ExecuteTime": {
     "end_time": "2022-01-10T13:03:07.651120Z",
     "start_time": "2022-01-10T13:03:07.648621Z"
    }
   },
   "outputs": [],
   "source": [
    "selector = SelectFromModel(lgbm, threshold=-np.inf, max_features=45)\n",
    "\n",
    "pipeline = imbpipe.Pipeline([\n",
    "           ('cleaning', full_pipeline),\n",
    "           #('over', SMOTE(n_jobs=1, random_state=42)),  \n",
    "           #('under', RandomUnderSampler(random_state=42)),\n",
    "           ('feature_selection', selector),\n",
    "           ('model', lgbm)\n",
    "           ])"
   ]
  },
  {
   "cell_type": "code",
   "execution_count": 120,
   "id": "first-belarus",
   "metadata": {
    "ExecuteTime": {
     "end_time": "2022-01-10T13:04:40.533240Z",
     "start_time": "2022-01-10T13:04:10.064945Z"
    }
   },
   "outputs": [
    {
     "data": {
      "text/html": [
       "<div>\n",
       "<style scoped>\n",
       "    .dataframe tbody tr th:only-of-type {\n",
       "        vertical-align: middle;\n",
       "    }\n",
       "\n",
       "    .dataframe tbody tr th {\n",
       "        vertical-align: top;\n",
       "    }\n",
       "\n",
       "    .dataframe thead th {\n",
       "        text-align: right;\n",
       "    }\n",
       "</style>\n",
       "<table border=\"1\" class=\"dataframe\">\n",
       "  <thead>\n",
       "    <tr style=\"text-align: right;\">\n",
       "      <th></th>\n",
       "      <th>fit time (s)</th>\n",
       "      <th>ROC AUC</th>\n",
       "      <th>CV ROC AUC</th>\n",
       "    </tr>\n",
       "  </thead>\n",
       "  <tbody>\n",
       "    <tr>\n",
       "      <th>0</th>\n",
       "      <td>8.577048</td>\n",
       "      <td>0.753885</td>\n",
       "      <td>0.713615</td>\n",
       "    </tr>\n",
       "  </tbody>\n",
       "</table>\n",
       "</div>"
      ],
      "text/plain": [
       "   fit time (s)   ROC AUC  CV ROC AUC\n",
       "0      8.577048  0.753885    0.713615"
      ]
     },
     "execution_count": 120,
     "metadata": {},
     "output_type": "execute_result"
    }
   ],
   "source": [
    "# Display the model results\n",
    "t0 = time.time()\n",
    "pipeline.fit(X, y_train)\n",
    "t1 = time.time()\n",
    "y_pred = pipeline.predict_proba(X)\n",
    "y_pred_cv = cross_val_predict(pipeline, X, y_train, cv=cv, n_jobs=-1,\n",
    "                              method=\"predict_proba\")\n",
    "\n",
    "time_fit = t1 - t0\n",
    "score = roc_auc_score(y_train, y_pred[:, 1])\n",
    "cv_score = roc_auc_score(y_train, y_pred_cv[:, 1])\n",
    "\n",
    "pd.DataFrame(np.array([time_fit, score, cv_score.mean()]).reshape(1, -1),\n",
    "             columns=['fit time (s)', 'ROC AUC', 'CV ROC AUC'])   "
   ]
  },
  {
   "cell_type": "code",
   "execution_count": null,
   "id": "precious-mixture",
   "metadata": {
    "ExecuteTime": {
     "end_time": "2022-01-06T22:04:22.204630Z",
     "start_time": "2022-01-06T21:58:14.272Z"
    }
   },
   "outputs": [],
   "source": [
    "from sklearn.feature_selection import RFE\n",
    "\n",
    "rfe = RFE(lgbm, n_features_to_select=40, step=5, verbose=1)\n",
    "X_40 = rfe.fit_transform(X_train, y_train)\n",
    "mask_40 = rfe.support_\n",
    "forest.fit(X_40, y_smote)\n",
    "print(f\"{X_40.shape[1]} features: {forest.oob_score_:.2%}\")\n"
   ]
  },
  {
   "cell_type": "markdown",
   "id": "cooperative-colorado",
   "metadata": {},
   "source": [
    "## Fine-Tune the hyperparameters"
   ]
  },
  {
   "cell_type": "markdown",
   "id": "decreased-front",
   "metadata": {},
   "source": [
    "### Random Forest"
   ]
  },
  {
   "cell_type": "code",
   "execution_count": null,
   "id": "subtle-lunch",
   "metadata": {
    "ExecuteTime": {
     "end_time": "2022-01-06T22:04:22.212055Z",
     "start_time": "2022-01-06T21:58:16.931Z"
    }
   },
   "outputs": [],
   "source": [
    "from sklearn.ensemble import RandomForestClassifier\n",
    "\n",
    "cv = StratifiedKFold(5, shuffle=True, random_state=42)\n",
    "forest = RandomForestClassifier(random_state=42,\n",
    "                                bootstrap=True,\n",
    "                                n_jobs=-1)\n",
    "param_grid = {'max_features': np.arange(4, 13)}\n",
    "\n",
    "grid_search = HalvingGridSearchCV(forest, param_grid, cv=cv,\n",
    "                                  n_jobs=-1, verbose=1,\n",
    "                                  random_state=42)\n",
    "grid_search.fit(X_40, y_smote)\n",
    "forest = grid_search.best_estimator_\n",
    "print(grid_search.best_params_)"
   ]
  },
  {
   "cell_type": "markdown",
   "id": "driving-encounter",
   "metadata": {},
   "source": [
    "### XGBoost"
   ]
  },
  {
   "cell_type": "code",
   "execution_count": null,
   "id": "quarterly-naples",
   "metadata": {
    "ExecuteTime": {
     "end_time": "2022-01-06T21:04:55.553560Z",
     "start_time": "2022-01-06T20:16:16.614Z"
    }
   },
   "outputs": [],
   "source": [
    "from sklearn.experimental import enable_halving_search_cv\n",
    "from sklearn.model_selection import HalvingGridSearchCV\n",
    "from xgboost import XGBClassifier\n",
    "\n",
    "cv = StratifiedKFold(3, shuffle=True, random_state=42)\n",
    "xgb = XGBClassifier(n_estimators=100,\n",
    "                    random_state=42)\n",
    "                                                              \n",
    "param_grid = [{'learning_rate': [0.02, 0.05, 0.1, 0.2],\n",
    "              'max_depth': [6, 8, 10, 12, 15, 20]}]\n",
    "grid_search = HalvingGridSearchCV(xgb, param_grid, factor=5,\n",
    "                                  cv=cv, verbose=1,\n",
    "                                  n_jobs=-1, random_state=42)\n",
    "grid_search.fit(X_40, y_smote, eval_metric='logloss')\n",
    "xgb = grid_search.best_estimator_\n",
    "print(grid_search.best_params_)"
   ]
  },
  {
   "cell_type": "code",
   "execution_count": null,
   "id": "identical-blend",
   "metadata": {
    "ExecuteTime": {
     "end_time": "2022-01-06T21:04:55.554442Z",
     "start_time": "2022-01-06T20:16:18.936Z"
    }
   },
   "outputs": [],
   "source": [
    "from sklearn.model_selection import train_test_split\n",
    "\n",
    "# Split the data set into a train and test set\n",
    "# to use early stopping\n",
    "X_gb_train, X_gb_test, y_gb_train, y_gb_test = train_test_split(X_40, y_smote, random_state=42)\n",
    "\n",
    "xgb.fit(X_gb_train, y_gb_train,\n",
    "        eval_set=[(X_gb_test, y_gb_test)],\n",
    "        eval_metric='logloss',\n",
    "        early_stopping_rounds=3,\n",
    "        verbose=False)\n",
    "xgb.n_estimators = xgb.best_iteration + 1\n",
    "print(\"The best iteration is {}\".format(xgb.n_estimators))"
   ]
  },
  {
   "cell_type": "markdown",
   "id": "domestic-notification",
   "metadata": {},
   "source": [
    "### LightGBM"
   ]
  },
  {
   "cell_type": "code",
   "execution_count": null,
   "id": "cathedral-acrobat",
   "metadata": {
    "ExecuteTime": {
     "end_time": "2022-01-06T21:04:55.555265Z",
     "start_time": "2022-01-06T20:16:23.118Z"
    }
   },
   "outputs": [],
   "source": [
    "from lightgbm import LGBMClassifier\n",
    "\n",
    "lgbm = LGBMClassifier(n_estimators=100,\n",
    "                      random_state=42)\n",
    "\n",
    "param_grid = {'learning_rate': [0.02, 0.05, 0.1, 0.2, 0.3],\n",
    "              'max_depth': [6, 8, 10, 12, 15, 20]}\n",
    "grid_search = GridSearchCV(lgbm, param_grid, cv=cv,\n",
    "                           verbose=1, n_jobs=-1)\n",
    "grid_search.fit(X_40, y_smote)\n",
    "lgbm = grid_search.best_estimator_\n",
    "print(grid_search.best_params_)"
   ]
  },
  {
   "cell_type": "code",
   "execution_count": null,
   "id": "fundamental-marker",
   "metadata": {
    "ExecuteTime": {
     "end_time": "2022-01-06T21:04:55.556162Z",
     "start_time": "2022-01-06T20:16:24.414Z"
    }
   },
   "outputs": [],
   "source": [
    "lgbm.fit(X_gb_train, y_gb_train,\n",
    "         eval_set=[(X_gb_test, y_gb_test)],\n",
    "         early_stopping_rounds=3,\n",
    "         verbose=False)\n",
    "lgbm.n_estimators = lgbm.best_iteration_\n",
    "print(\"The best iteration is {}\".format(lgbm.n_estimators))"
   ]
  },
  {
   "cell_type": "markdown",
   "id": "about-highland",
   "metadata": {},
   "source": [
    "### Catboost"
   ]
  },
  {
   "cell_type": "code",
   "execution_count": null,
   "id": "balanced-version",
   "metadata": {
    "ExecuteTime": {
     "end_time": "2022-01-06T18:41:40.655690Z",
     "start_time": "2022-01-06T18:41:04.485Z"
    }
   },
   "outputs": [],
   "source": [
    "from catboost import CatBoostClassifier\n",
    "\n",
    "catboost = CatBoostClassifier(n_estimators=100,\n",
    "                              random_state=42)\n",
    "\n",
    "param_grid = {'learning_rate': [0.02, 0.05, 0.1, 0.2],\n",
    "              'max_depth': [6, 8, 10, 12, 15]}\n",
    "grid_search = HalvingGridSearchCV(catboost, param_grid, factor=5,\n",
    "                                  cv=cv, verbose=1,\n",
    "                                  n_jobs=-1, random_state=42)\n",
    "grid_search.fit(X_40, y_smote, verbose=False)\n",
    "catboost = grid_search.best_estimator_\n",
    "print(grid_search.best_params_)"
   ]
  },
  {
   "cell_type": "markdown",
   "id": "veterinary-horse",
   "metadata": {},
   "source": [
    "### Compare Results"
   ]
  },
  {
   "cell_type": "code",
   "execution_count": null,
   "id": "instructional-discretion",
   "metadata": {
    "ExecuteTime": {
     "end_time": "2022-01-06T18:41:40.656513Z",
     "start_time": "2022-01-06T18:41:04.487Z"
    }
   },
   "outputs": [],
   "source": [
    "# Display the results in a DataFrame\n",
    "models = {'XGBoost Classifier': xgb,\n",
    "          'LightGBM Classifier': lgbm,\n",
    "          'CatBoost Classifier': catboost,\n",
    "          'Random Forest Classifier': forest}\n",
    "compare_models(X_40, y_smote, models)"
   ]
  },
  {
   "cell_type": "markdown",
   "id": "endless-liverpool",
   "metadata": {},
   "source": [
    "Fine tuning hyperparameters leads to a slight improvement of results.  \n",
    "The best model is **Random Forest**."
   ]
  },
  {
   "cell_type": "markdown",
   "id": "imperial-jacksonville",
   "metadata": {},
   "source": [
    "### Best model"
   ]
  },
  {
   "cell_type": "markdown",
   "id": "close-breach",
   "metadata": {},
   "source": [
    "Let's increase the number of tree of the Random Forest to 500 to increase the preformance of the final model."
   ]
  },
  {
   "cell_type": "code",
   "execution_count": null,
   "id": "determined-wings",
   "metadata": {
    "ExecuteTime": {
     "end_time": "2022-01-06T18:41:40.657381Z",
     "start_time": "2022-01-06T18:41:04.489Z"
    }
   },
   "outputs": [],
   "source": [
    "forest.n_estimators = 500\n",
    "print(forest.get_params())\n",
    "compare_models(X_40, y_smote, {'Random Forest Classifier': forest})"
   ]
  },
  {
   "cell_type": "markdown",
   "id": "prospective-summary",
   "metadata": {},
   "source": [
    "## Analyse feature importance with SHAP"
   ]
  }
 ],
 "metadata": {
  "kernelspec": {
   "display_name": "Python 3",
   "language": "python",
   "name": "python3"
  },
  "language_info": {
   "codemirror_mode": {
    "name": "ipython",
    "version": 3
   },
   "file_extension": ".py",
   "mimetype": "text/x-python",
   "name": "python",
   "nbconvert_exporter": "python",
   "pygments_lexer": "ipython3",
   "version": "3.8.5"
  },
  "toc": {
   "base_numbering": 1,
   "nav_menu": {},
   "number_sections": true,
   "sideBar": true,
   "skip_h1_title": true,
   "title_cell": "Table of Contents",
   "title_sidebar": "Contents",
   "toc_cell": true,
   "toc_position": {
    "height": "calc(100% - 180px)",
    "left": "10px",
    "top": "150px",
    "width": "256px"
   },
   "toc_section_display": true,
   "toc_window_display": false
  }
 },
 "nbformat": 4,
 "nbformat_minor": 5
}
